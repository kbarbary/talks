{
 "metadata": {
  "language": "Julia",
  "name": "",
  "signature": "sha256:5ac5ec94bb2a30aa640d638c47a8c35a6ee0a5ae1ee93eb4267e382a641c30fe"
 },
 "nbformat": 3,
 "nbformat_minor": 0,
 "worksheets": [
  {
   "cells": [
    {
     "cell_type": "heading",
     "level": 1,
     "metadata": {},
     "source": [
      "Julia syntax"
     ]
    },
    {
     "cell_type": "markdown",
     "metadata": {},
     "source": [
      "Let's start with a quick overview of the basic syntax, emphasising differences with Python."
     ]
    },
    {
     "cell_type": "markdown",
     "metadata": {},
     "source": [
      "## Variables\n",
      "\n",
      "Variables in Julia are created as in Python, with a simple assignment operation; variable names can be *arbitrary unicode characters*. Many may be entered in LaTeX notation, using tab substitution: type `\\alpha<TAB>`. There is also tab completion on partial names: `\\alp<TAB>`"
     ]
    },
    {
     "cell_type": "code",
     "collapsed": false,
     "input": [
      "x = 3"
     ],
     "language": "python",
     "metadata": {},
     "outputs": [
      {
       "metadata": {},
       "output_type": "pyout",
       "prompt_number": 2,
       "text": [
        "3"
       ]
      }
     ],
     "prompt_number": 2
    },
    {
     "cell_type": "code",
     "collapsed": false,
     "input": [
      "# variables can be any unicode characters\n",
      "\u03b1 = 3; \u03b2 = 10"
     ],
     "language": "python",
     "metadata": {},
     "outputs": [
      {
       "metadata": {},
       "output_type": "pyout",
       "prompt_number": 3,
       "text": [
        "10"
       ]
      }
     ],
     "prompt_number": 3
    },
    {
     "cell_type": "code",
     "collapsed": false,
     "input": [
      "# aside: last result is stored in 'ans' in the REPL/IJulia\n",
      "typeof(ans)"
     ],
     "language": "python",
     "metadata": {},
     "outputs": [
      {
       "metadata": {},
       "output_type": "pyout",
       "prompt_number": 4,
       "text": [
        "Int64"
       ]
      }
     ],
     "prompt_number": 4
    },
    {
     "cell_type": "code",
     "collapsed": false,
     "input": [
      "# There are some convenient built-ins\n",
      "2*\u03c0"
     ],
     "language": "python",
     "metadata": {},
     "outputs": [
      {
       "metadata": {},
       "output_type": "pyout",
       "prompt_number": 5,
       "text": [
        "6.283185307179586"
       ]
      }
     ],
     "prompt_number": 5
    },
    {
     "cell_type": "markdown",
     "metadata": {},
     "source": [
      "## A few primitive datatypes"
     ]
    },
    {
     "cell_type": "code",
     "collapsed": false,
     "input": [
      "x = 3\n",
      "typeof(x)"
     ],
     "language": "python",
     "metadata": {},
     "outputs": [
      {
       "metadata": {},
       "output_type": "pyout",
       "prompt_number": 6,
       "text": [
        "Int64"
       ]
      }
     ],
     "prompt_number": 6
    },
    {
     "cell_type": "code",
     "collapsed": false,
     "input": [
      "y = 3.0\n",
      "typeof(y)"
     ],
     "language": "python",
     "metadata": {},
     "outputs": [
      {
       "metadata": {},
       "output_type": "pyout",
       "prompt_number": 7,
       "text": [
        "Float64"
       ]
      }
     ],
     "prompt_number": 7
    },
    {
     "cell_type": "code",
     "collapsed": false,
     "input": [
      "z = 1. + 3.im\n",
      "typeof(z)"
     ],
     "language": "python",
     "metadata": {},
     "outputs": [
      {
       "metadata": {},
       "output_type": "pyout",
       "prompt_number": 8,
       "text": [
        "Complex{Float64} (constructor with 1 method)"
       ]
      }
     ],
     "prompt_number": 8
    },
    {
     "cell_type": "code",
     "collapsed": false,
     "input": [
      "w = true\n",
      "typeof(w)"
     ],
     "language": "python",
     "metadata": {},
     "outputs": [
      {
       "metadata": {},
       "output_type": "pyout",
       "prompt_number": 9,
       "text": [
        "Bool"
       ]
      }
     ],
     "prompt_number": 9
    },
    {
     "cell_type": "markdown",
     "metadata": {},
     "source": [
      "## Select Mathematical operators"
     ]
    },
    {
     "cell_type": "code",
     "collapsed": false,
     "input": [
      "# division is like in Python 3: Int/Int => Float\n",
      "5 / 2"
     ],
     "language": "python",
     "metadata": {},
     "outputs": [
      {
       "metadata": {},
       "output_type": "pyout",
       "prompt_number": 10,
       "text": [
        "2.5"
       ]
      }
     ],
     "prompt_number": 10
    },
    {
     "cell_type": "code",
     "collapsed": false,
     "input": [
      "# integer division\n",
      "div(5, 2)"
     ],
     "language": "python",
     "metadata": {},
     "outputs": [
      {
       "metadata": {},
       "output_type": "pyout",
       "prompt_number": 11,
       "text": [
        "2"
       ]
      }
     ],
     "prompt_number": 11
    },
    {
     "cell_type": "code",
     "collapsed": false,
     "input": [
      "# power is ^ not **\n",
      "5^2"
     ],
     "language": "python",
     "metadata": {},
     "outputs": [
      {
       "metadata": {},
       "output_type": "pyout",
       "prompt_number": 12,
       "text": [
        "25"
       ]
      }
     ],
     "prompt_number": 12
    },
    {
     "cell_type": "code",
     "collapsed": false,
     "input": [
      "# use ! instead of not\n",
      "!true"
     ],
     "language": "python",
     "metadata": {},
     "outputs": [
      {
       "metadata": {},
       "output_type": "pyout",
       "prompt_number": 13,
       "text": [
        "false"
       ]
      }
     ],
     "prompt_number": 13
    },
    {
     "cell_type": "code",
     "collapsed": false,
     "input": [
      "# Comparisons can be chained (as in python)\n",
      "1 != 2 < 3 < 4"
     ],
     "language": "python",
     "metadata": {},
     "outputs": [
      {
       "metadata": {},
       "output_type": "pyout",
       "prompt_number": 14,
       "text": [
        "true"
       ]
      }
     ],
     "prompt_number": 14
    },
    {
     "cell_type": "markdown",
     "metadata": {},
     "source": [
      "## Strings and printing"
     ]
    },
    {
     "cell_type": "code",
     "collapsed": false,
     "input": [
      "# Strings are double-quoted\n",
      "s = \"This is a string\"\n",
      "\n",
      "# characters are single-quoted\n",
      "c = 'a'"
     ],
     "language": "python",
     "metadata": {},
     "outputs": [
      {
       "metadata": {},
       "output_type": "pyout",
       "prompt_number": 15,
       "text": [
        "'a'"
       ]
      }
     ],
     "prompt_number": 15
    },
    {
     "cell_type": "code",
     "collapsed": false,
     "input": [
      "# String interpolation with $ (can contain any Julia expression!)\n",
      "\"2 + 2 = $(2 + 2)\""
     ],
     "language": "python",
     "metadata": {},
     "outputs": [
      {
       "metadata": {},
       "output_type": "pyout",
       "prompt_number": 16,
       "text": [
        "\"2 + 2 = 4\""
       ]
      }
     ],
     "prompt_number": 16
    },
    {
     "cell_type": "code",
     "collapsed": false,
     "input": [
      "name = \"julia\"\n",
      "\"Hi, I'm $name\""
     ],
     "language": "python",
     "metadata": {},
     "outputs": [
      {
       "metadata": {},
       "output_type": "pyout",
       "prompt_number": 17,
       "text": [
        "\"Hi, I'm julia\""
       ]
      }
     ],
     "prompt_number": 17
    },
    {
     "cell_type": "code",
     "collapsed": false,
     "input": [
      "# more complex expressions are wrapped in parentheses\n",
      "\u03bc = 3\n",
      "\"The sine of $\u03bc is $(sin(\u03bc))\""
     ],
     "language": "python",
     "metadata": {},
     "outputs": [
      {
       "metadata": {},
       "output_type": "pyout",
       "prompt_number": 18,
       "text": [
        "\"The sine of 3 is 0.1411200080598672\""
       ]
      }
     ],
     "prompt_number": 18
    },
    {
     "cell_type": "code",
     "collapsed": false,
     "input": [
      "# println() adds a newline, print() ommits it\n",
      "println(\"x = \", x)\n",
      "println(\"x = $x\")"
     ],
     "language": "python",
     "metadata": {},
     "outputs": [
      {
       "output_type": "stream",
       "stream": "stdout",
       "text": [
        "x = 3"
       ]
      },
      {
       "output_type": "stream",
       "stream": "stdout",
       "text": [
        "\n",
        "x = 3\n"
       ]
      }
     ],
     "prompt_number": 19
    },
    {
     "cell_type": "code",
     "collapsed": false,
     "input": [
      "# formatted printing\n",
      "@printf \"%d is less than %4.2f\" 4.5 5.3"
     ],
     "language": "python",
     "metadata": {},
     "outputs": [
      {
       "output_type": "stream",
       "stream": "stdout",
       "text": [
        "5 is less than 5.30"
       ]
      }
     ],
     "prompt_number": 20
    },
    {
     "cell_type": "markdown",
     "metadata": {},
     "source": [
      "## Functions"
     ]
    },
    {
     "cell_type": "code",
     "collapsed": false,
     "input": [
      "# standard syntax\n",
      "function f(x)\n",
      "    return 2x^2 + 3x + 1\n",
      "end\n",
      "\n",
      "f(3)"
     ],
     "language": "python",
     "metadata": {},
     "outputs": [
      {
       "metadata": {},
       "output_type": "pyout",
       "prompt_number": 21,
       "text": [
        "28"
       ]
      }
     ],
     "prompt_number": 21
    },
    {
     "cell_type": "code",
     "collapsed": false,
     "input": [
      "# one-line syntax\n",
      "f(x) = 2x^2 + 3x + 1\n",
      "g(x) = f(x) - (2x+1) * (x+1)\n",
      "\n",
      "g(3.5)"
     ],
     "language": "python",
     "metadata": {},
     "outputs": [
      {
       "metadata": {},
       "output_type": "pyout",
       "prompt_number": 22,
       "text": [
        "0.0"
       ]
      }
     ],
     "prompt_number": 22
    },
    {
     "cell_type": "markdown",
     "metadata": {},
     "source": [
      "## Arrays: an \"equivalent\" of Python lists *and* NumPy arrays\n",
      "\n",
      "In Python, lists hold heterogeneous types and a numpy array holds homogeneous types.\n",
      "\n",
      "In Julia, these can be unified thanks to the type system."
     ]
    },
    {
     "cell_type": "code",
     "collapsed": false,
     "input": [
      "a = [3, 4, 5]"
     ],
     "language": "python",
     "metadata": {},
     "outputs": [
      {
       "metadata": {},
       "output_type": "pyout",
       "prompt_number": 23,
       "text": [
        "3-element Array{Int64,1}:\n",
        " 3\n",
        " 4\n",
        " 5"
       ]
      }
     ],
     "prompt_number": 23
    },
    {
     "cell_type": "code",
     "collapsed": false,
     "input": [
      "typeof(a)"
     ],
     "language": "python",
     "metadata": {},
     "outputs": [
      {
       "metadata": {},
       "output_type": "pyout",
       "prompt_number": 24,
       "text": [
        "Array{Int64,1}"
       ]
      }
     ],
     "prompt_number": 24
    },
    {
     "cell_type": "markdown",
     "metadata": {},
     "source": [
      "In Julia these objects are called `Array`s. The curly braces indicate type parameters of the `Array` type. The first is the type of element contained in the `Array` (all must be of the same type) and the second the number of dimensions.\n",
      "\n",
      "In NumPy this information is stored in attributes of the object rather than the type itself. Python:\n",
      "\n",
      "```python\n",
      ">>> a = np.array([3, 4, 5])\n",
      ">>> a.dtype\n",
      "dtype('int64')\n",
      ">>> a.ndim\n",
      "1\n",
      "```"
     ]
    },
    {
     "cell_type": "code",
     "collapsed": false,
     "input": [
      "# Array of heterogeneous types (similar to Python list or numpy \"object\" array)\n",
      "[3., \"hello\", 2]"
     ],
     "language": "python",
     "metadata": {},
     "outputs": [
      {
       "metadata": {},
       "output_type": "pyout",
       "prompt_number": 25,
       "text": [
        "3-element Array{Any,1}:\n",
        " 3.0     \n",
        "  \"hello\"\n",
        " 2       "
       ]
      }
     ],
     "prompt_number": 25
    },
    {
     "cell_type": "code",
     "collapsed": false,
     "input": [
      "# [] tries to infer a type, {} is an Any Array\n",
      "{3, 4, 5}"
     ],
     "language": "python",
     "metadata": {},
     "outputs": [
      {
       "metadata": {},
       "output_type": "pyout",
       "prompt_number": 26,
       "text": [
        "3-element Array{Any,1}:\n",
        " 3\n",
        " 4\n",
        " 5"
       ]
      }
     ],
     "prompt_number": 26
    },
    {
     "cell_type": "code",
     "collapsed": false,
     "input": [
      "# There's type promotion to a common type\n",
      "[3., 4, 5]"
     ],
     "language": "python",
     "metadata": {},
     "outputs": [
      {
       "metadata": {},
       "output_type": "pyout",
       "prompt_number": 27,
       "text": [
        "3-element Array{Float64,1}:\n",
        " 3.0\n",
        " 4.0\n",
        " 5.0"
       ]
      }
     ],
     "prompt_number": 27
    },
    {
     "cell_type": "code",
     "collapsed": false,
     "input": [
      "# Explicitly set the type\n",
      "Int64[3., 4, 5]"
     ],
     "language": "python",
     "metadata": {},
     "outputs": [
      {
       "metadata": {},
       "output_type": "pyout",
       "prompt_number": 28,
       "text": [
        "3-element Array{Int64,1}:\n",
        " 3\n",
        " 4\n",
        " 5"
       ]
      }
     ],
     "prompt_number": 28
    },
    {
     "cell_type": "markdown",
     "metadata": {},
     "source": [
      "## Multi-dimensional arrays"
     ]
    },
    {
     "cell_type": "markdown",
     "metadata": {},
     "source": [
      "Square brackets with commas gives a one-dimensional vector. This is printed in a way that treats it as if it were a column vector (although there is in fact no difference between a *one-dimensional* row vector and column vector)."
     ]
    },
    {
     "cell_type": "code",
     "collapsed": false,
     "input": [
      "[1, 2, 3]"
     ],
     "language": "python",
     "metadata": {},
     "outputs": [
      {
       "metadata": {},
       "output_type": "pyout",
       "prompt_number": 29,
       "text": [
        "3-element Array{Int64,1}:\n",
        " 1\n",
        " 2\n",
        " 3"
       ]
      }
     ],
     "prompt_number": 29
    },
    {
     "cell_type": "markdown",
     "metadata": {},
     "source": [
      "To create explicit matrices, Matlab-style notation is used. If we omit the commas, something different happens: we now obtain a *two-dimensional* `Array`, i.e. a matrix, of size $1 \\times n$. [Recall that in the standard notation for matrices, an $m \\times n$ matrix has $m$ *rows* and $n$ *columns*.]"
     ]
    },
    {
     "cell_type": "code",
     "collapsed": false,
     "input": [
      "[1 2 3]"
     ],
     "language": "python",
     "metadata": {},
     "outputs": [
      {
       "metadata": {},
       "output_type": "pyout",
       "prompt_number": 30,
       "text": [
        "1x3 Array{Int64,2}:\n",
        " 1  2  3"
       ]
      }
     ],
     "prompt_number": 30
    },
    {
     "cell_type": "code",
     "collapsed": false,
     "input": [
      "# Semicolon can be used to write 2-d array literals\n",
      "a = [1 2 3;\n",
      "     4 5 6]"
     ],
     "language": "python",
     "metadata": {},
     "outputs": [
      {
       "metadata": {},
       "output_type": "pyout",
       "prompt_number": 31,
       "text": [
        "2x3 Array{Int64,2}:\n",
        " 1  2  3\n",
        " 4  5  6"
       ]
      }
     ],
     "prompt_number": 31
    },
    {
     "cell_type": "code",
     "collapsed": false,
     "input": [
      "# Python-like syntax gives you something different!\n",
      "a = [[1, 2, 3], [4, 5, 6]]"
     ],
     "language": "python",
     "metadata": {},
     "outputs": [
      {
       "metadata": {},
       "output_type": "pyout",
       "prompt_number": 32,
       "text": [
        "6-element Array{Int64,1}:\n",
        " 1\n",
        " 2\n",
        " 3\n",
        " 4\n",
        " 5\n",
        " 6"
       ]
      }
     ],
     "prompt_number": 32
    },
    {
     "cell_type": "code",
     "collapsed": false,
     "input": [
      "# Many numpy-like functions are available for creating arrays:\n",
      "ones((2, 3))\n",
      "zeros((2, 3))\n",
      "trues((2, 3))\n",
      "falses((2, 3))\n",
      "Array(Float64, (2, 3))  # uninitialized\n",
      "# ... and many more."
     ],
     "language": "python",
     "metadata": {},
     "outputs": [
      {
       "metadata": {},
       "output_type": "pyout",
       "prompt_number": 33,
       "text": [
        "2x3 Array{Float64,2}:\n",
        "  2.76292e-148   1.06355e-91   0.0\n",
        " -3.49132e61    -6.57601e-246  0.0"
       ]
      }
     ],
     "prompt_number": 33
    },
    {
     "cell_type": "heading",
     "level": 2,
     "metadata": {},
     "source": [
      "Array Indexing"
     ]
    },
    {
     "cell_type": "markdown",
     "metadata": {},
     "source": [
      "It's different than NumPy!"
     ]
    },
    {
     "cell_type": "code",
     "collapsed": false,
     "input": [
      "# The first item is at index 1, not 0\n",
      "l = [3, 4, 5]\n",
      "l[1]  "
     ],
     "language": "python",
     "metadata": {},
     "outputs": [
      {
       "metadata": {},
       "output_type": "pyout",
       "prompt_number": 34,
       "text": [
        "3"
       ]
      }
     ],
     "prompt_number": 34
    },
    {
     "cell_type": "markdown",
     "metadata": {},
     "source": [
      "The syntax for ranges is similar to that for Python:"
     ]
    },
    {
     "cell_type": "code",
     "collapsed": false,
     "input": [
      "# ranges are inclusive at both ends\n",
      "l[1:2]"
     ],
     "language": "python",
     "metadata": {},
     "outputs": [
      {
       "metadata": {},
       "output_type": "pyout",
       "prompt_number": 35,
       "text": [
        "2-element Array{Int64,1}:\n",
        " 3\n",
        " 4"
       ]
      }
     ],
     "prompt_number": 35
    },
    {
     "cell_type": "code",
     "collapsed": false,
     "input": [
      "# end must be explicit\n",
      "l[2:end]"
     ],
     "language": "python",
     "metadata": {},
     "outputs": [
      {
       "metadata": {},
       "output_type": "pyout",
       "prompt_number": 36,
       "text": [
        "2-element Array{Int64,1}:\n",
        " 4\n",
        " 5"
       ]
      }
     ],
     "prompt_number": 36
    },
    {
     "cell_type": "code",
     "collapsed": false,
     "input": [
      "# indexing from the end\n",
      "l[1:end-1]"
     ],
     "language": "python",
     "metadata": {},
     "outputs": [
      {
       "metadata": {},
       "output_type": "pyout",
       "prompt_number": 37,
       "text": [
        "2-element Array{Int64,1}:\n",
        " 3\n",
        " 4"
       ]
      }
     ],
     "prompt_number": 37
    },
    {
     "cell_type": "code",
     "collapsed": false,
     "input": [
      "# append an element\n",
      "push!(l, 6)"
     ],
     "language": "python",
     "metadata": {},
     "outputs": [
      {
       "metadata": {},
       "output_type": "pyout",
       "prompt_number": 38,
       "text": [
        "4-element Array{Int64,1}:\n",
        " 3\n",
        " 4\n",
        " 5\n",
        " 6"
       ]
      }
     ],
     "prompt_number": 38
    },
    {
     "cell_type": "markdown",
     "metadata": {},
     "source": [
      "Ending a function name with \"!\" is a *convention* to tell the user that the funciton modifies its input(s)."
     ]
    },
    {
     "cell_type": "code",
     "collapsed": false,
     "input": [
      "# types are converted automatically if possible & exact\n",
      "l = [3, 4, 5]\n",
      "push!(l, 12.0)"
     ],
     "language": "python",
     "metadata": {},
     "outputs": [
      {
       "metadata": {},
       "output_type": "pyout",
       "prompt_number": 39,
       "text": [
        "4-element Array{Int64,1}:\n",
        "  3\n",
        "  4\n",
        "  5\n",
        " 12"
       ]
      }
     ],
     "prompt_number": 39
    },
    {
     "cell_type": "markdown",
     "metadata": {},
     "source": [
      "## Array operations\n",
      "\n",
      "Arrays work as mathematical vectors, with the sum of two vectors and scalar multiplication being defined:"
     ]
    },
    {
     "cell_type": "code",
     "collapsed": false,
     "input": [
      "a = [1.1, 2.2, 3.3]\n",
      "b = [4.4, 5.5, 6.6]\n",
      "\n",
      "a + b"
     ],
     "language": "python",
     "metadata": {},
     "outputs": [
      {
       "metadata": {},
       "output_type": "pyout",
       "prompt_number": 40,
       "text": [
        "3-element Array{Float64,1}:\n",
        " 5.5\n",
        " 7.7\n",
        " 9.9"
       ]
      }
     ],
     "prompt_number": 40
    },
    {
     "cell_type": "code",
     "collapsed": false,
     "input": [
      "3.5 * a"
     ],
     "language": "python",
     "metadata": {},
     "outputs": [
      {
       "metadata": {},
       "output_type": "pyout",
       "prompt_number": 41,
       "text": [
        "3-element Array{Float64,1}:\n",
        "  3.85\n",
        "  7.7 \n",
        " 11.55"
       ]
      }
     ],
     "prompt_number": 41
    },
    {
     "cell_type": "markdown",
     "metadata": {},
     "source": [
      "By default, operations are matrix operations, not element-wise!"
     ]
    },
    {
     "cell_type": "code",
     "collapsed": false,
     "input": [
      "# matrix multiply doesn't work on two vectors:\n",
      "a * b"
     ],
     "language": "python",
     "metadata": {},
     "outputs": [
      {
       "ename": "LoadError",
       "evalue": "`*` has no method matching *(::Array{Float64,1}, ::Array{Float64,1})\nwhile loading In[42], in expression starting on line 2",
       "output_type": "pyerr",
       "traceback": [
        "`*` has no method matching *(::Array{Float64,1}, ::Array{Float64,1})\nwhile loading In[42], in expression starting on line 2"
       ]
      }
     ],
     "prompt_number": 42
    },
    {
     "cell_type": "code",
     "collapsed": false,
     "input": [
      "# it works if we transpose a:\n",
      "println(a')\n",
      "a' * b"
     ],
     "language": "python",
     "metadata": {},
     "outputs": [
      {
       "output_type": "stream",
       "stream": "stdout",
       "text": [
        "["
       ]
      },
      {
       "output_type": "stream",
       "stream": "stdout",
       "text": [
        "1.1 2.2 3.3]\n"
       ]
      },
      {
       "metadata": {},
       "output_type": "pyout",
       "prompt_number": 43,
       "text": [
        "1-element Array{Float64,1}:\n",
        " 38.72"
       ]
      }
     ],
     "prompt_number": 43
    },
    {
     "cell_type": "code",
     "collapsed": false,
     "input": [
      "# Instead, there are explicit element-wise operators\n",
      "a .* b"
     ],
     "language": "python",
     "metadata": {},
     "outputs": [
      {
       "metadata": {},
       "output_type": "pyout",
       "prompt_number": 44,
       "text": [
        "3-element Array{Float64,1}:\n",
        "  4.84\n",
        " 12.1 \n",
        " 21.78"
       ]
      }
     ],
     "prompt_number": 44
    },
    {
     "cell_type": "code",
     "collapsed": false,
     "input": [
      "# You can do array-wise operations:\n",
      "a.^2 + b.^2"
     ],
     "language": "python",
     "metadata": {},
     "outputs": [
      {
       "metadata": {},
       "output_type": "pyout",
       "prompt_number": 45,
       "text": [
        "3-element Array{Float64,1}:\n",
        " 20.57\n",
        " 35.09\n",
        " 54.45"
       ]
      }
     ],
     "prompt_number": 45
    },
    {
     "cell_type": "code",
     "collapsed": false,
     "input": [
      "# unicode dot and cross-products\n",
      "a \u22c5 b"
     ],
     "language": "python",
     "metadata": {},
     "outputs": [
      {
       "metadata": {},
       "output_type": "pyout",
       "prompt_number": 46,
       "text": [
        "38.72"
       ]
      }
     ],
     "prompt_number": 46
    },
    {
     "cell_type": "code",
     "collapsed": false,
     "input": [
      "a \u00d7 b"
     ],
     "language": "python",
     "metadata": {},
     "outputs": [
      {
       "metadata": {},
       "output_type": "pyout",
       "prompt_number": 47,
       "text": [
        "3-element Array{Float64,1}:\n",
        " -3.63\n",
        "  7.26\n",
        " -3.63"
       ]
      }
     ],
     "prompt_number": 47
    },
    {
     "cell_type": "markdown",
     "metadata": {},
     "source": [
      "## Array comprehensions\n",
      "\n",
      "There is an equivalent of list comprehensions in Python, as follows. Note that the array construction syntax is quite flexible."
     ]
    },
    {
     "cell_type": "code",
     "collapsed": false,
     "input": [
      "squares = [i^2 for i in [1:2:10, 7]]"
     ],
     "language": "python",
     "metadata": {},
     "outputs": [
      {
       "metadata": {},
       "output_type": "pyout",
       "prompt_number": 48,
       "text": [
        "6-element Array{Any,1}:\n",
        "  1\n",
        "  9\n",
        " 25\n",
        " 49\n",
        " 81\n",
        " 49"
       ]
      }
     ],
     "prompt_number": 48
    },
    {
     "cell_type": "code",
     "collapsed": false,
     "input": [
      "sums = [i+j for i=1:5, j=1:5]"
     ],
     "language": "python",
     "metadata": {},
     "outputs": [
      {
       "metadata": {},
       "output_type": "pyout",
       "prompt_number": 49,
       "text": [
        "5x5 Array{Int64,2}:\n",
        " 2  3  4  5   6\n",
        " 3  4  5  6   7\n",
        " 4  5  6  7   8\n",
        " 5  6  7  8   9\n",
        " 6  7  8  9  10"
       ]
      }
     ],
     "prompt_number": 49
    },
    {
     "cell_type": "markdown",
     "metadata": {},
     "source": [
      "## Special modes: Help & Shell"
     ]
    },
    {
     "cell_type": "code",
     "collapsed": false,
     "input": [
      "help(size)"
     ],
     "language": "python",
     "metadata": {},
     "outputs": [
      {
       "output_type": "stream",
       "stream": "stderr",
       "text": [
        "INFO: Loading help data...\n"
       ]
      },
      {
       "output_type": "stream",
       "stream": "stdout",
       "text": [
        "Base.size(A)\n",
        "\n",
        "   Returns a tuple containing the dimensions of A\n"
       ]
      }
     ],
     "prompt_number": 50
    },
    {
     "cell_type": "code",
     "collapsed": false,
     "input": [
      "# This also works [note the special mode in the command-line REPL]\n",
      "?size"
     ],
     "language": "python",
     "metadata": {},
     "outputs": [
      {
       "ename": "LoadError",
       "evalue": "syntax: extra token \"size\" after end of expression\nwhile loading In[51], in expression starting on line 2",
       "output_type": "pyerr",
       "traceback": [
        "syntax: extra token \"size\" after end of expression\nwhile loading In[51], in expression starting on line 2"
       ]
      }
     ],
     "prompt_number": 51
    },
    {
     "cell_type": "code",
     "collapsed": false,
     "input": [
      "# Shell commands\n",
      ";ls"
     ],
     "language": "python",
     "metadata": {},
     "outputs": [
      {
       "output_type": "stream",
       "stream": "stdout",
       "text": [
        "01-introduction.ipynb\n",
        "02-syntax.ipynb\n",
        "03-functions-and-types.ipynb\n",
        "04-extras.ipynb\n",
        "examples\n",
        "LICENSE\n",
        "README.md\n"
       ]
      }
     ],
     "prompt_number": 52
    },
    {
     "cell_type": "code",
     "collapsed": false,
     "input": [
      "# commands in general\n",
      "run(`echo hello`)"
     ],
     "language": "python",
     "metadata": {},
     "outputs": [
      {
       "output_type": "stream",
       "stream": "stdout",
       "text": [
        "hello\n"
       ]
      }
     ],
     "prompt_number": 53
    },
    {
     "cell_type": "heading",
     "level": 1,
     "metadata": {},
     "source": [
      "Control flow: drop the colon (`:`) and add `end`"
     ]
    },
    {
     "cell_type": "markdown",
     "metadata": {},
     "source": [
      "White space in Julia is *not* significant. Commands on one line can be separated by `;`. Blocks *must* finish with `end`"
     ]
    },
    {
     "cell_type": "code",
     "collapsed": false,
     "input": [
      "i = 0\n",
      "while i < 5 \n",
      "    print(\"$i\\t\")\n",
      "    i += 1\n",
      "end"
     ],
     "language": "python",
     "metadata": {},
     "outputs": [
      {
       "output_type": "stream",
       "stream": "stdout",
       "text": [
        "0\t1\t2\t3\t4\t"
       ]
      }
     ],
     "prompt_number": 54
    },
    {
     "cell_type": "code",
     "collapsed": false,
     "input": [
      "total = 0\n",
      "for i in 1:10\n",
      "    total += i\n",
      "end\n",
      "println(\"Sum is $total\")"
     ],
     "language": "python",
     "metadata": {},
     "outputs": [
      {
       "output_type": "stream",
       "stream": "stdout",
       "text": [
        "Sum is 55\n"
       ]
      }
     ],
     "prompt_number": 55
    },
    {
     "cell_type": "markdown",
     "metadata": {},
     "source": [
      "Here, `1:10` is a *range object* which may be iterated over."
     ]
    },
    {
     "cell_type": "code",
     "collapsed": false,
     "input": [
      "typeof(1:10)"
     ],
     "language": "python",
     "metadata": {},
     "outputs": [
      {
       "metadata": {},
       "output_type": "pyout",
       "prompt_number": 56,
       "text": [
        "UnitRange{Int64} (constructor with 1 method)"
       ]
      }
     ],
     "prompt_number": 56
    },
    {
     "cell_type": "markdown",
     "metadata": {},
     "source": [
      "Use `help` or `?` to get help:"
     ]
    },
    {
     "cell_type": "heading",
     "level": 2,
     "metadata": {},
     "source": [
      "Short-circuit evaluation"
     ]
    },
    {
     "cell_type": "code",
     "collapsed": false,
     "input": [
      "a = 3\n",
      "a < 5 && println(\"Small\")   # evaluate the second statement only if the first is true;  semantics of if-then\n",
      "\n",
      "a > 10 || println(\"Small\")  # semantics of if not-then"
     ],
     "language": "python",
     "metadata": {},
     "outputs": [
      {
       "output_type": "stream",
       "stream": "stdout",
       "text": [
        "Small\n",
        "Small\n"
       ]
      }
     ],
     "prompt_number": 57
    },
    {
     "cell_type": "code",
     "collapsed": false,
     "input": [
      "a == 3 ? println(\"Hello\") : println(\"Not true\")"
     ],
     "language": "python",
     "metadata": {},
     "outputs": [
      {
       "output_type": "stream",
       "stream": "stdout",
       "text": [
        "Hello\n"
       ]
      }
     ],
     "prompt_number": 58
    },
    {
     "cell_type": "markdown",
     "metadata": {},
     "source": [
      "## Tuples"
     ]
    },
    {
     "cell_type": "code",
     "collapsed": false,
     "input": [
      "(1, 2)"
     ],
     "language": "python",
     "metadata": {},
     "outputs": [
      {
       "metadata": {},
       "output_type": "pyout",
       "prompt_number": 59,
       "text": [
        "(1,2)"
       ]
      }
     ],
     "prompt_number": 59
    },
    {
     "cell_type": "code",
     "collapsed": false,
     "input": [
      "typeof(ans)"
     ],
     "language": "python",
     "metadata": {},
     "outputs": [
      {
       "metadata": {},
       "output_type": "pyout",
       "prompt_number": 60,
       "text": [
        "(Int64,Int64)"
       ]
      }
     ],
     "prompt_number": 60
    },
    {
     "cell_type": "code",
     "collapsed": false,
     "input": [
      "a, b = 1, 2"
     ],
     "language": "python",
     "metadata": {},
     "outputs": [
      {
       "metadata": {},
       "output_type": "pyout",
       "prompt_number": 61,
       "text": [
        "(1,2)"
       ]
      }
     ],
     "prompt_number": 61
    },
    {
     "cell_type": "markdown",
     "metadata": {},
     "source": [
      "## Dictionaries"
     ]
    },
    {
     "cell_type": "code",
     "collapsed": false,
     "input": [
      "# Dictionaries store mappings\n",
      "# create an empty dictionary\n",
      "d = Dict()"
     ],
     "language": "python",
     "metadata": {},
     "outputs": [
      {
       "metadata": {},
       "output_type": "pyout",
       "prompt_number": 62,
       "text": [
        "Dict{Any,Any} with 0 entries"
       ]
      }
     ],
     "prompt_number": 62
    },
    {
     "cell_type": "code",
     "collapsed": false,
     "input": [
      "# You can create a dictionary using a literal\n",
      "d = [\"one\"=> 1, \"two\"=> 2, \"three\"=> 3]"
     ],
     "language": "python",
     "metadata": {},
     "outputs": [
      {
       "metadata": {},
       "output_type": "pyout",
       "prompt_number": 63,
       "text": [
        "Dict{ASCIIString,Int64} with 3 entries:\n",
        "  \"two\"   => 2\n",
        "  \"one\"   => 1\n",
        "  \"three\" => 3"
       ]
      }
     ],
     "prompt_number": 63
    },
    {
     "cell_type": "code",
     "collapsed": false,
     "input": [
      "# Look up values with []\n",
      "d[\"one\"]"
     ],
     "language": "python",
     "metadata": {},
     "outputs": [
      {
       "metadata": {},
       "output_type": "pyout",
       "prompt_number": 64,
       "text": [
        "1"
       ]
      }
     ],
     "prompt_number": 64
    },
    {
     "cell_type": "code",
     "collapsed": false,
     "input": [
      "d[\"four\"] = 4"
     ],
     "language": "python",
     "metadata": {},
     "outputs": [
      {
       "metadata": {},
       "output_type": "pyout",
       "prompt_number": 65,
       "text": [
        "4"
       ]
      }
     ],
     "prompt_number": 65
    },
    {
     "cell_type": "code",
     "collapsed": false,
     "input": [
      "# Get all keys\n",
      "keys(d)"
     ],
     "language": "python",
     "metadata": {},
     "outputs": [
      {
       "metadata": {},
       "output_type": "pyout",
       "prompt_number": 66,
       "text": [
        "KeyIterator for a Dict{ASCIIString,Int64} with 4 entries. Keys:\n",
        "  \"two\"\n",
        "  \"four\"\n",
        "  \"one\"\n",
        "  \"three\""
       ]
      }
     ],
     "prompt_number": 66
    },
    {
     "cell_type": "code",
     "collapsed": false,
     "input": [
      "# Get all values\n",
      "values(d)"
     ],
     "language": "python",
     "metadata": {},
     "outputs": [
      {
       "metadata": {},
       "output_type": "pyout",
       "prompt_number": 67,
       "text": [
        "ValueIterator for a Dict{ASCIIString,Int64} with 4 entries. Values:\n",
        "  2\n",
        "  4\n",
        "  1\n",
        "  3"
       ]
      }
     ],
     "prompt_number": 67
    },
    {
     "cell_type": "markdown",
     "metadata": {},
     "source": [
      "## File I/O\n",
      "\n",
      "Simple file input and output is easy:"
     ]
    },
    {
     "cell_type": "code",
     "collapsed": false,
     "input": [
      "outfile = open(\"test.txt\", \"w\")"
     ],
     "language": "python",
     "metadata": {},
     "outputs": [
      {
       "metadata": {},
       "output_type": "pyout",
       "prompt_number": 68,
       "text": [
        "IOStream(<file test.txt>)"
       ]
      }
     ],
     "prompt_number": 68
    },
    {
     "cell_type": "code",
     "collapsed": false,
     "input": [
      "for i in 1:10\n",
      "    println(outfile, \"The value of i is $i\")\n",
      "end\n",
      "\n",
      "close(outfile)"
     ],
     "language": "python",
     "metadata": {},
     "outputs": [],
     "prompt_number": 69
    },
    {
     "cell_type": "code",
     "collapsed": false,
     "input": [
      ";cat test.txt"
     ],
     "language": "python",
     "metadata": {},
     "outputs": [
      {
       "output_type": "stream",
       "stream": "stdout",
       "text": [
        "The value of i is 1\n",
        "The value of i is 2\n",
        "The value of i is 3\n",
        "The value of i is 4\n",
        "The value of i is 5\n",
        "The value of i is 6\n",
        "The value of i is 7\n",
        "The value of i is 8\n",
        "The value of i is 9\n",
        "The value of i is 10\n"
       ]
      }
     ],
     "prompt_number": 70
    },
    {
     "cell_type": "code",
     "collapsed": false,
     "input": [
      "infile = open(\"test.txt\", \"r\")"
     ],
     "language": "python",
     "metadata": {},
     "outputs": [
      {
       "metadata": {},
       "output_type": "pyout",
       "prompt_number": 71,
       "text": [
        "IOStream(<file test.txt>)"
       ]
      }
     ],
     "prompt_number": 71
    },
    {
     "cell_type": "code",
     "collapsed": false,
     "input": [
      "lines = readlines(infile)"
     ],
     "language": "python",
     "metadata": {},
     "outputs": [
      {
       "metadata": {},
       "output_type": "pyout",
       "prompt_number": 72,
       "text": [
        "10-element Array{Union(ASCIIString,UTF8String),1}:\n",
        " \"The value of i is 1\\n\" \n",
        " \"The value of i is 2\\n\" \n",
        " \"The value of i is 3\\n\" \n",
        " \"The value of i is 4\\n\" \n",
        " \"The value of i is 5\\n\" \n",
        " \"The value of i is 6\\n\" \n",
        " \"The value of i is 7\\n\" \n",
        " \"The value of i is 8\\n\" \n",
        " \"The value of i is 9\\n\" \n",
        " \"The value of i is 10\\n\""
       ]
      }
     ],
     "prompt_number": 72
    },
    {
     "cell_type": "code",
     "collapsed": false,
     "input": [
      "x = rand(5,5)"
     ],
     "language": "python",
     "metadata": {},
     "outputs": [
      {
       "metadata": {},
       "output_type": "pyout",
       "prompt_number": 73,
       "text": [
        "5x5 Array{Float64,2}:\n",
        " 0.25906   0.215512   0.498885   0.425257  0.416278\n",
        " 0.487686  0.0887436  0.451371   0.019057  0.926032\n",
        " 0.233973  0.922199   0.214932   0.973269  0.563491\n",
        " 0.883769  0.0675228  0.0178576  0.106735  0.416339\n",
        " 0.369042  0.9504     0.872751   0.93701   0.285222"
       ]
      }
     ],
     "prompt_number": 73
    },
    {
     "cell_type": "code",
     "collapsed": false,
     "input": [
      "# There's a basic built-in text file reader and writer\n",
      "writedlm(\"random.txt\", x)\n",
      ";cat random.txt\n"
     ],
     "language": "python",
     "metadata": {},
     "outputs": [
      {
       "output_type": "stream",
       "stream": "stdout",
       "text": [
        ".2590595698665772\t.21551195987649097\t.4988846390298114\t.42525734015976036\t.41627789412838045\n",
        ".487685951792334\t.08874356165204134\t.4513706163129305\t.019056966173756962\t.9260324034165748\n",
        ".23397303717723195\t.9221989388851104\t.21493198646998213\t.9732689456024068\t.563490581630379\n",
        ".8837688763851883\t.06752278672835099\t.01785761869316227\t.10673531281931803\t.41633899974636446\n",
        ".36904240542544753\t.9503997295677604\t.8727508660473071\t.9370102681653913\t.28522198435569757\n"
       ]
      }
     ],
     "prompt_number": 74
    },
    {
     "cell_type": "code",
     "collapsed": false,
     "input": [
      "y = readdlm(\"random.txt\")  # note that tab completion works for files"
     ],
     "language": "python",
     "metadata": {},
     "outputs": [
      {
       "metadata": {},
       "output_type": "pyout",
       "prompt_number": 75,
       "text": [
        "5x5 Array{Float64,2}:\n",
        " 0.25906   0.215512   0.498885   0.425257  0.416278\n",
        " 0.487686  0.0887436  0.451371   0.019057  0.926032\n",
        " 0.233973  0.922199   0.214932   0.973269  0.563491\n",
        " 0.883769  0.0675228  0.0178576  0.106735  0.416339\n",
        " 0.369042  0.9504     0.872751   0.93701   0.285222"
       ]
      }
     ],
     "prompt_number": 75
    },
    {
     "cell_type": "code",
     "collapsed": false,
     "input": [
      "# clean uup\n",
      ";rm random.txt\n",
      ";rm test.txt"
     ],
     "language": "python",
     "metadata": {},
     "outputs": [],
     "prompt_number": 76
    }
   ],
   "metadata": {}
  }
 ]
}