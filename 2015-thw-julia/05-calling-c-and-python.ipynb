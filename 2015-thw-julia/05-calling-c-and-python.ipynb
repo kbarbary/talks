{
 "metadata": {
  "language": "Julia",
  "name": "",
  "signature": "sha256:8ce3c76862d3870b52ad8d762d9055a1113b65cac74759a5ad00cd19d20425a0"
 },
 "nbformat": 3,
 "nbformat_minor": 0,
 "worksheets": [
  {
   "cells": [
    {
     "cell_type": "markdown",
     "metadata": {},
     "source": [
      "# Calling C and Fortran\n",
      "\n",
      "You can call external compiled code directly from Julia using `ccall`."
     ]
    },
    {
     "cell_type": "code",
     "collapsed": false,
     "input": [
      "# C signature:\n",
      "# char *getenv(const char *name)\n",
      "#\n",
      "# Julia syntax:\n",
      "#      ccall(function, return_type, (input_type, intput_type, ...), input_value, input_value, ...)   \n",
      "#\n",
      "path = ccall(:getenv, Ptr{Uint8}, (Ptr{Uint8},), \"SHELL\")\n",
      "bytestring(path)"
     ],
     "language": "python",
     "metadata": {},
     "outputs": [
      {
       "metadata": {},
       "output_type": "pyout",
       "prompt_number": 2,
       "text": [
        "\"/bin/bash\""
       ]
      }
     ],
     "prompt_number": 2
    },
    {
     "cell_type": "code",
     "collapsed": false,
     "input": [
      "# call from any shared library (.so, .dylib, .dll)\n",
      "mysin(x::Any) = ccall((:sin,\"libm\"), Cdouble, (Cdouble,), x)"
     ],
     "language": "python",
     "metadata": {},
     "outputs": [
      {
       "metadata": {},
       "output_type": "pyout",
       "prompt_number": 3,
       "text": [
        "mysin (generic function with 1 method)"
       ]
      }
     ],
     "prompt_number": 3
    },
    {
     "cell_type": "code",
     "collapsed": false,
     "input": [
      "mysin(3.0)"
     ],
     "language": "python",
     "metadata": {},
     "outputs": [
      {
       "metadata": {},
       "output_type": "pyout",
       "prompt_number": 4,
       "text": [
        "0.1411200080598672"
       ]
      }
     ],
     "prompt_number": 4
    },
    {
     "cell_type": "code",
     "collapsed": false,
     "input": [
      "# ccall automatically converts the types (if possible)\n",
      "mysin(3)"
     ],
     "language": "python",
     "metadata": {},
     "outputs": [
      {
       "metadata": {},
       "output_type": "pyout",
       "prompt_number": 5,
       "text": [
        "0.1411200080598672"
       ]
      }
     ],
     "prompt_number": 5
    },
    {
     "cell_type": "code",
     "collapsed": false,
     "input": [
      "code_native(mysin, (Float64,))"
     ],
     "language": "python",
     "metadata": {},
     "outputs": [
      {
       "output_type": "stream",
       "stream": "stdout",
       "text": [
        "\t.text\n",
        "Filename: In[3]\n",
        "Source line: 2\n",
        "\tpush\tRBP\n",
        "\tmov\tRBP, RSP\n",
        "\tmovabs\tRAX, 140560087283456\n",
        "Source line: 2\n",
        "\tcall\tRAX\n",
        "\tpop\tRBP\n",
        "\tret\n"
       ]
      }
     ],
     "prompt_number": 6
    },
    {
     "cell_type": "code",
     "collapsed": false,
     "input": [
      "# The standard library uses ccall as well\n",
      "@which sin(3.)"
     ],
     "language": "python",
     "metadata": {},
     "outputs": [
      {
       "html": [
        "sin(x::<b>Float64</b>) at <a href=\"https://github.com/JuliaLang/julia/tree/cb9bcae93a32b42cec02585c387396ff11836aed/base/math.jl#L122\" target=\"_blank\">math.jl:122</a>"
       ],
       "metadata": {},
       "output_type": "pyout",
       "prompt_number": 7,
       "text": [
        "sin(x::Float64) at math.jl:122"
       ]
      }
     ],
     "prompt_number": 7
    },
    {
     "cell_type": "code",
     "collapsed": false,
     "input": [
      "# Code can be \"vectorized\" on the Julia side.\n",
      "mysin(x::Array{Float64, 1}) = [mysin(xi) for xi in x]"
     ],
     "language": "python",
     "metadata": {},
     "outputs": [
      {
       "metadata": {},
       "output_type": "pyout",
       "prompt_number": 8,
       "text": [
        "mysin (generic function with 2 methods)"
       ]
      }
     ],
     "prompt_number": 8
    },
    {
     "cell_type": "code",
     "collapsed": false,
     "input": [
      "mysin(\"hi\")"
     ],
     "language": "python",
     "metadata": {},
     "outputs": [
      {
       "ename": "LoadError",
       "evalue": "`convert` has no method matching convert(::Type{Float64}, ::ASCIIString)\nwhile loading In[10], in expression starting on line 1",
       "output_type": "pyerr",
       "traceback": [
        "`convert` has no method matching convert(::Type{Float64}, ::ASCIIString)\nwhile loading In[10], in expression starting on line 1",
        " in mysin at In[3]:2"
       ]
      }
     ],
     "prompt_number": 10
    },
    {
     "cell_type": "code",
     "collapsed": false,
     "input": [
      "# There are macros to reduce boilerplate\n",
      "@vectorize_1arg Real mysin"
     ],
     "language": "python",
     "metadata": {},
     "outputs": [
      {
       "metadata": {},
       "output_type": "pyout",
       "prompt_number": 11,
       "text": [
        "mysin (generic function with 5 methods)"
       ]
      }
     ],
     "prompt_number": 11
    },
    {
     "cell_type": "code",
     "collapsed": false,
     "input": [
      "methods(mysin)"
     ],
     "language": "python",
     "metadata": {},
     "outputs": [
      {
       "html": [
        "5 methods for generic function <b>mysin</b>:<ul><li> mysin(x::<b>Array{Float64,1}</b>) at In[8]:2<li> mysin<i>{T<:Real}</i>(::<b>AbstractArray{T<:Real,1}</b>) at <a href=\"file:///usr/bin/../share/julia/base/operators.jl\" target=\"_blank\">operators.jl:359</a><li> mysin<i>{T<:Real}</i>(::<b>AbstractArray{T<:Real,2}</b>) at <a href=\"file:///usr/bin/../share/julia/base/operators.jl\" target=\"_blank\">operators.jl:360</a><li> mysin<i>{T<:Real}</i>(::<b>AbstractArray{T<:Real,N}</b>) at <a href=\"file:///usr/bin/../share/julia/base/operators.jl\" target=\"_blank\">operators.jl:362</a><li> mysin(x) at In[3]:2</ul>"
       ],
       "metadata": {},
       "output_type": "pyout",
       "prompt_number": 12,
       "text": [
        "# 5 methods for generic function \"mysin\":\n",
        "mysin(x::Array{Float64,1}) at In[8]:2\n",
        "mysin{T<:Real}(::AbstractArray{T<:Real,1}) at operators.jl:359\n",
        "mysin{T<:Real}(::AbstractArray{T<:Real,2}) at operators.jl:360\n",
        "mysin{T<:Real}(::AbstractArray{T<:Real,N}) at operators.jl:362\n",
        "mysin(x) at In[3]:2"
       ]
      }
     ],
     "prompt_number": 12
    },
    {
     "cell_type": "markdown",
     "metadata": {},
     "source": [
      "# Calling Python"
     ]
    },
    {
     "cell_type": "code",
     "collapsed": false,
     "input": [
      "using PyCall"
     ],
     "language": "python",
     "metadata": {},
     "outputs": [],
     "prompt_number": 13
    },
    {
     "cell_type": "code",
     "collapsed": false,
     "input": [
      "# you've got numpy\n",
      "@pyimport numpy as np\n",
      "x = [-100, 39, 59, 55, 20]\n",
      "np.cumsum(x)"
     ],
     "language": "python",
     "metadata": {},
     "outputs": []
    },
    {
     "cell_type": "code",
     "collapsed": false,
     "input": [
      "# you've got scipy\n",
      "@pyimport scipy.optimize as so\n",
      "function f(x)\n",
      "    println(\"   calling f($x)\")\n",
      "    cos(x) - x\n",
      "end\n",
      "so.newton(f, 1.2)"
     ],
     "language": "python",
     "metadata": {},
     "outputs": [
      {
       "output_type": "stream",
       "stream": "stdout",
       "text": [
        "   calling f(1.2)\n"
       ]
      },
      {
       "output_type": "stream",
       "stream": "stdout",
       "text": [
        "   calling f(1.2002199999999998)\n",
        "   calling f(0.7664554749111869)\n",
        "   calling f(0.7412167885608414)\n",
        "   calling f(0.7390978176492645)\n",
        "   calling f(0.7390851391787693)\n"
       ]
      },
      {
       "metadata": {},
       "output_type": "pyout",
       "prompt_number": 14,
       "text": [
        "0.7390851332151773"
       ]
      }
     ],
     "prompt_number": 14
    },
    {
     "cell_type": "code",
     "collapsed": false,
     "input": [
      "# even matplotlib\n",
      "using PyPlot"
     ],
     "language": "python",
     "metadata": {},
     "outputs": []
    },
    {
     "cell_type": "code",
     "collapsed": false,
     "input": [
      "x = linspace(0,2\u03c0,1000)\n",
      "fig = plot(x, sin(3x + cos(5x)), \"b--\")\n",
      "title(\"a funny plot\")\n",
      "fig = PyPlot.gcf()"
     ],
     "language": "python",
     "metadata": {},
     "outputs": []
    },
    {
     "cell_type": "markdown",
     "metadata": {},
     "source": [
      "## Macros (\"metaprogramming\")\n",
      "\n",
      "Macros are functions operate on expressions (code) rather than values: whereas a function takes input value(s), say `3` and returns some output value, say 9, a macro takes input expression(s), say `x` and returns an output expression, say `x^2`.\n",
      "\n",
      "One might also say that macros rewrite or generate code.\n",
      "\n",
      "Here is an example of why we might want to do this:"
     ]
    },
    {
     "cell_type": "code",
     "collapsed": false,
     "input": [
      "x = rand(5)\n",
      "\n",
      "# suppose we want to time an element-wise square\n",
      "t1 = time_ns()\n",
      "x.^2\n",
      "t2 = time_ns()\n",
      "println(t2-t1, \" nanoseconds\")"
     ],
     "language": "python",
     "metadata": {},
     "outputs": [
      {
       "output_type": "stream",
       "stream": "stdout",
       "text": [
        "8666325 nanoseconds"
       ]
      },
      {
       "output_type": "stream",
       "stream": "stdout",
       "text": [
        "\n"
       ]
      }
     ],
     "prompt_number": 1
    },
    {
     "cell_type": "code",
     "collapsed": false,
     "input": [
      "@time x.^2"
     ],
     "language": "python",
     "metadata": {},
     "outputs": []
    },
    {
     "cell_type": "code",
     "collapsed": false,
     "input": [
      "macroexpand(:(@time x.^2))"
     ],
     "language": "python",
     "metadata": {},
     "outputs": []
    }
   ],
   "metadata": {}
  }
 ]
}