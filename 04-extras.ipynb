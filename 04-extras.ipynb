{
 "metadata": {
  "language": "Julia",
  "name": "",
  "signature": "sha256:2642630dc0da747a8c9bf4c60a093aec5c5efd3f58afe5994490e2cc3710f8e6"
 },
 "nbformat": 3,
 "nbformat_minor": 0,
 "worksheets": [
  {
   "cells": [
    {
     "cell_type": "markdown",
     "metadata": {},
     "source": [
      "# Extra Features"
     ]
    },
    {
     "cell_type": "markdown",
     "metadata": {},
     "source": [
      "## Packages\n",
      "\n",
      "There's a rapidly growing package ecosystem. See http://pkg.julialang.org"
     ]
    },
    {
     "cell_type": "markdown",
     "metadata": {},
     "source": [
      "## Macros (\"metaprogramming\")\n",
      "\n",
      "Macros are functions operate on expressions (code) rather than values: whereas a function takes input value(s), say `3` and returns some output value, say 9, a macro takes input expression(s), say `x` and returns an output expression, say `x^2`.\n",
      "\n",
      "One might also say that macros rewrite or generate code.\n",
      "\n",
      "Here is an example of why we might want to do this:"
     ]
    },
    {
     "cell_type": "code",
     "collapsed": false,
     "input": [
      "x = rand(1000)\n",
      "\n",
      "# suppose we want to time an element-wise square\n",
      "t1 = time_ns()\n",
      "x.^2\n",
      "t2 = time_ns()\n",
      "println(t2-t1, \" nanoseconds\")"
     ],
     "language": "python",
     "metadata": {},
     "outputs": [
      {
       "output_type": "stream",
       "stream": "stdout",
       "text": [
        "643090 nanoseconds"
       ]
      },
      {
       "output_type": "stream",
       "stream": "stdout",
       "text": [
        "\n"
       ]
      }
     ],
     "prompt_number": 14
    },
    {
     "cell_type": "code",
     "collapsed": false,
     "input": [
      "@time x.^2"
     ],
     "language": "python",
     "metadata": {},
     "outputs": [
      {
       "output_type": "stream",
       "stream": "stdout",
       "text": [
        "elapsed time: 0."
       ]
      },
      {
       "output_type": "stream",
       "stream": "stdout",
       "text": [
        "000939488 seconds (15124 bytes allocated)\n"
       ]
      },
      {
       "metadata": {},
       "output_type": "pyout",
       "prompt_number": 3,
       "text": [
        "1000-element Array{Float64,1}:\n",
        " 0.238765  \n",
        " 0.00171926\n",
        " 0.445862  \n",
        " 0.369784  \n",
        " 0.665369  \n",
        " 0.286594  \n",
        " 0.669363  \n",
        " 0.0483099 \n",
        " 0.00993044\n",
        " 0.0220242 \n",
        " 0.384709  \n",
        " 0.757478  \n",
        " 0.0449714 \n",
        " \u22ee         \n",
        " 0.585335  \n",
        " 0.951689  \n",
        " 0.822872  \n",
        " 0.798793  \n",
        " 0.338097  \n",
        " 0.00557547\n",
        " 0.49728   \n",
        " 0.862503  \n",
        " 0.441321  \n",
        " 6.90839e-6\n",
        " 0.0117549 \n",
        " 0.455497  "
       ]
      }
     ],
     "prompt_number": 3
    },
    {
     "cell_type": "code",
     "collapsed": false,
     "input": [
      "macroexpand(:(@time x.^2))"
     ],
     "language": "python",
     "metadata": {},
     "outputs": [
      {
       "metadata": {},
       "output_type": "pyout",
       "prompt_number": 13,
       "text": [
        "quote  # util.jl, line 53:\n",
        "    local #289#b0 = Base.gc_bytes() # line 54:\n",
        "    local #290#t0 = Base.time_ns() # line 55:\n",
        "    local #291#g0 = Base.gc_time_ns() # line 56:\n",
        "    local #292#val = x.^2 # line 57:\n",
        "    local #293#g1 = Base.gc_time_ns() # line 58:\n",
        "    local #294#t1 = Base.time_ns() # line 59:\n",
        "    local #295#b1 = Base.gc_bytes() # line 60:\n",
        "    Base.time_print(Base.-(#294#t1,#290#t0),Base.-(#295#b1,#289#b0),Base.-(#293#g1,#291#g0)) # line 61:\n",
        "    #292#val\n",
        "end"
       ]
      }
     ],
     "prompt_number": 13
    },
    {
     "cell_type": "markdown",
     "metadata": {},
     "source": [
      "Macros can also be used to generate repetitive blocks of code. This is used extensively in the packages that wrap C code.\n",
      "\n",
      "For example:"
     ]
    },
    {
     "cell_type": "code",
     "collapsed": false,
     "input": [
      "using FITSIO"
     ],
     "language": "python",
     "metadata": {},
     "outputs": [],
     "prompt_number": 16
    },
    {
     "cell_type": "code",
     "collapsed": false,
     "input": [
      "methods(fits_open_file)"
     ],
     "language": "python",
     "metadata": {},
     "outputs": [
      {
       "html": [
        "2 methods for generic function <b>fits_open_file</b>:<ul><li> fits_open_file(filename::<b>String</b>) at <a href=\"https://github.com/kbarbary/FITSIO.jl/tree/8c51c739b70cf751cad50c689ce0913cf1be589a/src/cfitsio.jl#L122\" target=\"_blank\">/home/kyle/.julia/v0.3/FITSIO/src/cfitsio.jl:122</a><li> fits_open_file(filename::<b>String</b>,mode::<b>Int64</b>) at <a href=\"https://github.com/kbarbary/FITSIO.jl/tree/8c51c739b70cf751cad50c689ce0913cf1be589a/src/cfitsio.jl#L122\" target=\"_blank\">/home/kyle/.julia/v0.3/FITSIO/src/cfitsio.jl:122</a></ul>"
       ],
       "metadata": {},
       "output_type": "pyout",
       "prompt_number": 17,
       "text": [
        "# 2 methods for generic function \"fits_open_file\":\n",
        "fits_open_file(filename::String) at /home/kyle/.julia/v0.3/FITSIO/src/cfitsio.jl:122\n",
        "fits_open_file(filename::String,mode::Int64) at /home/kyle/.julia/v0.3/FITSIO/src/cfitsio.jl:122"
       ]
      }
     ],
     "prompt_number": 17
    },
    {
     "cell_type": "markdown",
     "metadata": {},
     "source": [
      "## Calling C code"
     ]
    },
    {
     "cell_type": "code",
     "collapsed": false,
     "input": [],
     "language": "python",
     "metadata": {},
     "outputs": []
    },
    {
     "cell_type": "markdown",
     "metadata": {},
     "source": [
      "# Wrapping up: What's the catch?\n",
      "\n",
      "* Julia limits slightly what you can do (but you probably won't notice).\n",
      "* Julia trades codespace (memory footprint of the code itself) for speed (a reasonable tradeoff).\n",
      "* Start-up time is not as fast as interpreted languages: Julia is not as good for very short scripts\n",
      "\n",
      "# Caveats for the user\n",
      "\n",
      "* Julia is a still-evolving language at version 0.3. (You may have to update parts of your code with every new release.)\n",
      "* The package ecosystem is still quite small (but growing rapidly).\n"
     ]
    },
    {
     "cell_type": "code",
     "collapsed": false,
     "input": [],
     "language": "python",
     "metadata": {},
     "outputs": []
    }
   ],
   "metadata": {}
  }
 ]
}