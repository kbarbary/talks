{
 "metadata": {
  "language": "Julia",
  "name": "",
  "signature": "sha256:f38e30b4d5486f84a6e4b4b1036c1248a5de42a933bf817ea69990c8016d6131"
 },
 "nbformat": 3,
 "nbformat_minor": 0,
 "worksheets": [
  {
   "cells": [
    {
     "cell_type": "markdown",
     "metadata": {},
     "source": [
      "# Why Julia?\n",
      "\n",
      "# Or: DIRHTLYAPL\n",
      "\n",
      "## (\"Do I Really Have To Learn Yet Another Programming Language??\")\n",
      "\n",
      "### Kyle Barbary\n",
      "\n",
      "**Cosmology Data Science Fellow**  \n",
      "**UC-Berkeley, LBNL**\n",
      "\n",
      "**Twitter: @kylebarbary**  \n",
      "**GitHub: @kbarbary**\n",
      "\n",
      "Thanks to David P. Sanders for title, inspiration and much content.  \n",
      "See his Julia tutorial at SciPy 2014 here: https://github.com/dpsanders/scipy_2014_julia"
     ]
    },
    {
     "cell_type": "markdown",
     "metadata": {},
     "source": [
      "# Advantage of Julia\n",
      "\n",
      "* High-level and easy to learn\n",
      "* Fast (within ~2x C speed)\n",
      "\n",
      "*Avoids the \"two language problem\"* (most of the standard library is written in Julia: \"users are developers\")"
     ]
    },
    {
     "cell_type": "code",
     "collapsed": false,
     "input": [
      "function calculate_pi(n)\n",
      "    tot = 0\n",
      "    for i = 1:n\n",
      "        x = rand()\n",
      "        y = rand()\n",
      "        if x^2 + y^2 < 1.0\n",
      "            tot += 1\n",
      "        end\n",
      "    end\n",
      "    return 4.0 * (tot / n)\n",
      "end"
     ],
     "language": "python",
     "metadata": {},
     "outputs": [
      {
       "metadata": {},
       "output_type": "pyout",
       "prompt_number": 1,
       "text": [
        "calculate_pi (generic function with 1 method)"
       ]
      }
     ],
     "prompt_number": 1
    },
    {
     "cell_type": "code",
     "collapsed": false,
     "input": [
      "calculate_pi(1000000.0)"
     ],
     "language": "python",
     "metadata": {},
     "outputs": [
      {
       "metadata": {},
       "output_type": "pyout",
       "prompt_number": 6,
       "text": [
        "3.141092"
       ]
      }
     ],
     "prompt_number": 6
    },
    {
     "cell_type": "code",
     "collapsed": false,
     "input": [
      "@time calculate_pi(1000000)"
     ],
     "language": "python",
     "metadata": {},
     "outputs": [
      {
       "output_type": "stream",
       "stream": "stdout",
       "text": [
        "elapsed time: 0."
       ]
      },
      {
       "output_type": "stream",
       "stream": "stdout",
       "text": [
        "018396916 seconds (96 bytes allocated)\n"
       ]
      },
      {
       "metadata": {},
       "output_type": "pyout",
       "prompt_number": 4,
       "text": [
        "3.142772"
       ]
      }
     ],
     "prompt_number": 4
    },
    {
     "cell_type": "markdown",
     "metadata": {},
     "source": [
      "# How?\n",
      "\n",
      "Code is compiled to native machine code just-in-time (JIT).\n",
      "\n",
      "* Functions are compiled for the specific input type(s)\n",
      "* You can write a function once and have it apply multiple input types: \"generic programming\"\n",
      "* Just like a compiled language, the compiler can perform optimizations"
     ]
    },
    {
     "cell_type": "code",
     "collapsed": false,
     "input": [
      "code_native(calculate_pi, (Int,))"
     ],
     "language": "python",
     "metadata": {},
     "outputs": [
      {
       "output_type": "stream",
       "stream": "stdout",
       "text": [
        "\t.text\n",
        "Filename: In[1]\n",
        "Source line: 4\n",
        "\tpush\tRBP\n",
        "\tmov\tRBP, RSP\n",
        "\tpush\tR15\n",
        "\tpush\tR14\n",
        "\tpush\tR12\n",
        "\tpush\tRBX\n",
        "\tsub\tRSP, 16\n",
        "\tmov\tR14, RDI\n",
        "\txor\tR12D, R12D\n",
        "\ttest\tR14, R14\n",
        "\tjle\t87\n",
        "\tmovabs\tR15, 139652734009248\n",
        "\tmovabs\tRAX, 139652836456976\n",
        "\tmovsd\tXMM0, QWORD PTR [RAX]\n",
        "\tmovsd\tQWORD PTR [RBP - 48], XMM0\n",
        "\tmov\tRBX, R14\n",
        "Source line: 4\n",
        "\tcall\tR15\n",
        "\tmovsd\tQWORD PTR [RBP - 40], XMM0\n",
        "Source line: 5\n",
        "\tcall\tR15\n",
        "\tmovsd\tXMM1, QWORD PTR [RBP - 40]\n",
        "Source line: 6\n",
        "\tmulsd\tXMM1, XMM1\n",
        "\tmulsd\tXMM0, XMM0\n",
        "\taddsd\tXMM0, XMM1\n",
        "\tmovsd\tXMM1, QWORD PTR [RBP - 48]\n",
        "\tucomisd\tXMM1, XMM0\n",
        "\tjbe\t3\n",
        "Source line: 7\n",
        "\tinc\tR12\n",
        "\tdec\tRBX\n",
        "\tjne\t-55\n",
        "Source line: 10\n",
        "\txorps\tXMM1, XMM1\n",
        "\tcvtsi2sd\tXMM1, R14\n",
        "\txorps\tXMM0, XMM0\n",
        "\tcvtsi2sd\tXMM0, R12\n",
        "\tdivsd\tXMM0, XMM1\n",
        "\tmovabs\tRAX, 139652836456984\n",
        "\tmulsd\tXMM0, QWORD PTR [RAX]\n",
        "\tadd\tRSP, 16\n",
        "\tpop\tRBX\n",
        "\tpop\tR12\n",
        "\tpop\tR14\n",
        "\tpop\tR15\n",
        "\tpop\tRBP\n",
        "\tret\n"
       ]
      }
     ],
     "prompt_number": 5
    },
    {
     "cell_type": "markdown",
     "metadata": {
      "slideshow": {
       "slide_type": "subslide"
      }
     },
     "source": [
      "# More on Julia\n",
      "\n",
      "- has a sophisticated type system\n",
      "  (but it is not *necessary* to talk about types)\n",
      "\n",
      "- has *multiple dispatch*: functions specialised on the types of their arguments\n",
      "\n",
      "- has sophisticated *metaprogramming* (macros) for generating code programatically\n",
      "\n",
      "- call compiled C or Fortran code directly. No wrappers needed. Same function overhead as in C."
     ]
    },
    {
     "cell_type": "markdown",
     "metadata": {},
     "source": [
      "# Using Julia\n",
      "\n",
      "- From the REPL (Read--Eval--Print Loop):\n",
      "\n",
      "        julia\n",
      "    \n",
      "    \n",
      "- Inside IJulia (IPython/Jupyter interface with Julia kernel):\n",
      "\n",
      "        ipython notebook --profile julia\n",
      "\n",
      "- Scripts:\n",
      "\n",
      "        julia scriptname.jl arg1 arg2"
     ]
    },
    {
     "cell_type": "markdown",
     "metadata": {},
     "source": [
      "# Learning and Getting help\n",
      "\n",
      "- Julia manual: <http://docs.julialang.org>\n",
      "\n",
      "- julia-users mailing list:  <https://groups.google.com/forum/#!forum/julia-users>\n",
      "\n",
      "- Learning resources on the web: http://julialang.org/learning/\n",
      "\n",
      "- Quick syntax overview: http://learnxinyminutes.com/docs/julia/"
     ]
    }
   ],
   "metadata": {}
  }
 ]
}