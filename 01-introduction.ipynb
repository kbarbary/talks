{
 "metadata": {
  "language": "Julia",
  "name": "",
  "signature": "sha256:ec251c4deeea2f628be71fa616997ddee4d38dcc1779dffc085afbb9a1ee348f"
 },
 "nbformat": 3,
 "nbformat_minor": 0,
 "worksheets": [
  {
   "cells": [
    {
     "cell_type": "markdown",
     "metadata": {},
     "source": [
      "# Why Julia?\n",
      "\n",
      "# Or: DIRHTLYAPL\n",
      "\n",
      "## (\"Do I Really Have To Learn Yet Another Programming Language??\")\n",
      "\n",
      "### Kyle Barbary\n",
      "\n",
      "**Cosmology Data Science Fellow**  \n",
      "**UC-Berkeley, LBNL**\n",
      "\n",
      "**Twitter: @kylebarbary**  \n",
      "**GitHub: @kbarbary**\n",
      "\n",
      "Thanks to David P. Sanders for title, inspiration and much content.  \n",
      "See his Julia tutorial at SciPy 2014 here: https://github.com/dpsanders/scipy_2014_julia"
     ]
    },
    {
     "cell_type": "markdown",
     "metadata": {},
     "source": [
      "# Advantage of Julia\n",
      "\n",
      "* High-level and easy to learn\n",
      "* Fast (within ~2x C speed)\n",
      "\n",
      "*Avoids the \"two language problem\"* (most of the standard library is written in Julia: \"users are developers\")"
     ]
    },
    {
     "cell_type": "code",
     "collapsed": false,
     "input": [
      "function calculate_pi(n)\n",
      "    tot = 0\n",
      "    for i = 1:n\n",
      "        x = rand()\n",
      "        y = rand()\n",
      "        if x^2 + y^2 < 1.0\n",
      "            tot += 1\n",
      "        end\n",
      "    end\n",
      "    return 4.0 * (tot / n)\n",
      "end"
     ],
     "language": "python",
     "metadata": {},
     "outputs": [
      {
       "metadata": {},
       "output_type": "pyout",
       "prompt_number": 17,
       "text": [
        "calculate_pi (generic function with 1 method)"
       ]
      }
     ],
     "prompt_number": 17
    },
    {
     "cell_type": "code",
     "collapsed": false,
     "input": [
      "calculate_pi(1000000)"
     ],
     "language": "python",
     "metadata": {},
     "outputs": [
      {
       "metadata": {},
       "output_type": "pyout",
       "prompt_number": 11,
       "text": [
        "3.141888"
       ]
      }
     ],
     "prompt_number": 11
    },
    {
     "cell_type": "code",
     "collapsed": false,
     "input": [
      "@time calculate_pi(1000000)"
     ],
     "language": "python",
     "metadata": {},
     "outputs": [
      {
       "output_type": "stream",
       "stream": "stdout",
       "text": [
        "elapsed time: 0."
       ]
      },
      {
       "output_type": "stream",
       "stream": "stdout",
       "text": [
        "014892242 seconds (96 bytes allocated)\n"
       ]
      },
      {
       "metadata": {},
       "output_type": "pyout",
       "prompt_number": 12,
       "text": [
        "3.137652"
       ]
      }
     ],
     "prompt_number": 12
    },
    {
     "cell_type": "markdown",
     "metadata": {},
     "source": [
      "# How?\n",
      "\n",
      "Code is compiled to native machine code just-in-time (JIT).\n",
      "\n",
      "* Functions are compiled for the specific input type(s)\n",
      "* You can write a function once and have it apply multiple input types: \"generic programming\"\n",
      "* Just like a compiled language, the compiler can perform optimizations"
     ]
    },
    {
     "cell_type": "code",
     "collapsed": false,
     "input": [
      "code_native(calculate_pi, (Int,))"
     ],
     "language": "python",
     "metadata": {},
     "outputs": []
    },
    {
     "cell_type": "markdown",
     "metadata": {
      "slideshow": {
       "slide_type": "subslide"
      }
     },
     "source": [
      "# More on Julia\n",
      "\n",
      "- has a sophisticated type system\n",
      "  (but it is not *necessary* to talk about types)\n",
      "\n",
      "- has *multiple dispatch*: functions specialised on the types of their arguments\n",
      "\n",
      "- has sophisticated *metaprogramming* (macros) for generating code programatically\n",
      "\n",
      "- call compiled C or Fortran code directly. No wrappers needed. Same function overhead as in C."
     ]
    },
    {
     "cell_type": "markdown",
     "metadata": {},
     "source": [
      "# Using Julia\n",
      "\n",
      "- From the REPL (Read--Eval--Print Loop):\n",
      "\n",
      "        julia\n",
      "    \n",
      "    \n",
      "- Inside IJulia (IPython/Jupyter interface with Julia kernel):\n",
      "\n",
      "        ipython notebook --profile julia\n",
      "\n",
      "- Scripts:\n",
      "\n",
      "        julia scriptname.jl arg1 arg2"
     ]
    },
    {
     "cell_type": "markdown",
     "metadata": {},
     "source": [
      "# Learning and Getting help\n",
      "\n",
      "- Julia manual: <http://docs.julialang.org>\n",
      "\n",
      "- julia-users mailing list:  <https://groups.google.com/forum/#!forum/julia-users>\n",
      "\n",
      "- Learning resources on the web: http://julialang.org/learning/\n",
      "\n",
      "- Quick syntax overview: http://learnxinyminutes.com/docs/julia/"
     ]
    }
   ],
   "metadata": {}
  }
 ]
}