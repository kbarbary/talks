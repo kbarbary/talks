{
 "metadata": {
  "language": "Julia",
  "name": "",
  "signature": "sha256:5530c3042876060426d3103a039356e1cbf3bcc199bea47e35f59771d24cb0c8"
 },
 "nbformat": 3,
 "nbformat_minor": 0,
 "worksheets": [
  {
   "cells": [
    {
     "cell_type": "markdown",
     "metadata": {},
     "source": [
      "# Functions, Types, and Multiple Dispatch\n",
      "\n",
      "## Functions\n",
      "\n",
      "Until now, we have written only functions that are generic, in the sense that they do not specify which type they accept, and as in Python they will work as long as the operations performed in them make sense for the input value:"
     ]
    },
    {
     "cell_type": "code",
     "collapsed": false,
     "input": [
      "duplicate(x) = 2 * x"
     ],
     "language": "python",
     "metadata": {},
     "outputs": [
      {
       "metadata": {},
       "output_type": "pyout",
       "prompt_number": 1,
       "text": [
        "duplicate (generic function with 1 method)"
       ]
      }
     ],
     "prompt_number": 1
    },
    {
     "cell_type": "code",
     "collapsed": false,
     "input": [
      "# These all work\n",
      "duplicate(3), duplicate(3.5), duplicate(1+3im)"
     ],
     "language": "python",
     "metadata": {},
     "outputs": [
      {
       "metadata": {},
       "output_type": "pyout",
       "prompt_number": 2,
       "text": [
        "(6,7.0,2 + 6im)"
       ]
      }
     ],
     "prompt_number": 2
    },
    {
     "cell_type": "code",
     "collapsed": false,
     "input": [
      "# As in Python, it will work as long as operations are defined for the input type.\n",
      "# So doesn't work:\n",
      "duplicate(\"Hello\")"
     ],
     "language": "python",
     "metadata": {},
     "outputs": [
      {
       "ename": "LoadError",
       "evalue": "`*` has no method matching *(::Int64, ::ASCIIString)\nwhile loading In[3], in expression starting on line 3",
       "output_type": "pyerr",
       "traceback": [
        "`*` has no method matching *(::Int64, ::ASCIIString)\nwhile loading In[3], in expression starting on line 3",
        " in duplicate at In[1]:1"
       ]
      }
     ],
     "prompt_number": 3
    },
    {
     "cell_type": "code",
     "collapsed": false,
     "input": [
      "# But we can make it work!\n",
      "duplicate(x::String) = string(x, x)"
     ],
     "language": "python",
     "metadata": {},
     "outputs": [
      {
       "metadata": {},
       "output_type": "pyout",
       "prompt_number": 4,
       "text": [
        "duplicate (generic function with 2 methods)"
       ]
      }
     ],
     "prompt_number": 4
    },
    {
     "cell_type": "code",
     "collapsed": false,
     "input": [
      "# And now it works...\n",
      "duplicate(\"Hello\")"
     ],
     "language": "python",
     "metadata": {},
     "outputs": [
      {
       "metadata": {},
       "output_type": "pyout",
       "prompt_number": 5,
       "text": [
        "\"HelloHello\""
       ]
      }
     ],
     "prompt_number": 5
    },
    {
     "cell_type": "code",
     "collapsed": false,
     "input": [
      "# duplicate is a *function* with two *methods* (implementations)\n",
      "# Functions are defined by specifying their actions on different types\n",
      "methods(duplicate)"
     ],
     "language": "python",
     "metadata": {},
     "outputs": [
      {
       "html": [
        "2 methods for generic function <b>duplicate</b>:<ul><li> duplicate(x::<b>String</b>) at In[4]:2<li> duplicate(x) at In[1]:1</ul>"
       ],
       "metadata": {},
       "output_type": "pyout",
       "prompt_number": 6,
       "text": [
        "# 2 methods for generic function \"duplicate\":\n",
        "duplicate(x::String) at In[4]:2\n",
        "duplicate(x) at In[1]:1"
       ]
      }
     ],
     "prompt_number": 6
    },
    {
     "cell_type": "code",
     "collapsed": false,
     "input": [
      "# Aside: in Julia string contatanation is done with *, not +, so ^ does string duplication:\n",
      "\"Hello\"*\"Hello\", \"Hello\"^2"
     ],
     "language": "python",
     "metadata": {},
     "outputs": [
      {
       "metadata": {},
       "output_type": "pyout",
       "prompt_number": 10,
       "text": [
        "(\"HelloHello\",\"HelloHello\")"
       ]
      }
     ],
     "prompt_number": 10
    },
    {
     "cell_type": "markdown",
     "metadata": {},
     "source": [
      "## Pythonic equivalent: example 1"
     ]
    },
    {
     "cell_type": "markdown",
     "metadata": {},
     "source": [
      "Python actually has similar syntax. Consider the `len()` function in Python:\n",
      "\n",
      "```python\n",
      ">>> import numpy as np\n",
      ">>> len(\"Hi there\")\n",
      "8\n",
      ">>> len(np.array([3, 4, 5]))\n",
      "3\n",
      ">>> len([\"a\", \"b\", \"c\"])\n",
      "3\n",
      "```\n",
      "\n",
      "*How does `len()` operate on so many different types of objects?*\n",
      "\n",
      "It turns out that `len(object)` is just \"syntactic sugar\" for `object.__len__()`:\n",
      "\n",
      "```python\n",
      ">>> \"Hi there\".__len__\n",
      "<method-wrapper '__len__' of str object at 0x7fb411177930>\n",
      ">>> \"Hi there\".__len__()\n",
      "8\n",
      "```"
     ]
    },
    {
     "cell_type": "code",
     "collapsed": false,
     "input": [
      "# In julia, length has many methods: it works on strings\n",
      "length(\"Hello\")"
     ],
     "language": "python",
     "metadata": {},
     "outputs": [
      {
       "metadata": {},
       "output_type": "pyout",
       "prompt_number": 11,
       "text": [
        "5"
       ]
      }
     ],
     "prompt_number": 11
    },
    {
     "cell_type": "code",
     "collapsed": false,
     "input": [
      "# ... and on arrays\n",
      "length([1, 2, 3])"
     ],
     "language": "python",
     "metadata": {},
     "outputs": [
      {
       "metadata": {},
       "output_type": "pyout",
       "prompt_number": 12,
       "text": [
        "3"
       ]
      }
     ],
     "prompt_number": 12
    },
    {
     "cell_type": "code",
     "collapsed": false,
     "input": [
      "# ... and on many other things\n",
      "methods(length)"
     ],
     "language": "python",
     "metadata": {},
     "outputs": [
      {
       "html": [
        "60 methods for generic function <b>length</b>:<ul><li> length(mt::<b>MethodTable</b>) at <a href=\"https://github.com/JuliaLang/julia/tree/768187890c2709bf2ff06818f40e1cdc79bd44b0/base/reflection.jl#L133\" target=\"_blank\">reflection.jl:133</a><li> length(t::<b>(Any...,)</b>) at <a href=\"https://github.com/JuliaLang/julia/tree/768187890c2709bf2ff06818f40e1cdc79bd44b0/base/tuple.jl#L3\" target=\"_blank\">tuple.jl:3</a><li> length<i>{T<:Union(Int64,Uint64)}</i>(r::<b>StepRange{T<:Union(Int64,Uint64),S}</b>) at <a href=\"https://github.com/JuliaLang/julia/tree/768187890c2709bf2ff06818f40e1cdc79bd44b0/base/range.jl#L188\" target=\"_blank\">range.jl:188</a><li> length<i>{T<:Union(Int8,Uint16,Uint8,Uint32,Int16,Int32)}</i>(r::<b>StepRange{T<:Union(Int8,Uint16,Uint8,Uint32,Int16,Int32),S}</b>) at <a href=\"https://github.com/JuliaLang/julia/tree/768187890c2709bf2ff06818f40e1cdc79bd44b0/base/range.jl#L208\" target=\"_blank\">range.jl:208</a><li> length(r::<b>StepRange{T,S}</b>) at <a href=\"https://github.com/JuliaLang/julia/tree/768187890c2709bf2ff06818f40e1cdc79bd44b0/base/range.jl#L181\" target=\"_blank\">range.jl:181</a><li> length<i>{T<:Union(Int64,Uint64)}</i>(r::<b>UnitRange{T<:Union(Int64,Uint64)}</b>) at <a href=\"https://github.com/JuliaLang/julia/tree/768187890c2709bf2ff06818f40e1cdc79bd44b0/base/range.jl#L198\" target=\"_blank\">range.jl:198</a><li> length<i>{T<:Union(Int8,Uint16,Uint8,Uint32,Int16,Int32)}</i>(r::<b>UnitRange{T<:Union(Int8,Uint16,Uint8,Uint32,Int16,Int32)}</b>) at <a href=\"https://github.com/JuliaLang/julia/tree/768187890c2709bf2ff06818f40e1cdc79bd44b0/base/range.jl#L212\" target=\"_blank\">range.jl:212</a><li> length(r::<b>UnitRange{T<:Real}</b>) at <a href=\"https://github.com/JuliaLang/julia/tree/768187890c2709bf2ff06818f40e1cdc79bd44b0/base/range.jl#L184\" target=\"_blank\">range.jl:184</a><li> length(r::<b>FloatRange{T<:FloatingPoint}</b>) at <a href=\"https://github.com/JuliaLang/julia/tree/768187890c2709bf2ff06818f40e1cdc79bd44b0/base/range.jl#L185\" target=\"_blank\">range.jl:185</a><li> length(x::<b>Number</b>) at <a href=\"https://github.com/JuliaLang/julia/tree/768187890c2709bf2ff06818f40e1cdc79bd44b0/base/number.jl#L12\" target=\"_blank\">number.jl:12</a><li> length(a::<b>Array{T,N}</b>) at <a href=\"https://github.com/JuliaLang/julia/tree/768187890c2709bf2ff06818f40e1cdc79bd44b0/base/array.jl#L21\" target=\"_blank\">array.jl:21</a><li> length(B::<b>BitArray{N}</b>) at <a href=\"https://github.com/JuliaLang/julia/tree/768187890c2709bf2ff06818f40e1cdc79bd44b0/base/bitarray.jl#L42\" target=\"_blank\">bitarray.jl:42</a><li> length(S::<b>SharedArray{T,N}</b>) at <a href=\"https://github.com/JuliaLang/julia/tree/768187890c2709bf2ff06818f40e1cdc79bd44b0/base/sharedarray.jl#L114\" target=\"_blank\">sharedarray.jl:114</a><li> length(zmsg::<b>Message</b>) at <a href=\"https://github.com/JuliaLang/ZMQ.jl/tree/8f1eddbfa8a044513776953d702efb6b9c122beb/src/ZMQ.jl#L420\" target=\"_blank\">/home/kyle/.julia/v0.3/ZMQ/src/ZMQ.jl:420</a><li> length(t::<b>AbstractArray{T,N}</b>) at <a href=\"https://github.com/JuliaLang/julia/tree/768187890c2709bf2ff06818f40e1cdc79bd44b0/base/abstractarray.jl#L23\" target=\"_blank\">abstractarray.jl:23</a><li> length(s::<b>IntSet</b>) at <a href=\"https://github.com/JuliaLang/julia/tree/768187890c2709bf2ff06818f40e1cdc79bd44b0/base/intset.jl#L172\" target=\"_blank\">intset.jl:172</a><li> length(v::<b>Union(ValueIterator{T<:Associative{K,V}},KeyIterator{T<:Associative{K,V}})</b>) at <a href=\"https://github.com/JuliaLang/julia/tree/768187890c2709bf2ff06818f40e1cdc79bd44b0/base/dict.jl#L144\" target=\"_blank\">dict.jl:144</a><li> length(d::<b>ObjectIdDict</b>) at <a href=\"https://github.com/JuliaLang/julia/tree/768187890c2709bf2ff06818f40e1cdc79bd44b0/base/dict.jl#L298\" target=\"_blank\">dict.jl:298</a><li> length(t::<b>Dict{K,V}</b>) at <a href=\"https://github.com/JuliaLang/julia/tree/768187890c2709bf2ff06818f40e1cdc79bd44b0/base/dict.jl#L680\" target=\"_blank\">dict.jl:680</a><li> length(t::<b>WeakKeyDict{K,V}</b>) at <a href=\"https://github.com/JuliaLang/julia/tree/768187890c2709bf2ff06818f40e1cdc79bd44b0/base/dict.jl#L756\" target=\"_blank\">dict.jl:756</a><li> length(s::<b>Set{T}</b>) at <a href=\"https://github.com/JuliaLang/julia/tree/768187890c2709bf2ff06818f40e1cdc79bd44b0/base/set.jl#L13\" target=\"_blank\">set.jl:13</a><li> length(e::<b>Enumerate{I}</b>) at <a href=\"https://github.com/JuliaLang/julia/tree/768187890c2709bf2ff06818f40e1cdc79bd44b0/base/iterator.jl#L10\" target=\"_blank\">iterator.jl:10</a><li> length(z::<b>Zip{I<:(Any...,)}</b>) at <a href=\"https://github.com/JuliaLang/julia/tree/768187890c2709bf2ff06818f40e1cdc79bd44b0/base/iterator.jl#L30\" target=\"_blank\">iterator.jl:30</a><li> length(z::<b>Zip2{I1,I2}</b>) at <a href=\"https://github.com/JuliaLang/julia/tree/768187890c2709bf2ff06818f40e1cdc79bd44b0/base/iterator.jl#L54\" target=\"_blank\">iterator.jl:54</a><li> length(s::<b>UTF8String</b>) at <a href=\"https://github.com/JuliaLang/julia/tree/768187890c2709bf2ff06818f40e1cdc79bd44b0/base/utf8.jl#L40\" target=\"_blank\">utf8.jl:40</a><li> length(s::<b>UTF32String</b>) at <a href=\"https://github.com/JuliaLang/julia/tree/768187890c2709bf2ff06818f40e1cdc79bd44b0/base/utf32.jl#L16\" target=\"_blank\">utf32.jl:16</a><li> length(s::<b>DirectIndexString</b>) at <a href=\"https://github.com/JuliaLang/julia/tree/768187890c2709bf2ff06818f40e1cdc79bd44b0/base/string.jl#L79\" target=\"_blank\">string.jl:79</a><li> length<i>{T<:DirectIndexString}</i>(s::<b>SubString{T<:DirectIndexString}</b>) at <a href=\"https://github.com/JuliaLang/julia/tree/768187890c2709bf2ff06818f40e1cdc79bd44b0/base/string.jl#L608\" target=\"_blank\">string.jl:608</a><li> length(s::<b>SubString{UTF8String}</b>) at <a href=\"https://github.com/JuliaLang/julia/tree/768187890c2709bf2ff06818f40e1cdc79bd44b0/base/string.jl#L611\" target=\"_blank\">string.jl:611</a><li> length(s::<b>RepString</b>) at <a href=\"https://github.com/JuliaLang/julia/tree/768187890c2709bf2ff06818f40e1cdc79bd44b0/base/string.jl#L690\" target=\"_blank\">string.jl:690</a><li> length(s::<b>RevString{T<:String}</b>) at <a href=\"https://github.com/JuliaLang/julia/tree/768187890c2709bf2ff06818f40e1cdc79bd44b0/base/string.jl#L739\" target=\"_blank\">string.jl:739</a><li> length(s::<b>RopeString</b>) at <a href=\"https://github.com/JuliaLang/julia/tree/768187890c2709bf2ff06818f40e1cdc79bd44b0/base/string.jl#L794\" target=\"_blank\">string.jl:794</a><li> length(s::<b>String</b>) at <a href=\"https://github.com/JuliaLang/julia/tree/768187890c2709bf2ff06818f40e1cdc79bd44b0/base/string.jl#L81\" target=\"_blank\">string.jl:81</a><li> length(::<b>EnvHash</b>) at <a href=\"https://github.com/JuliaLang/julia/tree/768187890c2709bf2ff06818f40e1cdc79bd44b0/base/env.jl#L160\" target=\"_blank\">env.jl:160</a><li> length(pq::<b>PriorityQueue{K,V}</b>) at <a href=\"https://github.com/JuliaLang/julia/tree/768187890c2709bf2ff06818f40e1cdc79bd44b0/base/collections.jl#L166\" target=\"_blank\">collections.jl:166</a><li> length(c::<b>Combinations{T}</b>) at <a href=\"https://github.com/JuliaLang/julia/tree/768187890c2709bf2ff06818f40e1cdc79bd44b0/base/combinatorics.jl#L248\" target=\"_blank\">combinatorics.jl:248</a><li> length(c::<b>Permutations{T}</b>) at <a href=\"https://github.com/JuliaLang/julia/tree/768187890c2709bf2ff06818f40e1cdc79bd44b0/base/combinatorics.jl#L288\" target=\"_blank\">combinatorics.jl:288</a><li> length(p::<b>IntegerPartitions</b>) at <a href=\"https://github.com/JuliaLang/julia/tree/768187890c2709bf2ff06818f40e1cdc79bd44b0/base/combinatorics.jl#L321\" target=\"_blank\">combinatorics.jl:321</a><li> length(f::<b>FixedPartitions</b>) at <a href=\"https://github.com/JuliaLang/julia/tree/768187890c2709bf2ff06818f40e1cdc79bd44b0/base/combinatorics.jl#L387\" target=\"_blank\">combinatorics.jl:387</a><li> length(p::<b>SetPartitions{T<:AbstractArray{T,1}}</b>) at <a href=\"https://github.com/JuliaLang/julia/tree/768187890c2709bf2ff06818f40e1cdc79bd44b0/base/combinatorics.jl#L449\" target=\"_blank\">combinatorics.jl:449</a><li> length(p::<b>FixedSetPartitions{T<:AbstractArray{T,1}}</b>) at <a href=\"https://github.com/JuliaLang/julia/tree/768187890c2709bf2ff06818f40e1cdc79bd44b0/base/combinatorics.jl#L516\" target=\"_blank\">combinatorics.jl:516</a><li> length(d::<b>SpDiagIterator{Tv,Ti}</b>) at <a href=\"https://github.com/JuliaLang/julia/tree/768187890c2709bf2ff06818f40e1cdc79bd44b0/base/sparse/sparsematrix.jl#L1875\" target=\"_blank\">sparse/sparsematrix.jl:1875</a><li> length(blk::<b>DequeBlock{T}</b>) at <a href=\"https://github.com/JuliaLang/DataStructures.jl/tree/5a4a6421fd0e387a9f2b9826a1eb4fbf175bd15b/src/deque.jl#L33\" target=\"_blank\">/home/kyle/.julia/v0.3/DataStructures/src/deque.jl:33</a><li> length(q::<b>Deque{T}</b>) at <a href=\"https://github.com/JuliaLang/DataStructures.jl/tree/5a4a6421fd0e387a9f2b9826a1eb4fbf175bd15b/src/deque.jl#L77\" target=\"_blank\">/home/kyle/.julia/v0.3/DataStructures/src/deque.jl:77</a><li> length(s::<b>Stack{S}</b>) at <a href=\"https://github.com/JuliaLang/DataStructures.jl/tree/5a4a6421fd0e387a9f2b9826a1eb4fbf175bd15b/src/stack.jl#L11\" target=\"_blank\">/home/kyle/.julia/v0.3/DataStructures/src/stack.jl:11</a><li> length(s::<b>Queue{S}</b>) at <a href=\"https://github.com/JuliaLang/DataStructures.jl/tree/5a4a6421fd0e387a9f2b9826a1eb4fbf175bd15b/src/queue.jl#L11\" target=\"_blank\">/home/kyle/.julia/v0.3/DataStructures/src/queue.jl:11</a><li> length(a::<b>Accumulator{T,V<:Number}</b>) at <a href=\"https://github.com/JuliaLang/DataStructures.jl/tree/5a4a6421fd0e387a9f2b9826a1eb4fbf175bd15b/src/accumulator.jl#L25\" target=\"_blank\">/home/kyle/.julia/v0.3/DataStructures/src/accumulator.jl:25</a><li> length(cc::<b>ClassifiedCollections{K,Collection}</b>) at <a href=\"https://github.com/JuliaLang/DataStructures.jl/tree/5a4a6421fd0e387a9f2b9826a1eb4fbf175bd15b/src/classifiedcollections.jl#L25\" target=\"_blank\">/home/kyle/.julia/v0.3/DataStructures/src/classifiedcollections.jl:25</a><li> length(s::<b>IntDisjointSets</b>) at <a href=\"https://github.com/JuliaLang/DataStructures.jl/tree/5a4a6421fd0e387a9f2b9826a1eb4fbf175bd15b/src/disjoint_set.jl#L25\" target=\"_blank\">/home/kyle/.julia/v0.3/DataStructures/src/disjoint_set.jl:25</a><li> length(s::<b>DisjointSets{T}</b>) at <a href=\"https://github.com/JuliaLang/DataStructures.jl/tree/5a4a6421fd0e387a9f2b9826a1eb4fbf175bd15b/src/disjoint_set.jl#L112\" target=\"_blank\">/home/kyle/.julia/v0.3/DataStructures/src/disjoint_set.jl:112</a><li> length(h::<b>BinaryHeap{T,Comp}</b>) at <a href=\"https://github.com/JuliaLang/DataStructures.jl/tree/5a4a6421fd0e387a9f2b9826a1eb4fbf175bd15b/src/heaps/binary_heap.jl#L133\" target=\"_blank\">/home/kyle/.julia/v0.3/DataStructures/src/heaps/binary_heap.jl:133</a><li> length(h::<b>MutableBinaryHeap{VT,Comp}</b>) at <a href=\"https://github.com/JuliaLang/DataStructures.jl/tree/5a4a6421fd0e387a9f2b9826a1eb4fbf175bd15b/src/heaps/mutable_binary_heap.jl#L196\" target=\"_blank\">/home/kyle/.julia/v0.3/DataStructures/src/heaps/mutable_binary_heap.jl:196</a><li> length(t::<b>HashDict{K,V,O<:Union(Int64,Nothing)}</b>) at <a href=\"https://github.com/JuliaLang/DataStructures.jl/tree/5a4a6421fd0e387a9f2b9826a1eb4fbf175bd15b/src/hashdict.jl#L494\" target=\"_blank\">/home/kyle/.julia/v0.3/DataStructures/src/hashdict.jl:494</a><li> length(::<b>OrderedDict{K,V}</b>,...) at <a href=\"https://github.com/JuliaLang/DataStructures.jl/tree/5a4a6421fd0e387a9f2b9826a1eb4fbf175bd15b/src/delegate.jl#L11\" target=\"_blank\">/home/kyle/.julia/v0.3/DataStructures/src/delegate.jl:11</a><li> length(::<b>OrderedSet{T}</b>,...) at <a href=\"https://github.com/JuliaLang/DataStructures.jl/tree/5a4a6421fd0e387a9f2b9826a1eb4fbf175bd15b/src/delegate.jl#L11\" target=\"_blank\">/home/kyle/.julia/v0.3/DataStructures/src/delegate.jl:11</a><li> length(::<b>DefaultDictBase{K,V,F,D<:Associative{K,V}}</b>,...) at <a href=\"https://github.com/JuliaLang/DataStructures.jl/tree/5a4a6421fd0e387a9f2b9826a1eb4fbf175bd15b/src/delegate.jl#L11\" target=\"_blank\">/home/kyle/.julia/v0.3/DataStructures/src/delegate.jl:11</a><li> length(::<b>DefaultDict{K,V,F}</b>,...) at <a href=\"https://github.com/JuliaLang/DataStructures.jl/tree/5a4a6421fd0e387a9f2b9826a1eb4fbf175bd15b/src/delegate.jl#L11\" target=\"_blank\">/home/kyle/.julia/v0.3/DataStructures/src/delegate.jl:11</a><li> length(::<b>DefaultOrderedDict{K,V,F}</b>,...) at <a href=\"https://github.com/JuliaLang/DataStructures.jl/tree/5a4a6421fd0e387a9f2b9826a1eb4fbf175bd15b/src/delegate.jl#L11\" target=\"_blank\">/home/kyle/.julia/v0.3/DataStructures/src/delegate.jl:11</a><li> length(l::<b>Nil{T}</b>) at <a href=\"https://github.com/JuliaLang/DataStructures.jl/tree/5a4a6421fd0e387a9f2b9826a1eb4fbf175bd15b/src/list.jl#L55\" target=\"_blank\">/home/kyle/.julia/v0.3/DataStructures/src/list.jl:55</a><li> length(l::<b>Cons{T}</b>) at <a href=\"https://github.com/JuliaLang/DataStructures.jl/tree/5a4a6421fd0e387a9f2b9826a1eb4fbf175bd15b/src/list.jl#L58\" target=\"_blank\">/home/kyle/.julia/v0.3/DataStructures/src/list.jl:58</a></ul>"
       ],
       "metadata": {},
       "output_type": "pyout",
       "prompt_number": 13,
       "text": [
        "# 60 methods for generic function \"length\":\n",
        "length(mt::MethodTable) at reflection.jl:133\n",
        "length(t::(Any...,)) at tuple.jl:3\n",
        "length{T<:Union(Int64,Uint64)}(r::StepRange{T<:Union(Int64,Uint64),S}) at range.jl:188\n",
        "length{T<:Union(Int8,Uint16,Uint8,Uint32,Int16,Int32)}(r::StepRange{T<:Union(Int8,Uint16,Uint8,Uint32,Int16,Int32),S}) at range.jl:208\n",
        "length(r::StepRange{T,S}) at range.jl:181\n",
        "length{T<:Union(Int64,Uint64)}(r::UnitRange{T<:Union(Int64,Uint64)}) at range.jl:198\n",
        "length{T<:Union(Int8,Uint16,Uint8,Uint32,Int16,Int32)}(r::UnitRange{T<:Union(Int8,Uint16,Uint8,Uint32,Int16,Int32)}) at range.jl:212\n",
        "length(r::UnitRange{T<:Real}) at range.jl:184\n",
        "length(r::FloatRange{T<:FloatingPoint}) at range.jl:185\n",
        "length(x::Number) at number.jl:12\n",
        "length(a::Array{T,N}) at array.jl:21\n",
        "length(B::BitArray{N}) at bitarray.jl:42\n",
        "length(S::SharedArray{T,N}) at sharedarray.jl:114\n",
        "length(zmsg::Message) at /home/kyle/.julia/v0.3/ZMQ/src/ZMQ.jl:420\n",
        "length(t::AbstractArray{T,N}) at abstractarray.jl:23\n",
        "length(s::IntSet) at intset.jl:172\n",
        "length(v::Union(ValueIterator{T<:Associative{K,V}},KeyIterator{T<:Associative{K,V}})) at dict.jl:144\n",
        "length(d::ObjectIdDict) at dict.jl:298\n",
        "length(t::Dict{K,V}) at dict.jl:680\n",
        "length(t::WeakKeyDict{K,V}) at dict.jl:756\n",
        "length(s::Set{T}) at set.jl:13\n",
        "length(e::Enumerate{I}) at iterator.jl:10\n",
        "length(z::Zip{I<:(Any...,)}) at iterator.jl:30\n",
        "length(z::Zip2{I1,I2}) at iterator.jl:54\n",
        "length(s::UTF8String) at utf8.jl:40\n",
        "length(s::UTF32String) at utf32.jl:16\n",
        "length(s::DirectIndexString) at string.jl:79\n",
        "length{T<:DirectIndexString}(s::SubString{T<:DirectIndexString}) at string.jl:608\n",
        "length(s::SubString{UTF8String}) at string.jl:611\n",
        "length(s::RepString) at string.jl:690\n",
        "length(s::RevString{T<:String}) at string.jl:739\n",
        "length(s::RopeString) at string.jl:794\n",
        "length(s::String) at string.jl:81\n",
        "length(::EnvHash) at env.jl:160\n",
        "length(pq::PriorityQueue{K,V}) at collections.jl:166\n",
        "length(c::Combinations{T}) at combinatorics.jl:248\n",
        "length(c::Permutations{T}) at combinatorics.jl:288\n",
        "length(p::IntegerPartitions) at combinatorics.jl:321\n",
        "length(f::FixedPartitions) at combinatorics.jl:387\n",
        "length(p::SetPartitions{T<:AbstractArray{T,1}}) at combinatorics.jl:449\n",
        "length(p::FixedSetPartitions{T<:AbstractArray{T,1}}) at combinatorics.jl:516\n",
        "length(d::SpDiagIterator{Tv,Ti}) at sparse/sparsematrix.jl:1875\n",
        "length(blk::DequeBlock{T}) at /home/kyle/.julia/v0.3/DataStructures/src/deque.jl:33\n",
        "length(q::Deque{T}) at /home/kyle/.julia/v0.3/DataStructures/src/deque.jl:77\n",
        "length(s::Stack{S}) at /home/kyle/.julia/v0.3/DataStructures/src/stack.jl:11\n",
        "length(s::Queue{S}) at /home/kyle/.julia/v0.3/DataStructures/src/queue.jl:11\n",
        "length(a::Accumulator{T,V<:Number}) at /home/kyle/.julia/v0.3/DataStructures/src/accumulator.jl:25\n",
        "length(cc::ClassifiedCollections{K,Collection}) at /home/kyle/.julia/v0.3/DataStructures/src/classifiedcollections.jl:25\n",
        "length(s::IntDisjointSets) at /home/kyle/.julia/v0.3/DataStructures/src/disjoint_set.jl:25\n",
        "length(s::DisjointSets{T}) at /home/kyle/.julia/v0.3/DataStructures/src/disjoint_set.jl:112\n",
        "length(h::BinaryHeap{T,Comp}) at /home/kyle/.julia/v0.3/DataStructures/src/heaps/binary_heap.jl:133\n",
        "length(h::MutableBinaryHeap{VT,Comp}) at /home/kyle/.julia/v0.3/DataStructures/src/heaps/mutable_binary_heap.jl:196\n",
        "length(t::HashDict{K,V,O<:Union(Int64,Nothing)}) at /home/kyle/.julia/v0.3/DataStructures/src/hashdict.jl:494\n",
        "length(::OrderedDict{K,V},...) at /home/kyle/.julia/v0.3/DataStructures/src/delegate.jl:11\n",
        "length(::OrderedSet{T},...) at /home/kyle/.julia/v0.3/DataStructures/src/delegate.jl:11\n",
        "length(::DefaultDictBase{K,V,F,D<:Associative{K,V}},...) at /home/kyle/.julia/v0.3/DataStructures/src/delegate.jl:11\n",
        "length(::DefaultDict{K,V,F},...) at /home/kyle/.julia/v0.3/DataStructures/src/delegate.jl:11\n",
        "length(::DefaultOrderedDict{K,V,F},...) at /home/kyle/.julia/v0.3/DataStructures/src/delegate.jl:11\n",
        "length(l::Nil{T}) at /home/kyle/.julia/v0.3/DataStructures/src/list.jl:55\n",
        "length(l::Cons{T}) at /home/kyle/.julia/v0.3/DataStructures/src/list.jl:58"
       ]
      }
     ],
     "prompt_number": 13
    },
    {
     "cell_type": "markdown",
     "metadata": {},
     "source": [
      "So, we see that in Julia,\n",
      "\n",
      "```\n",
      "length(object)\n",
      "```\n",
      "\n",
      "achieves what \n",
      "\n",
      "```\n",
      "object.__len__()\n",
      "```\n",
      "\n",
      "achieves in Python: the ability to *dispatch* to separate implementations depending on the type."
     ]
    },
    {
     "cell_type": "markdown",
     "metadata": {},
     "source": [
      "## Pythonic equivalent: example 2"
     ]
    },
    {
     "cell_type": "markdown",
     "metadata": {},
     "source": [
      "Consider the sine function in numpy that works on both scalars and arrays, and for arrays of different types:\n",
      "\n",
      "```python\n",
      ">>> np.sin(0.5)\n",
      "0.47942553860420301\n",
      ">>> np.sin([0.5, 0.6, 0.7])\n",
      "array([ 0.47942554,  0.56464247,  0.64421769])\n",
      "```"
     ]
    },
    {
     "cell_type": "code",
     "collapsed": false,
     "input": [
      "# same thing works in julia but much more naturally\n",
      "sin(0.5)"
     ],
     "language": "python",
     "metadata": {},
     "outputs": [
      {
       "metadata": {},
       "output_type": "pyout",
       "prompt_number": 3,
       "text": [
        "0.479425538604203"
       ]
      }
     ],
     "prompt_number": 3
    },
    {
     "cell_type": "code",
     "collapsed": false,
     "input": [
      "sin([0.5, 0.6, 0.7])"
     ],
     "language": "python",
     "metadata": {},
     "outputs": [
      {
       "metadata": {},
       "output_type": "pyout",
       "prompt_number": 4,
       "text": [
        "3-element Array{Float64,1}:\n",
        " 0.479426\n",
        " 0.564642\n",
        " 0.644218"
       ]
      }
     ],
     "prompt_number": 4
    },
    {
     "cell_type": "code",
     "collapsed": false,
     "input": [
      "# sin() is simply *defined* for different types:\n",
      "methods(sin)"
     ],
     "language": "python",
     "metadata": {},
     "outputs": [
      {
       "html": [
        "11 methods for generic function <b>sin</b>:<ul><li> sin(a::<b>Complex{Float16}</b>) at <a href=\"https://github.com/JuliaLang/julia/tree/768187890c2709bf2ff06818f40e1cdc79bd44b0/base/float16.jl#L141\" target=\"_blank\">float16.jl:141</a><li> sin(z::<b>Complex{T<:Real}</b>) at <a href=\"https://github.com/JuliaLang/julia/tree/768187890c2709bf2ff06818f40e1cdc79bd44b0/base/complex.jl#L518\" target=\"_blank\">complex.jl:518</a><li> sin(x::<b>Float64</b>) at <a href=\"https://github.com/JuliaLang/julia/tree/768187890c2709bf2ff06818f40e1cdc79bd44b0/base/math.jl#L122\" target=\"_blank\">math.jl:122</a><li> sin(x::<b>Float32</b>) at <a href=\"https://github.com/JuliaLang/julia/tree/768187890c2709bf2ff06818f40e1cdc79bd44b0/base/math.jl#L123\" target=\"_blank\">math.jl:123</a><li> sin(a::<b>Float16</b>) at <a href=\"https://github.com/JuliaLang/julia/tree/768187890c2709bf2ff06818f40e1cdc79bd44b0/base/float16.jl#L140\" target=\"_blank\">float16.jl:140</a><li> sin(x::<b>BigFloat</b>) at <a href=\"https://github.com/JuliaLang/julia/tree/768187890c2709bf2ff06818f40e1cdc79bd44b0/base/mpfr.jl#L567\" target=\"_blank\">mpfr.jl:567</a><li> sin(x::<b>Real</b>) at <a href=\"https://github.com/JuliaLang/julia/tree/768187890c2709bf2ff06818f40e1cdc79bd44b0/base/math.jl#L124\" target=\"_blank\">math.jl:124</a><li> sin<i>{Tv,Ti}</i>(A::<b>SparseMatrixCSC{Tv,Ti}</b>) at <a href=\"https://github.com/JuliaLang/julia/tree/768187890c2709bf2ff06818f40e1cdc79bd44b0/base/sparse/sparsematrix.jl#L447\" target=\"_blank\">sparse/sparsematrix.jl:447</a><li> sin<i>{T<:Number}</i>(::<b>AbstractArray{T<:Number,1}</b>) at <a href=\"https://github.com/JuliaLang/julia/tree/768187890c2709bf2ff06818f40e1cdc79bd44b0/base/operators.jl#L359\" target=\"_blank\">operators.jl:359</a><li> sin<i>{T<:Number}</i>(::<b>AbstractArray{T<:Number,2}</b>) at <a href=\"https://github.com/JuliaLang/julia/tree/768187890c2709bf2ff06818f40e1cdc79bd44b0/base/operators.jl#L360\" target=\"_blank\">operators.jl:360</a><li> sin<i>{T<:Number}</i>(::<b>AbstractArray{T<:Number,N}</b>) at <a href=\"https://github.com/JuliaLang/julia/tree/768187890c2709bf2ff06818f40e1cdc79bd44b0/base/operators.jl#L362\" target=\"_blank\">operators.jl:362</a></ul>"
       ],
       "metadata": {},
       "output_type": "pyout",
       "prompt_number": 5,
       "text": [
        "# 11 methods for generic function \"sin\":\n",
        "sin(a::Complex{Float16}) at float16.jl:141\n",
        "sin(z::Complex{T<:Real}) at complex.jl:518\n",
        "sin(x::Float64) at math.jl:122\n",
        "sin(x::Float32) at math.jl:123\n",
        "sin(a::Float16) at float16.jl:140\n",
        "sin(x::BigFloat) at mpfr.jl:567\n",
        "sin(x::Real) at math.jl:124\n",
        "sin{Tv,Ti}(A::SparseMatrixCSC{Tv,Ti}) at sparse/sparsematrix.jl:447\n",
        "sin{T<:Number}(::AbstractArray{T<:Number,1}) at operators.jl:359\n",
        "sin{T<:Number}(::AbstractArray{T<:Number,2}) at operators.jl:360\n",
        "sin{T<:Number}(::AbstractArray{T<:Number,N}) at operators.jl:362"
       ]
      }
     ],
     "prompt_number": 5
    },
    {
     "cell_type": "markdown",
     "metadata": {},
     "source": [
      "# Multiple Dispatch\n",
      "\n",
      "It turns out that everything is implemented this way, even operators!"
     ]
    },
    {
     "cell_type": "code",
     "collapsed": false,
     "input": [
      "# This doesn't work...\n",
      "\"Hi \" + \"there!\" "
     ],
     "language": "python",
     "metadata": {},
     "outputs": [
      {
       "ename": "LoadError",
       "evalue": "`+` has no method matching +(::ASCIIString, ::ASCIIString)\nwhile loading In[1], in expression starting on line 1",
       "output_type": "pyerr",
       "traceback": [
        "`+` has no method matching +(::ASCIIString, ::ASCIIString)\nwhile loading In[1], in expression starting on line 1"
       ]
      }
     ],
     "prompt_number": 1
    },
    {
     "cell_type": "code",
     "collapsed": false,
     "input": [
      "# ... because + isn't defined for two strings. But we can define it:\n",
      "+(s1::String, s2::String) = string(s1, s2)"
     ],
     "language": "python",
     "metadata": {},
     "outputs": [
      {
       "metadata": {},
       "output_type": "pyout",
       "prompt_number": 2,
       "text": [
        "+ (generic function with 126 methods)"
       ]
      }
     ],
     "prompt_number": 2
    },
    {
     "cell_type": "code",
     "collapsed": false,
     "input": [
      "\"Hi \" + \"there!\""
     ],
     "language": "python",
     "metadata": {},
     "outputs": [
      {
       "metadata": {},
       "output_type": "pyout",
       "prompt_number": 3,
       "text": [
        "\"Hi there!\""
       ]
      }
     ],
     "prompt_number": 3
    },
    {
     "cell_type": "code",
     "collapsed": false,
     "input": [
      "# + is a function with many methods:\n",
      "methods(+)"
     ],
     "language": "python",
     "metadata": {},
     "outputs": [
      {
       "html": [
        "125 methods for generic function <b>+</b>:<ul><li> +(x::<b>Bool</b>) at <a href=\"https://github.com/JuliaLang/julia/tree/768187890c2709bf2ff06818f40e1cdc79bd44b0/base/bool.jl#L36\" target=\"_blank\">bool.jl:36</a><li> +(x::<b>Bool</b>,y::<b>Bool</b>) at <a href=\"https://github.com/JuliaLang/julia/tree/768187890c2709bf2ff06818f40e1cdc79bd44b0/base/bool.jl#L39\" target=\"_blank\">bool.jl:39</a><li> +(y::<b>FloatingPoint</b>,x::<b>Bool</b>) at <a href=\"https://github.com/JuliaLang/julia/tree/768187890c2709bf2ff06818f40e1cdc79bd44b0/base/bool.jl#L49\" target=\"_blank\">bool.jl:49</a><li> +(A::<b>BitArray{N}</b>,B::<b>BitArray{N}</b>) at <a href=\"https://github.com/JuliaLang/julia/tree/768187890c2709bf2ff06818f40e1cdc79bd44b0/base/bitarray.jl#L848\" target=\"_blank\">bitarray.jl:848</a><li> +(A::<b>Union(DenseArray{Bool,N},SubArray{Bool,N,A<:DenseArray{T,N},I<:(Union(Int64,Range{Int64})...,)})</b>,B::<b>Union(DenseArray{Bool,N},SubArray{Bool,N,A<:DenseArray{T,N},I<:(Union(Int64,Range{Int64})...,)})</b>) at <a href=\"https://github.com/JuliaLang/julia/tree/768187890c2709bf2ff06818f40e1cdc79bd44b0/base/array.jl#L797\" target=\"_blank\">array.jl:797</a><li> +<i>{S,T}</i>(A::<b>Union(DenseArray{S,N},SubArray{S,N,A<:DenseArray{T,N},I<:(Union(Int64,Range{Int64})...,)})</b>,B::<b>Union(DenseArray{T,N},SubArray{T,N,A<:DenseArray{T,N},I<:(Union(Int64,Range{Int64})...,)})</b>) at <a href=\"https://github.com/JuliaLang/julia/tree/768187890c2709bf2ff06818f40e1cdc79bd44b0/base/array.jl#L719\" target=\"_blank\">array.jl:719</a><li> +<i>{T<:Union(Int8,Int16,Int32)}</i>(x::<b>T<:Union(Int8,Int16,Int32)</b>,y::<b>T<:Union(Int8,Int16,Int32)</b>) at <a href=\"https://github.com/JuliaLang/julia/tree/768187890c2709bf2ff06818f40e1cdc79bd44b0/base/int.jl#L16\" target=\"_blank\">int.jl:16</a><li> +<i>{T<:Union(Uint16,Uint8,Uint32)}</i>(x::<b>T<:Union(Uint16,Uint8,Uint32)</b>,y::<b>T<:Union(Uint16,Uint8,Uint32)</b>) at <a href=\"https://github.com/JuliaLang/julia/tree/768187890c2709bf2ff06818f40e1cdc79bd44b0/base/int.jl#L20\" target=\"_blank\">int.jl:20</a><li> +(x::<b>Int64</b>,y::<b>Int64</b>) at <a href=\"https://github.com/JuliaLang/julia/tree/768187890c2709bf2ff06818f40e1cdc79bd44b0/base/int.jl#L33\" target=\"_blank\">int.jl:33</a><li> +(x::<b>Uint64</b>,y::<b>Uint64</b>) at <a href=\"https://github.com/JuliaLang/julia/tree/768187890c2709bf2ff06818f40e1cdc79bd44b0/base/int.jl#L34\" target=\"_blank\">int.jl:34</a><li> +(x::<b>Int128</b>,y::<b>Int128</b>) at <a href=\"https://github.com/JuliaLang/julia/tree/768187890c2709bf2ff06818f40e1cdc79bd44b0/base/int.jl#L35\" target=\"_blank\">int.jl:35</a><li> +(x::<b>Uint128</b>,y::<b>Uint128</b>) at <a href=\"https://github.com/JuliaLang/julia/tree/768187890c2709bf2ff06818f40e1cdc79bd44b0/base/int.jl#L36\" target=\"_blank\">int.jl:36</a><li> +(x::<b>Float32</b>,y::<b>Float32</b>) at <a href=\"https://github.com/JuliaLang/julia/tree/768187890c2709bf2ff06818f40e1cdc79bd44b0/base/float.jl#L119\" target=\"_blank\">float.jl:119</a><li> +(x::<b>Float64</b>,y::<b>Float64</b>) at <a href=\"https://github.com/JuliaLang/julia/tree/768187890c2709bf2ff06818f40e1cdc79bd44b0/base/float.jl#L120\" target=\"_blank\">float.jl:120</a><li> +(z::<b>Complex{T<:Real}</b>,w::<b>Complex{T<:Real}</b>) at <a href=\"https://github.com/JuliaLang/julia/tree/768187890c2709bf2ff06818f40e1cdc79bd44b0/base/complex.jl#L110\" target=\"_blank\">complex.jl:110</a><li> +(x::<b>Real</b>,z::<b>Complex{T<:Real}</b>) at <a href=\"https://github.com/JuliaLang/julia/tree/768187890c2709bf2ff06818f40e1cdc79bd44b0/base/complex.jl#L120\" target=\"_blank\">complex.jl:120</a><li> +(z::<b>Complex{T<:Real}</b>,x::<b>Real</b>) at <a href=\"https://github.com/JuliaLang/julia/tree/768187890c2709bf2ff06818f40e1cdc79bd44b0/base/complex.jl#L121\" target=\"_blank\">complex.jl:121</a><li> +(x::<b>Rational{T<:Integer}</b>,y::<b>Rational{T<:Integer}</b>) at <a href=\"https://github.com/JuliaLang/julia/tree/768187890c2709bf2ff06818f40e1cdc79bd44b0/base/rational.jl#L113\" target=\"_blank\">rational.jl:113</a><li> +(x::<b>Char</b>,y::<b>Char</b>) at <a href=\"https://github.com/JuliaLang/julia/tree/768187890c2709bf2ff06818f40e1cdc79bd44b0/base/char.jl#L23\" target=\"_blank\">char.jl:23</a><li> +(x::<b>Char</b>,y::<b>Integer</b>) at <a href=\"https://github.com/JuliaLang/julia/tree/768187890c2709bf2ff06818f40e1cdc79bd44b0/base/char.jl#L26\" target=\"_blank\">char.jl:26</a><li> +(x::<b>Integer</b>,y::<b>Char</b>) at <a href=\"https://github.com/JuliaLang/julia/tree/768187890c2709bf2ff06818f40e1cdc79bd44b0/base/char.jl#L27\" target=\"_blank\">char.jl:27</a><li> +(a::<b>Float16</b>,b::<b>Float16</b>) at <a href=\"https://github.com/JuliaLang/julia/tree/768187890c2709bf2ff06818f40e1cdc79bd44b0/base/float16.jl#L132\" target=\"_blank\">float16.jl:132</a><li> +(x::<b>BigInt</b>,y::<b>BigInt</b>) at <a href=\"https://github.com/JuliaLang/julia/tree/768187890c2709bf2ff06818f40e1cdc79bd44b0/base/gmp.jl#L194\" target=\"_blank\">gmp.jl:194</a><li> +(a::<b>BigInt</b>,b::<b>BigInt</b>,c::<b>BigInt</b>) at <a href=\"https://github.com/JuliaLang/julia/tree/768187890c2709bf2ff06818f40e1cdc79bd44b0/base/gmp.jl#L217\" target=\"_blank\">gmp.jl:217</a><li> +(a::<b>BigInt</b>,b::<b>BigInt</b>,c::<b>BigInt</b>,d::<b>BigInt</b>) at <a href=\"https://github.com/JuliaLang/julia/tree/768187890c2709bf2ff06818f40e1cdc79bd44b0/base/gmp.jl#L223\" target=\"_blank\">gmp.jl:223</a><li> +(a::<b>BigInt</b>,b::<b>BigInt</b>,c::<b>BigInt</b>,d::<b>BigInt</b>,e::<b>BigInt</b>) at <a href=\"https://github.com/JuliaLang/julia/tree/768187890c2709bf2ff06818f40e1cdc79bd44b0/base/gmp.jl#L230\" target=\"_blank\">gmp.jl:230</a><li> +(x::<b>BigInt</b>,c::<b>Uint64</b>) at <a href=\"https://github.com/JuliaLang/julia/tree/768187890c2709bf2ff06818f40e1cdc79bd44b0/base/gmp.jl#L242\" target=\"_blank\">gmp.jl:242</a><li> +(c::<b>Uint64</b>,x::<b>BigInt</b>) at <a href=\"https://github.com/JuliaLang/julia/tree/768187890c2709bf2ff06818f40e1cdc79bd44b0/base/gmp.jl#L246\" target=\"_blank\">gmp.jl:246</a><li> +(c::<b>Union(Uint16,Uint8,Uint32,Uint64)</b>,x::<b>BigInt</b>) at <a href=\"https://github.com/JuliaLang/julia/tree/768187890c2709bf2ff06818f40e1cdc79bd44b0/base/gmp.jl#L247\" target=\"_blank\">gmp.jl:247</a><li> +(x::<b>BigInt</b>,c::<b>Union(Uint16,Uint8,Uint32,Uint64)</b>) at <a href=\"https://github.com/JuliaLang/julia/tree/768187890c2709bf2ff06818f40e1cdc79bd44b0/base/gmp.jl#L248\" target=\"_blank\">gmp.jl:248</a><li> +(x::<b>BigInt</b>,c::<b>Union(Int8,Int64,Int16,Int32)</b>) at <a href=\"https://github.com/JuliaLang/julia/tree/768187890c2709bf2ff06818f40e1cdc79bd44b0/base/gmp.jl#L249\" target=\"_blank\">gmp.jl:249</a><li> +(c::<b>Union(Int8,Int64,Int16,Int32)</b>,x::<b>BigInt</b>) at <a href=\"https://github.com/JuliaLang/julia/tree/768187890c2709bf2ff06818f40e1cdc79bd44b0/base/gmp.jl#L250\" target=\"_blank\">gmp.jl:250</a><li> +(x::<b>BigFloat</b>,c::<b>Uint64</b>) at <a href=\"https://github.com/JuliaLang/julia/tree/768187890c2709bf2ff06818f40e1cdc79bd44b0/base/mpfr.jl#L147\" target=\"_blank\">mpfr.jl:147</a><li> +(c::<b>Uint64</b>,x::<b>BigFloat</b>) at <a href=\"https://github.com/JuliaLang/julia/tree/768187890c2709bf2ff06818f40e1cdc79bd44b0/base/mpfr.jl#L151\" target=\"_blank\">mpfr.jl:151</a><li> +(c::<b>Union(Uint16,Uint8,Uint32,Uint64)</b>,x::<b>BigFloat</b>) at <a href=\"https://github.com/JuliaLang/julia/tree/768187890c2709bf2ff06818f40e1cdc79bd44b0/base/mpfr.jl#L152\" target=\"_blank\">mpfr.jl:152</a><li> +(x::<b>BigFloat</b>,c::<b>Union(Uint16,Uint8,Uint32,Uint64)</b>) at <a href=\"https://github.com/JuliaLang/julia/tree/768187890c2709bf2ff06818f40e1cdc79bd44b0/base/mpfr.jl#L153\" target=\"_blank\">mpfr.jl:153</a><li> +(x::<b>BigFloat</b>,c::<b>Int64</b>) at <a href=\"https://github.com/JuliaLang/julia/tree/768187890c2709bf2ff06818f40e1cdc79bd44b0/base/mpfr.jl#L157\" target=\"_blank\">mpfr.jl:157</a><li> +(c::<b>Int64</b>,x::<b>BigFloat</b>) at <a href=\"https://github.com/JuliaLang/julia/tree/768187890c2709bf2ff06818f40e1cdc79bd44b0/base/mpfr.jl#L161\" target=\"_blank\">mpfr.jl:161</a><li> +(x::<b>BigFloat</b>,c::<b>Union(Int8,Int64,Int16,Int32)</b>) at <a href=\"https://github.com/JuliaLang/julia/tree/768187890c2709bf2ff06818f40e1cdc79bd44b0/base/mpfr.jl#L162\" target=\"_blank\">mpfr.jl:162</a><li> +(c::<b>Union(Int8,Int64,Int16,Int32)</b>,x::<b>BigFloat</b>) at <a href=\"https://github.com/JuliaLang/julia/tree/768187890c2709bf2ff06818f40e1cdc79bd44b0/base/mpfr.jl#L163\" target=\"_blank\">mpfr.jl:163</a><li> +(x::<b>BigFloat</b>,c::<b>Float64</b>) at <a href=\"https://github.com/JuliaLang/julia/tree/768187890c2709bf2ff06818f40e1cdc79bd44b0/base/mpfr.jl#L167\" target=\"_blank\">mpfr.jl:167</a><li> +(c::<b>Float64</b>,x::<b>BigFloat</b>) at <a href=\"https://github.com/JuliaLang/julia/tree/768187890c2709bf2ff06818f40e1cdc79bd44b0/base/mpfr.jl#L171\" target=\"_blank\">mpfr.jl:171</a><li> +(c::<b>Float32</b>,x::<b>BigFloat</b>) at <a href=\"https://github.com/JuliaLang/julia/tree/768187890c2709bf2ff06818f40e1cdc79bd44b0/base/mpfr.jl#L172\" target=\"_blank\">mpfr.jl:172</a><li> +(x::<b>BigFloat</b>,c::<b>Float32</b>) at <a href=\"https://github.com/JuliaLang/julia/tree/768187890c2709bf2ff06818f40e1cdc79bd44b0/base/mpfr.jl#L173\" target=\"_blank\">mpfr.jl:173</a><li> +(x::<b>BigFloat</b>,c::<b>BigInt</b>) at <a href=\"https://github.com/JuliaLang/julia/tree/768187890c2709bf2ff06818f40e1cdc79bd44b0/base/mpfr.jl#L177\" target=\"_blank\">mpfr.jl:177</a><li> +(c::<b>BigInt</b>,x::<b>BigFloat</b>) at <a href=\"https://github.com/JuliaLang/julia/tree/768187890c2709bf2ff06818f40e1cdc79bd44b0/base/mpfr.jl#L181\" target=\"_blank\">mpfr.jl:181</a><li> +(x::<b>BigFloat</b>,y::<b>BigFloat</b>) at <a href=\"https://github.com/JuliaLang/julia/tree/768187890c2709bf2ff06818f40e1cdc79bd44b0/base/mpfr.jl#L328\" target=\"_blank\">mpfr.jl:328</a><li> +(a::<b>BigFloat</b>,b::<b>BigFloat</b>,c::<b>BigFloat</b>) at <a href=\"https://github.com/JuliaLang/julia/tree/768187890c2709bf2ff06818f40e1cdc79bd44b0/base/mpfr.jl#L339\" target=\"_blank\">mpfr.jl:339</a><li> +(a::<b>BigFloat</b>,b::<b>BigFloat</b>,c::<b>BigFloat</b>,d::<b>BigFloat</b>) at <a href=\"https://github.com/JuliaLang/julia/tree/768187890c2709bf2ff06818f40e1cdc79bd44b0/base/mpfr.jl#L345\" target=\"_blank\">mpfr.jl:345</a><li> +(a::<b>BigFloat</b>,b::<b>BigFloat</b>,c::<b>BigFloat</b>,d::<b>BigFloat</b>,e::<b>BigFloat</b>) at <a href=\"https://github.com/JuliaLang/julia/tree/768187890c2709bf2ff06818f40e1cdc79bd44b0/base/mpfr.jl#L352\" target=\"_blank\">mpfr.jl:352</a><li> +(x::<b>MathConst{sym}</b>,y::<b>MathConst{sym}</b>) at <a href=\"https://github.com/JuliaLang/julia/tree/768187890c2709bf2ff06818f40e1cdc79bd44b0/base/constants.jl#L23\" target=\"_blank\">constants.jl:23</a><li> +<i>{T<:Number}</i>(x::<b>T<:Number</b>,y::<b>T<:Number</b>) at <a href=\"https://github.com/JuliaLang/julia/tree/768187890c2709bf2ff06818f40e1cdc79bd44b0/base/promotion.jl#L188\" target=\"_blank\">promotion.jl:188</a><li> +<i>{T<:FloatingPoint}</i>(x::<b>Bool</b>,y::<b>T<:FloatingPoint</b>) at <a href=\"https://github.com/JuliaLang/julia/tree/768187890c2709bf2ff06818f40e1cdc79bd44b0/base/bool.jl#L46\" target=\"_blank\">bool.jl:46</a><li> +(x::<b>Number</b>,y::<b>Number</b>) at <a href=\"https://github.com/JuliaLang/julia/tree/768187890c2709bf2ff06818f40e1cdc79bd44b0/base/promotion.jl#L158\" target=\"_blank\">promotion.jl:158</a><li> +(x::<b>Integer</b>,y::<b>Ptr{T}</b>) at <a href=\"https://github.com/JuliaLang/julia/tree/768187890c2709bf2ff06818f40e1cdc79bd44b0/base/pointer.jl#L68\" target=\"_blank\">pointer.jl:68</a><li> +(x::<b>Bool</b>,A::<b>AbstractArray{Bool,N}</b>) at <a href=\"https://github.com/JuliaLang/julia/tree/768187890c2709bf2ff06818f40e1cdc79bd44b0/base/array.jl#L767\" target=\"_blank\">array.jl:767</a><li> +(x::<b>Number</b>) at <a href=\"https://github.com/JuliaLang/julia/tree/768187890c2709bf2ff06818f40e1cdc79bd44b0/base/operators.jl#L71\" target=\"_blank\">operators.jl:71</a><li> +(r1::<b>OrdinalRange{T,S}</b>,r2::<b>OrdinalRange{T,S}</b>) at <a href=\"https://github.com/JuliaLang/julia/tree/768187890c2709bf2ff06818f40e1cdc79bd44b0/base/operators.jl#L325\" target=\"_blank\">operators.jl:325</a><li> +<i>{T<:FloatingPoint}</i>(r1::<b>FloatRange{T<:FloatingPoint}</b>,r2::<b>FloatRange{T<:FloatingPoint}</b>) at <a href=\"https://github.com/JuliaLang/julia/tree/768187890c2709bf2ff06818f40e1cdc79bd44b0/base/operators.jl#L331\" target=\"_blank\">operators.jl:331</a><li> +(r1::<b>FloatRange{T<:FloatingPoint}</b>,r2::<b>FloatRange{T<:FloatingPoint}</b>) at <a href=\"https://github.com/JuliaLang/julia/tree/768187890c2709bf2ff06818f40e1cdc79bd44b0/base/operators.jl#L348\" target=\"_blank\">operators.jl:348</a><li> +(r1::<b>FloatRange{T<:FloatingPoint}</b>,r2::<b>OrdinalRange{T,S}</b>) at <a href=\"https://github.com/JuliaLang/julia/tree/768187890c2709bf2ff06818f40e1cdc79bd44b0/base/operators.jl#L349\" target=\"_blank\">operators.jl:349</a><li> +(r1::<b>OrdinalRange{T,S}</b>,r2::<b>FloatRange{T<:FloatingPoint}</b>) at <a href=\"https://github.com/JuliaLang/julia/tree/768187890c2709bf2ff06818f40e1cdc79bd44b0/base/operators.jl#L350\" target=\"_blank\">operators.jl:350</a><li> +(x::<b>Ptr{T}</b>,y::<b>Integer</b>) at <a href=\"https://github.com/JuliaLang/julia/tree/768187890c2709bf2ff06818f40e1cdc79bd44b0/base/pointer.jl#L66\" target=\"_blank\">pointer.jl:66</a><li> +<i>{S,T<:Real}</i>(A::<b>Union(DenseArray{S,N},SubArray{S,N,A<:DenseArray{T,N},I<:(Union(Int64,Range{Int64})...,)})</b>,B::<b>Range{T<:Real}</b>) at <a href=\"https://github.com/JuliaLang/julia/tree/768187890c2709bf2ff06818f40e1cdc79bd44b0/base/array.jl#L727\" target=\"_blank\">array.jl:727</a><li> +<i>{S<:Real,T}</i>(A::<b>Range{S<:Real}</b>,B::<b>Union(DenseArray{T,N},SubArray{T,N,A<:DenseArray{T,N},I<:(Union(Int64,Range{Int64})...,)})</b>) at <a href=\"https://github.com/JuliaLang/julia/tree/768187890c2709bf2ff06818f40e1cdc79bd44b0/base/array.jl#L736\" target=\"_blank\">array.jl:736</a><li> +(A::<b>AbstractArray{Bool,N}</b>,x::<b>Bool</b>) at <a href=\"https://github.com/JuliaLang/julia/tree/768187890c2709bf2ff06818f40e1cdc79bd44b0/base/array.jl#L766\" target=\"_blank\">array.jl:766</a><li> +<i>{Tv,Ti}</i>(A::<b>SparseMatrixCSC{Tv,Ti}</b>,B::<b>SparseMatrixCSC{Tv,Ti}</b>) at <a href=\"https://github.com/JuliaLang/julia/tree/768187890c2709bf2ff06818f40e1cdc79bd44b0/base/sparse/sparsematrix.jl#L530\" target=\"_blank\">sparse/sparsematrix.jl:530</a><li> +<i>{TvA,TiA,TvB,TiB}</i>(A::<b>SparseMatrixCSC{TvA,TiA}</b>,B::<b>SparseMatrixCSC{TvB,TiB}</b>) at <a href=\"https://github.com/JuliaLang/julia/tree/768187890c2709bf2ff06818f40e1cdc79bd44b0/base/sparse/sparsematrix.jl#L522\" target=\"_blank\">sparse/sparsematrix.jl:522</a><li> +(A::<b>SparseMatrixCSC{Tv,Ti<:Integer}</b>,B::<b>Array{T,N}</b>) at <a href=\"https://github.com/JuliaLang/julia/tree/768187890c2709bf2ff06818f40e1cdc79bd44b0/base/sparse/sparsematrix.jl#L621\" target=\"_blank\">sparse/sparsematrix.jl:621</a><li> +(A::<b>Array{T,N}</b>,B::<b>SparseMatrixCSC{Tv,Ti<:Integer}</b>) at <a href=\"https://github.com/JuliaLang/julia/tree/768187890c2709bf2ff06818f40e1cdc79bd44b0/base/sparse/sparsematrix.jl#L623\" target=\"_blank\">sparse/sparsematrix.jl:623</a><li> +(A::<b>SymTridiagonal{T}</b>,B::<b>SymTridiagonal{T}</b>) at <a href=\"https://github.com/JuliaLang/julia/tree/768187890c2709bf2ff06818f40e1cdc79bd44b0/base/linalg/tridiag.jl#L45\" target=\"_blank\">linalg/tridiag.jl:45</a><li> +(A::<b>Tridiagonal{T}</b>,B::<b>Tridiagonal{T}</b>) at <a href=\"https://github.com/JuliaLang/julia/tree/768187890c2709bf2ff06818f40e1cdc79bd44b0/base/linalg/tridiag.jl#L207\" target=\"_blank\">linalg/tridiag.jl:207</a><li> +(A::<b>Tridiagonal{T}</b>,B::<b>SymTridiagonal{T}</b>) at <a href=\"https://github.com/JuliaLang/julia/tree/768187890c2709bf2ff06818f40e1cdc79bd44b0/base/linalg/special.jl#L99\" target=\"_blank\">linalg/special.jl:99</a><li> +(A::<b>SymTridiagonal{T}</b>,B::<b>Tridiagonal{T}</b>) at <a href=\"https://github.com/JuliaLang/julia/tree/768187890c2709bf2ff06818f40e1cdc79bd44b0/base/linalg/special.jl#L98\" target=\"_blank\">linalg/special.jl:98</a><li> +<i>{T,MT,uplo}</i>(A::<b>Triangular{T,MT,uplo,IsUnit}</b>,B::<b>Triangular{T,MT,uplo,IsUnit}</b>) at <a href=\"https://github.com/JuliaLang/julia/tree/768187890c2709bf2ff06818f40e1cdc79bd44b0/base/linalg/triangular.jl#L10\" target=\"_blank\">linalg/triangular.jl:10</a><li> +<i>{T,MT,uplo1,uplo2}</i>(A::<b>Triangular{T,MT,uplo1,IsUnit}</b>,B::<b>Triangular{T,MT,uplo2,IsUnit}</b>) at <a href=\"https://github.com/JuliaLang/julia/tree/768187890c2709bf2ff06818f40e1cdc79bd44b0/base/linalg/triangular.jl#L11\" target=\"_blank\">linalg/triangular.jl:11</a><li> +(Da::<b>Diagonal{T}</b>,Db::<b>Diagonal{T}</b>) at <a href=\"https://github.com/JuliaLang/julia/tree/768187890c2709bf2ff06818f40e1cdc79bd44b0/base/linalg/diagonal.jl#L44\" target=\"_blank\">linalg/diagonal.jl:44</a><li> +(A::<b>Bidiagonal{T}</b>,B::<b>Bidiagonal{T}</b>) at <a href=\"https://github.com/JuliaLang/julia/tree/768187890c2709bf2ff06818f40e1cdc79bd44b0/base/linalg/bidiag.jl#L92\" target=\"_blank\">linalg/bidiag.jl:92</a><li> +<i>{T}</i>(B::<b>BitArray{2}</b>,J::<b>UniformScaling{T}</b>) at <a href=\"https://github.com/JuliaLang/julia/tree/768187890c2709bf2ff06818f40e1cdc79bd44b0/base/linalg/uniformscaling.jl#L26\" target=\"_blank\">linalg/uniformscaling.jl:26</a><li> +(A::<b>Diagonal{T}</b>,B::<b>Bidiagonal{T}</b>) at <a href=\"https://github.com/JuliaLang/julia/tree/768187890c2709bf2ff06818f40e1cdc79bd44b0/base/linalg/special.jl#L89\" target=\"_blank\">linalg/special.jl:89</a><li> +(A::<b>Bidiagonal{T}</b>,B::<b>Diagonal{T}</b>) at <a href=\"https://github.com/JuliaLang/julia/tree/768187890c2709bf2ff06818f40e1cdc79bd44b0/base/linalg/special.jl#L90\" target=\"_blank\">linalg/special.jl:90</a><li> +(A::<b>Diagonal{T}</b>,B::<b>Tridiagonal{T}</b>) at <a href=\"https://github.com/JuliaLang/julia/tree/768187890c2709bf2ff06818f40e1cdc79bd44b0/base/linalg/special.jl#L89\" target=\"_blank\">linalg/special.jl:89</a><li> +(A::<b>Tridiagonal{T}</b>,B::<b>Diagonal{T}</b>) at <a href=\"https://github.com/JuliaLang/julia/tree/768187890c2709bf2ff06818f40e1cdc79bd44b0/base/linalg/special.jl#L90\" target=\"_blank\">linalg/special.jl:90</a><li> +(A::<b>Diagonal{T}</b>,B::<b>Triangular{T,S<:AbstractArray{T,2},UpLo,IsUnit}</b>) at <a href=\"https://github.com/JuliaLang/julia/tree/768187890c2709bf2ff06818f40e1cdc79bd44b0/base/linalg/special.jl#L89\" target=\"_blank\">linalg/special.jl:89</a><li> +(A::<b>Triangular{T,S<:AbstractArray{T,2},UpLo,IsUnit}</b>,B::<b>Diagonal{T}</b>) at <a href=\"https://github.com/JuliaLang/julia/tree/768187890c2709bf2ff06818f40e1cdc79bd44b0/base/linalg/special.jl#L90\" target=\"_blank\">linalg/special.jl:90</a><li> +(A::<b>Diagonal{T}</b>,B::<b>Array{T,2}</b>) at <a href=\"https://github.com/JuliaLang/julia/tree/768187890c2709bf2ff06818f40e1cdc79bd44b0/base/linalg/special.jl#L89\" target=\"_blank\">linalg/special.jl:89</a><li> +(A::<b>Array{T,2}</b>,B::<b>Diagonal{T}</b>) at <a href=\"https://github.com/JuliaLang/julia/tree/768187890c2709bf2ff06818f40e1cdc79bd44b0/base/linalg/special.jl#L90\" target=\"_blank\">linalg/special.jl:90</a><li> +(A::<b>Bidiagonal{T}</b>,B::<b>Tridiagonal{T}</b>) at <a href=\"https://github.com/JuliaLang/julia/tree/768187890c2709bf2ff06818f40e1cdc79bd44b0/base/linalg/special.jl#L89\" target=\"_blank\">linalg/special.jl:89</a><li> +(A::<b>Tridiagonal{T}</b>,B::<b>Bidiagonal{T}</b>) at <a href=\"https://github.com/JuliaLang/julia/tree/768187890c2709bf2ff06818f40e1cdc79bd44b0/base/linalg/special.jl#L90\" target=\"_blank\">linalg/special.jl:90</a><li> +(A::<b>Bidiagonal{T}</b>,B::<b>Triangular{T,S<:AbstractArray{T,2},UpLo,IsUnit}</b>) at <a href=\"https://github.com/JuliaLang/julia/tree/768187890c2709bf2ff06818f40e1cdc79bd44b0/base/linalg/special.jl#L89\" target=\"_blank\">linalg/special.jl:89</a><li> +(A::<b>Triangular{T,S<:AbstractArray{T,2},UpLo,IsUnit}</b>,B::<b>Bidiagonal{T}</b>) at <a href=\"https://github.com/JuliaLang/julia/tree/768187890c2709bf2ff06818f40e1cdc79bd44b0/base/linalg/special.jl#L90\" target=\"_blank\">linalg/special.jl:90</a><li> +(A::<b>Bidiagonal{T}</b>,B::<b>Array{T,2}</b>) at <a href=\"https://github.com/JuliaLang/julia/tree/768187890c2709bf2ff06818f40e1cdc79bd44b0/base/linalg/special.jl#L89\" target=\"_blank\">linalg/special.jl:89</a><li> +(A::<b>Array{T,2}</b>,B::<b>Bidiagonal{T}</b>) at <a href=\"https://github.com/JuliaLang/julia/tree/768187890c2709bf2ff06818f40e1cdc79bd44b0/base/linalg/special.jl#L90\" target=\"_blank\">linalg/special.jl:90</a><li> +(A::<b>Tridiagonal{T}</b>,B::<b>Triangular{T,S<:AbstractArray{T,2},UpLo,IsUnit}</b>) at <a href=\"https://github.com/JuliaLang/julia/tree/768187890c2709bf2ff06818f40e1cdc79bd44b0/base/linalg/special.jl#L89\" target=\"_blank\">linalg/special.jl:89</a><li> +(A::<b>Triangular{T,S<:AbstractArray{T,2},UpLo,IsUnit}</b>,B::<b>Tridiagonal{T}</b>) at <a href=\"https://github.com/JuliaLang/julia/tree/768187890c2709bf2ff06818f40e1cdc79bd44b0/base/linalg/special.jl#L90\" target=\"_blank\">linalg/special.jl:90</a><li> +(A::<b>Tridiagonal{T}</b>,B::<b>Array{T,2}</b>) at <a href=\"https://github.com/JuliaLang/julia/tree/768187890c2709bf2ff06818f40e1cdc79bd44b0/base/linalg/special.jl#L89\" target=\"_blank\">linalg/special.jl:89</a><li> +(A::<b>Array{T,2}</b>,B::<b>Tridiagonal{T}</b>) at <a href=\"https://github.com/JuliaLang/julia/tree/768187890c2709bf2ff06818f40e1cdc79bd44b0/base/linalg/special.jl#L90\" target=\"_blank\">linalg/special.jl:90</a><li> +(A::<b>Triangular{T,S<:AbstractArray{T,2},UpLo,IsUnit}</b>,B::<b>Array{T,2}</b>) at <a href=\"https://github.com/JuliaLang/julia/tree/768187890c2709bf2ff06818f40e1cdc79bd44b0/base/linalg/special.jl#L89\" target=\"_blank\">linalg/special.jl:89</a><li> +(A::<b>Array{T,2}</b>,B::<b>Triangular{T,S<:AbstractArray{T,2},UpLo,IsUnit}</b>) at <a href=\"https://github.com/JuliaLang/julia/tree/768187890c2709bf2ff06818f40e1cdc79bd44b0/base/linalg/special.jl#L90\" target=\"_blank\">linalg/special.jl:90</a><li> +(A::<b>SymTridiagonal{T}</b>,B::<b>Triangular{T,S<:AbstractArray{T,2},UpLo,IsUnit}</b>) at <a href=\"https://github.com/JuliaLang/julia/tree/768187890c2709bf2ff06818f40e1cdc79bd44b0/base/linalg/special.jl#L98\" target=\"_blank\">linalg/special.jl:98</a><li> +(A::<b>Triangular{T,S<:AbstractArray{T,2},UpLo,IsUnit}</b>,B::<b>SymTridiagonal{T}</b>) at <a href=\"https://github.com/JuliaLang/julia/tree/768187890c2709bf2ff06818f40e1cdc79bd44b0/base/linalg/special.jl#L99\" target=\"_blank\">linalg/special.jl:99</a><li> +(A::<b>SymTridiagonal{T}</b>,B::<b>Array{T,2}</b>) at <a href=\"https://github.com/JuliaLang/julia/tree/768187890c2709bf2ff06818f40e1cdc79bd44b0/base/linalg/special.jl#L98\" target=\"_blank\">linalg/special.jl:98</a><li> +(A::<b>Array{T,2}</b>,B::<b>SymTridiagonal{T}</b>) at <a href=\"https://github.com/JuliaLang/julia/tree/768187890c2709bf2ff06818f40e1cdc79bd44b0/base/linalg/special.jl#L99\" target=\"_blank\">linalg/special.jl:99</a><li> +(A::<b>Diagonal{T}</b>,B::<b>SymTridiagonal{T}</b>) at <a href=\"https://github.com/JuliaLang/julia/tree/768187890c2709bf2ff06818f40e1cdc79bd44b0/base/linalg/special.jl#L107\" target=\"_blank\">linalg/special.jl:107</a><li> +(A::<b>SymTridiagonal{T}</b>,B::<b>Diagonal{T}</b>) at <a href=\"https://github.com/JuliaLang/julia/tree/768187890c2709bf2ff06818f40e1cdc79bd44b0/base/linalg/special.jl#L108\" target=\"_blank\">linalg/special.jl:108</a><li> +(A::<b>Bidiagonal{T}</b>,B::<b>SymTridiagonal{T}</b>) at <a href=\"https://github.com/JuliaLang/julia/tree/768187890c2709bf2ff06818f40e1cdc79bd44b0/base/linalg/special.jl#L107\" target=\"_blank\">linalg/special.jl:107</a><li> +(A::<b>SymTridiagonal{T}</b>,B::<b>Bidiagonal{T}</b>) at <a href=\"https://github.com/JuliaLang/julia/tree/768187890c2709bf2ff06818f40e1cdc79bd44b0/base/linalg/special.jl#L108\" target=\"_blank\">linalg/special.jl:108</a><li> +<i>{T<:Number}</i>(x::<b>AbstractArray{T<:Number,N}</b>) at <a href=\"https://github.com/JuliaLang/julia/tree/768187890c2709bf2ff06818f40e1cdc79bd44b0/base/abstractarray.jl#L362\" target=\"_blank\">abstractarray.jl:362</a><li> +(A::<b>AbstractArray{T,N}</b>,x::<b>Number</b>) at <a href=\"https://github.com/JuliaLang/julia/tree/768187890c2709bf2ff06818f40e1cdc79bd44b0/base/array.jl#L770\" target=\"_blank\">array.jl:770</a><li> +(x::<b>Number</b>,A::<b>AbstractArray{T,N}</b>) at <a href=\"https://github.com/JuliaLang/julia/tree/768187890c2709bf2ff06818f40e1cdc79bd44b0/base/array.jl#L771\" target=\"_blank\">array.jl:771</a><li> +(J1::<b>UniformScaling{T<:Number}</b>,J2::<b>UniformScaling{T<:Number}</b>) at <a href=\"https://github.com/JuliaLang/julia/tree/768187890c2709bf2ff06818f40e1cdc79bd44b0/base/linalg/uniformscaling.jl#L25\" target=\"_blank\">linalg/uniformscaling.jl:25</a><li> +(J::<b>UniformScaling{T<:Number}</b>,B::<b>BitArray{2}</b>) at <a href=\"https://github.com/JuliaLang/julia/tree/768187890c2709bf2ff06818f40e1cdc79bd44b0/base/linalg/uniformscaling.jl#L27\" target=\"_blank\">linalg/uniformscaling.jl:27</a><li> +(J::<b>UniformScaling{T<:Number}</b>,A::<b>AbstractArray{T,2}</b>) at <a href=\"https://github.com/JuliaLang/julia/tree/768187890c2709bf2ff06818f40e1cdc79bd44b0/base/linalg/uniformscaling.jl#L28\" target=\"_blank\">linalg/uniformscaling.jl:28</a><li> +(J::<b>UniformScaling{T<:Number}</b>,x::<b>Number</b>) at <a href=\"https://github.com/JuliaLang/julia/tree/768187890c2709bf2ff06818f40e1cdc79bd44b0/base/linalg/uniformscaling.jl#L29\" target=\"_blank\">linalg/uniformscaling.jl:29</a><li> +(x::<b>Number</b>,J::<b>UniformScaling{T<:Number}</b>) at <a href=\"https://github.com/JuliaLang/julia/tree/768187890c2709bf2ff06818f40e1cdc79bd44b0/base/linalg/uniformscaling.jl#L30\" target=\"_blank\">linalg/uniformscaling.jl:30</a><li> +<i>{TA,TJ}</i>(A::<b>AbstractArray{TA,2}</b>,J::<b>UniformScaling{TJ}</b>) at <a href=\"https://github.com/JuliaLang/julia/tree/768187890c2709bf2ff06818f40e1cdc79bd44b0/base/linalg/uniformscaling.jl#L33\" target=\"_blank\">linalg/uniformscaling.jl:33</a><li> +<i>{T}</i>(a::<b>HierarchicalValue{T}</b>,b::<b>HierarchicalValue{T}</b>) at <a href=\"https://github.com/JuliaLang/julia/tree/768187890c2709bf2ff06818f40e1cdc79bd44b0/base/pkg/resolve/versionweight.jl#L19\" target=\"_blank\">pkg/resolve/versionweight.jl:19</a><li> +(a::<b>VWPreBuildItem</b>,b::<b>VWPreBuildItem</b>) at <a href=\"https://github.com/JuliaLang/julia/tree/768187890c2709bf2ff06818f40e1cdc79bd44b0/base/pkg/resolve/versionweight.jl#L82\" target=\"_blank\">pkg/resolve/versionweight.jl:82</a><li> +(a::<b>VWPreBuild</b>,b::<b>VWPreBuild</b>) at <a href=\"https://github.com/JuliaLang/julia/tree/768187890c2709bf2ff06818f40e1cdc79bd44b0/base/pkg/resolve/versionweight.jl#L120\" target=\"_blank\">pkg/resolve/versionweight.jl:120</a><li> +(a::<b>VersionWeight</b>,b::<b>VersionWeight</b>) at <a href=\"https://github.com/JuliaLang/julia/tree/768187890c2709bf2ff06818f40e1cdc79bd44b0/base/pkg/resolve/versionweight.jl#L164\" target=\"_blank\">pkg/resolve/versionweight.jl:164</a><li> +(a::<b>FieldValue</b>,b::<b>FieldValue</b>) at <a href=\"https://github.com/JuliaLang/julia/tree/768187890c2709bf2ff06818f40e1cdc79bd44b0/base/pkg/resolve/fieldvalue.jl#L41\" target=\"_blank\">pkg/resolve/fieldvalue.jl:41</a><li> +(a::<b>Vec2</b>,b::<b>Vec2</b>) at <a href=\"https://github.com/JuliaLang/julia/tree/768187890c2709bf2ff06818f40e1cdc79bd44b0/base/graphics.jl#L60\" target=\"_blank\">graphics.jl:60</a><li> +(bb1::<b>BoundingBox</b>,bb2::<b>BoundingBox</b>) at <a href=\"https://github.com/JuliaLang/julia/tree/768187890c2709bf2ff06818f40e1cdc79bd44b0/base/graphics.jl#L123\" target=\"_blank\">graphics.jl:123</a><li> +(a,b,c) at <a href=\"https://github.com/JuliaLang/julia/tree/768187890c2709bf2ff06818f40e1cdc79bd44b0/base/operators.jl#L82\" target=\"_blank\">operators.jl:82</a><li> +(a,b,c,xs...) at <a href=\"https://github.com/JuliaLang/julia/tree/768187890c2709bf2ff06818f40e1cdc79bd44b0/base/operators.jl#L83\" target=\"_blank\">operators.jl:83</a></ul>"
       ],
       "metadata": {},
       "output_type": "pyout",
       "prompt_number": 7,
       "text": [
        "# 125 methods for generic function \"+\":\n",
        "+(x::Bool) at bool.jl:36\n",
        "+(x::Bool,y::Bool) at bool.jl:39\n",
        "+(y::FloatingPoint,x::Bool) at bool.jl:49\n",
        "+(A::BitArray{N},B::BitArray{N}) at bitarray.jl:848\n",
        "+(A::Union(DenseArray{Bool,N},SubArray{Bool,N,A<:DenseArray{T,N},I<:(Union(Int64,Range{Int64})...,)}),B::Union(DenseArray{Bool,N},SubArray{Bool,N,A<:DenseArray{T,N},I<:(Union(Int64,Range{Int64})...,)})) at array.jl:797\n",
        "+{S,T}(A::Union(DenseArray{S,N},SubArray{S,N,A<:DenseArray{T,N},I<:(Union(Int64,Range{Int64})...,)}),B::Union(DenseArray{T,N},SubArray{T,N,A<:DenseArray{T,N},I<:(Union(Int64,Range{Int64})...,)})) at array.jl:719\n",
        "+{T<:Union(Int8,Int16,Int32)}(x::T<:Union(Int8,Int16,Int32),y::T<:Union(Int8,Int16,Int32)) at int.jl:16\n",
        "+{T<:Union(Uint16,Uint8,Uint32)}(x::T<:Union(Uint16,Uint8,Uint32),y::T<:Union(Uint16,Uint8,Uint32)) at int.jl:20\n",
        "+(x::Int64,y::Int64) at int.jl:33\n",
        "+(x::Uint64,y::Uint64) at int.jl:34\n",
        "+(x::Int128,y::Int128) at int.jl:35\n",
        "+(x::Uint128,y::Uint128) at int.jl:36\n",
        "+(x::Float32,y::Float32) at float.jl:119\n",
        "+(x::Float64,y::Float64) at float.jl:120\n",
        "+(z::Complex{T<:Real},w::Complex{T<:Real}) at complex.jl:110\n",
        "+(x::Real,z::Complex{T<:Real}) at complex.jl:120\n",
        "+(z::Complex{T<:Real},x::Real) at complex.jl:121\n",
        "+(x::Rational{T<:Integer},y::Rational{T<:Integer}) at rational.jl:113\n",
        "+(x::Char,y::Char) at char.jl:23\n",
        "+(x::Char,y::Integer) at char.jl:26\n",
        "+(x::Integer,y::Char) at char.jl:27\n",
        "+(a::Float16,b::Float16) at float16.jl:132\n",
        "+(x::BigInt,y::BigInt) at gmp.jl:194\n",
        "+(a::BigInt,b::BigInt,c::BigInt) at gmp.jl:217\n",
        "+(a::BigInt,b::BigInt,c::BigInt,d::BigInt) at gmp.jl:223\n",
        "+(a::BigInt,b::BigInt,c::BigInt,d::BigInt,e::BigInt) at gmp.jl:230\n",
        "+(x::BigInt,c::Uint64) at gmp.jl:242\n",
        "+(c::Uint64,x::BigInt) at gmp.jl:246\n",
        "+(c::Union(Uint16,Uint8,Uint32,Uint64),x::BigInt) at gmp.jl:247\n",
        "+(x::BigInt,c::Union(Uint16,Uint8,Uint32,Uint64)) at gmp.jl:248\n",
        "+(x::BigInt,c::Union(Int8,Int64,Int16,Int32)) at gmp.jl:249\n",
        "+(c::Union(Int8,Int64,Int16,Int32),x::BigInt) at gmp.jl:250\n",
        "+(x::BigFloat,c::Uint64) at mpfr.jl:147\n",
        "+(c::Uint64,x::BigFloat) at mpfr.jl:151\n",
        "+(c::Union(Uint16,Uint8,Uint32,Uint64),x::BigFloat) at mpfr.jl:152\n",
        "+(x::BigFloat,c::Union(Uint16,Uint8,Uint32,Uint64)) at mpfr.jl:153\n",
        "+(x::BigFloat,c::Int64) at mpfr.jl:157\n",
        "+(c::Int64,x::BigFloat) at mpfr.jl:161\n",
        "+(x::BigFloat,c::Union(Int8,Int64,Int16,Int32)) at mpfr.jl:162\n",
        "+(c::Union(Int8,Int64,Int16,Int32),x::BigFloat) at mpfr.jl:163\n",
        "+(x::BigFloat,c::Float64) at mpfr.jl:167\n",
        "+(c::Float64,x::BigFloat) at mpfr.jl:171\n",
        "+(c::Float32,x::BigFloat) at mpfr.jl:172\n",
        "+(x::BigFloat,c::Float32) at mpfr.jl:173\n",
        "+(x::BigFloat,c::BigInt) at mpfr.jl:177\n",
        "+(c::BigInt,x::BigFloat) at mpfr.jl:181\n",
        "+(x::BigFloat,y::BigFloat) at mpfr.jl:328\n",
        "+(a::BigFloat,b::BigFloat,c::BigFloat) at mpfr.jl:339\n",
        "+(a::BigFloat,b::BigFloat,c::BigFloat,d::BigFloat) at mpfr.jl:345\n",
        "+(a::BigFloat,b::BigFloat,c::BigFloat,d::BigFloat,e::BigFloat) at mpfr.jl:352\n",
        "+(x::MathConst{sym},y::MathConst{sym}) at constants.jl:23\n",
        "+{T<:Number}(x::T<:Number,y::T<:Number) at promotion.jl:188\n",
        "+{T<:FloatingPoint}(x::Bool,y::T<:FloatingPoint) at bool.jl:46\n",
        "+(x::Number,y::Number) at promotion.jl:158\n",
        "+(x::Integer,y::Ptr{T}) at pointer.jl:68\n",
        "+(x::Bool,A::AbstractArray{Bool,N}) at array.jl:767\n",
        "+(x::Number) at operators.jl:71\n",
        "+(r1::OrdinalRange{T,S},r2::OrdinalRange{T,S}) at operators.jl:325\n",
        "+{T<:FloatingPoint}(r1::FloatRange{T<:FloatingPoint},r2::FloatRange{T<:FloatingPoint}) at operators.jl:331\n",
        "+(r1::FloatRange{T<:FloatingPoint},r2::FloatRange{T<:FloatingPoint}) at operators.jl:348\n",
        "+(r1::FloatRange{T<:FloatingPoint},r2::OrdinalRange{T,S}) at operators.jl:349\n",
        "+(r1::OrdinalRange{T,S},r2::FloatRange{T<:FloatingPoint}) at operators.jl:350\n",
        "+(x::Ptr{T},y::Integer) at pointer.jl:66\n",
        "+{S,T<:Real}(A::Union(DenseArray{S,N},SubArray{S,N,A<:DenseArray{T,N},I<:(Union(Int64,Range{Int64})...,)}),B::Range{T<:Real}) at array.jl:727\n",
        "+{S<:Real,T}(A::Range{S<:Real},B::Union(DenseArray{T,N},SubArray{T,N,A<:DenseArray{T,N},I<:(Union(Int64,Range{Int64})...,)})) at array.jl:736\n",
        "+(A::AbstractArray{Bool,N},x::Bool) at array.jl:766\n",
        "+{Tv,Ti}(A::SparseMatrixCSC{Tv,Ti},B::SparseMatrixCSC{Tv,Ti}) at sparse/sparsematrix.jl:530\n",
        "+{TvA,TiA,TvB,TiB}(A::SparseMatrixCSC{TvA,TiA},B::SparseMatrixCSC{TvB,TiB}) at sparse/sparsematrix.jl:522\n",
        "+(A::SparseMatrixCSC{Tv,Ti<:Integer},B::Array{T,N}) at sparse/sparsematrix.jl:621\n",
        "+(A::Array{T,N},B::SparseMatrixCSC{Tv,Ti<:Integer}) at sparse/sparsematrix.jl:623\n",
        "+(A::SymTridiagonal{T},B::SymTridiagonal{T}) at linalg/tridiag.jl:45\n",
        "+(A::Tridiagonal{T},B::Tridiagonal{T}) at linalg/tridiag.jl:207\n",
        "+(A::Tridiagonal{T},B::SymTridiagonal{T}) at linalg/special.jl:99\n",
        "+(A::SymTridiagonal{T},B::Tridiagonal{T}) at linalg/special.jl:98\n",
        "+{T,MT,uplo}(A::Triangular{T,MT,uplo,IsUnit},B::Triangular{T,MT,uplo,IsUnit}) at linalg/triangular.jl:10\n",
        "+{T,MT,uplo1,uplo2}(A::Triangular{T,MT,uplo1,IsUnit},B::Triangular{T,MT,uplo2,IsUnit}) at linalg/triangular.jl:11\n",
        "+(Da::Diagonal{T},Db::Diagonal{T}) at linalg/diagonal.jl:44\n",
        "+(A::Bidiagonal{T},B::Bidiagonal{T}) at linalg/bidiag.jl:92\n",
        "+{T}(B::BitArray{2},J::UniformScaling{T}) at linalg/uniformscaling.jl:26\n",
        "+(A::Diagonal{T},B::Bidiagonal{T}) at linalg/special.jl:89\n",
        "+(A::Bidiagonal{T},B::Diagonal{T}) at linalg/special.jl:90\n",
        "+(A::Diagonal{T},B::Tridiagonal{T}) at linalg/special.jl:89\n",
        "+(A::Tridiagonal{T},B::Diagonal{T}) at linalg/special.jl:90\n",
        "+(A::Diagonal{T},B::Triangular{T,S<:AbstractArray{T,2},UpLo,IsUnit}) at linalg/special.jl:89\n",
        "+(A::Triangular{T,S<:AbstractArray{T,2},UpLo,IsUnit},B::Diagonal{T}) at linalg/special.jl:90\n",
        "+(A::Diagonal{T},B::Array{T,2}) at linalg/special.jl:89\n",
        "+(A::Array{T,2},B::Diagonal{T}) at linalg/special.jl:90\n",
        "+(A::Bidiagonal{T},B::Tridiagonal{T}) at linalg/special.jl:89\n",
        "+(A::Tridiagonal{T},B::Bidiagonal{T}) at linalg/special.jl:90\n",
        "+(A::Bidiagonal{T},B::Triangular{T,S<:AbstractArray{T,2},UpLo,IsUnit}) at linalg/special.jl:89\n",
        "+(A::Triangular{T,S<:AbstractArray{T,2},UpLo,IsUnit},B::Bidiagonal{T}) at linalg/special.jl:90\n",
        "+(A::Bidiagonal{T},B::Array{T,2}) at linalg/special.jl:89\n",
        "+(A::Array{T,2},B::Bidiagonal{T}) at linalg/special.jl:90\n",
        "+(A::Tridiagonal{T},B::Triangular{T,S<:AbstractArray{T,2},UpLo,IsUnit}) at linalg/special.jl:89\n",
        "+(A::Triangular{T,S<:AbstractArray{T,2},UpLo,IsUnit},B::Tridiagonal{T}) at linalg/special.jl:90\n",
        "+(A::Tridiagonal{T},B::Array{T,2}) at linalg/special.jl:89\n",
        "+(A::Array{T,2},B::Tridiagonal{T}) at linalg/special.jl:90\n",
        "+(A::Triangular{T,S<:AbstractArray{T,2},UpLo,IsUnit},B::Array{T,2}) at linalg/special.jl:89\n",
        "+(A::Array{T,2},B::Triangular{T,S<:AbstractArray{T,2},UpLo,IsUnit}) at linalg/special.jl:90\n",
        "+(A::SymTridiagonal{T},B::Triangular{T,S<:AbstractArray{T,2},UpLo,IsUnit}) at linalg/special.jl:98\n",
        "+(A::Triangular{T,S<:AbstractArray{T,2},UpLo,IsUnit},B::SymTridiagonal{T}) at linalg/special.jl:99\n",
        "+(A::SymTridiagonal{T},B::Array{T,2}) at linalg/special.jl:98\n",
        "+(A::Array{T,2},B::SymTridiagonal{T}) at linalg/special.jl:99\n",
        "+(A::Diagonal{T},B::SymTridiagonal{T}) at linalg/special.jl:107\n",
        "+(A::SymTridiagonal{T},B::Diagonal{T}) at linalg/special.jl:108\n",
        "+(A::Bidiagonal{T},B::SymTridiagonal{T}) at linalg/special.jl:107\n",
        "+(A::SymTridiagonal{T},B::Bidiagonal{T}) at linalg/special.jl:108\n",
        "+{T<:Number}(x::AbstractArray{T<:Number,N}) at abstractarray.jl:362\n",
        "+(A::AbstractArray{T,N},x::Number) at array.jl:770\n",
        "+(x::Number,A::AbstractArray{T,N}) at array.jl:771\n",
        "+(J1::UniformScaling{T<:Number},J2::UniformScaling{T<:Number}) at linalg/uniformscaling.jl:25\n",
        "+(J::UniformScaling{T<:Number},B::BitArray{2}) at linalg/uniformscaling.jl:27\n",
        "+(J::UniformScaling{T<:Number},A::AbstractArray{T,2}) at linalg/uniformscaling.jl:28\n",
        "+(J::UniformScaling{T<:Number},x::Number) at linalg/uniformscaling.jl:29\n",
        "+(x::Number,J::UniformScaling{T<:Number}) at linalg/uniformscaling.jl:30\n",
        "+{TA,TJ}(A::AbstractArray{TA,2},J::UniformScaling{TJ}) at linalg/uniformscaling.jl:33\n",
        "+{T}(a::HierarchicalValue{T},b::HierarchicalValue{T}) at pkg/resolve/versionweight.jl:19\n",
        "+(a::VWPreBuildItem,b::VWPreBuildItem) at pkg/resolve/versionweight.jl:82\n",
        "+(a::VWPreBuild,b::VWPreBuild) at pkg/resolve/versionweight.jl:120\n",
        "+(a::VersionWeight,b::VersionWeight) at pkg/resolve/versionweight.jl:164\n",
        "+(a::FieldValue,b::FieldValue) at pkg/resolve/fieldvalue.jl:41\n",
        "+(a::Vec2,b::Vec2) at graphics.jl:60\n",
        "+(bb1::BoundingBox,bb2::BoundingBox) at graphics.jl:123\n",
        "+(a,b,c) at operators.jl:82\n",
        "+(a,b,c,xs...) at operators.jl:83"
       ]
      }
     ],
     "prompt_number": 7
    },
    {
     "cell_type": "code",
     "collapsed": false,
     "input": [
      "# ASCIIString is a subtype of String\n",
      "super(ASCIIString)"
     ],
     "language": "python",
     "metadata": {},
     "outputs": [
      {
       "metadata": {},
       "output_type": "pyout",
       "prompt_number": 4,
       "text": [
        "DirectIndexString"
       ]
      }
     ],
     "prompt_number": 4
    },
    {
     "cell_type": "code",
     "collapsed": false,
     "input": [
      "super(DirectIndexString)"
     ],
     "language": "python",
     "metadata": {},
     "outputs": [
      {
       "metadata": {},
       "output_type": "pyout",
       "prompt_number": 5,
       "text": [
        "String"
       ]
      }
     ],
     "prompt_number": 5
    },
    {
     "cell_type": "code",
     "collapsed": false,
     "input": [
      "super(String)"
     ],
     "language": "python",
     "metadata": {},
     "outputs": [
      {
       "metadata": {},
       "output_type": "pyout",
       "prompt_number": 6,
       "text": [
        "Any"
       ]
      }
     ],
     "prompt_number": 6
    },
    {
     "cell_type": "markdown",
     "metadata": {},
     "source": [
      "In this way, the concept of \"function\" is replaced by a \"patchwork\" of different definitions for objects of different types, easily modifiable by the user. This is also exactly the way to define \"operator overloading\" for user-defined types.\n",
      "\n",
      "In the above, we also begin to see the power of multiple dispatch: there are many methods of the function +, all with different types of arguments."
     ]
    },
    {
     "cell_type": "markdown",
     "metadata": {},
     "source": [
      "# User-defined Types\n",
      "\n",
      "In Julia, Types are the equivalent of classes in Python.\n",
      "\n",
      "A user-defined \"composite type\" is a collection of data. Unlike in Python, types do not \"own\" methods (functions internal to the type).\n",
      "\n",
      "Rather, methods are defined separately, and are characterised by the types of all of their arguments; this is known as multiple dispatch. (Dispatch is the process of choosing which \"version\" of a given function to execute.)"
     ]
    },
    {
     "cell_type": "code",
     "collapsed": false,
     "input": [
      "# Create a type by specifying the data it contains.\n",
      "immutable Vector2D\n",
      "    x::Float64\n",
      "    y::Float64\n",
      "end "
     ],
     "language": "python",
     "metadata": {},
     "outputs": [],
     "prompt_number": 9
    },
    {
     "cell_type": "code",
     "collapsed": false,
     "input": [
      "# Create two instances\n",
      "v = Vector2D(3, 4)\n",
      "w = Vector2D(5, 6)"
     ],
     "language": "python",
     "metadata": {},
     "outputs": [
      {
       "metadata": {},
       "output_type": "pyout",
       "prompt_number": 11,
       "text": [
        "Vector2D(5.0,6.0)"
       ]
      }
     ],
     "prompt_number": 11
    },
    {
     "cell_type": "code",
     "collapsed": false,
     "input": [
      "v + w"
     ],
     "language": "python",
     "metadata": {},
     "outputs": [
      {
       "ename": "LoadError",
       "evalue": "`+` has no method matching +(::Vector2D, ::Vector2D)\nwhile loading In[12], in expression starting on line 1",
       "output_type": "pyerr",
       "traceback": [
        "`+` has no method matching +(::Vector2D, ::Vector2D)\nwhile loading In[12], in expression starting on line 1"
       ]
      }
     ],
     "prompt_number": 12
    },
    {
     "cell_type": "code",
     "collapsed": false,
     "input": [
      "+(v::Vector2D, w::Vector2D) = Vector2D(v.x+w.x, v.y+w.y)"
     ],
     "language": "python",
     "metadata": {},
     "outputs": [
      {
       "metadata": {},
       "output_type": "pyout",
       "prompt_number": 13,
       "text": [
        "+ (generic function with 127 methods)"
       ]
      }
     ],
     "prompt_number": 13
    },
    {
     "cell_type": "code",
     "collapsed": false,
     "input": [
      "v + w"
     ],
     "language": "python",
     "metadata": {},
     "outputs": [
      {
       "metadata": {},
       "output_type": "pyout",
       "prompt_number": 14,
       "text": [
        "Vector2D(8.0,10.0)"
       ]
      }
     ],
     "prompt_number": 14
    },
    {
     "cell_type": "code",
     "collapsed": false,
     "input": [
      "*(v::Vector2D, \u03b1::Number) = Vector2D(v.x*\u03b1, v.y*\u03b1)"
     ],
     "language": "python",
     "metadata": {},
     "outputs": [
      {
       "metadata": {},
       "output_type": "pyout",
       "prompt_number": 15,
       "text": [
        "* (generic function with 128 methods)"
       ]
      }
     ],
     "prompt_number": 15
    },
    {
     "cell_type": "code",
     "collapsed": false,
     "input": [
      "v * 3.5"
     ],
     "language": "python",
     "metadata": {},
     "outputs": [
      {
       "metadata": {},
       "output_type": "pyout",
       "prompt_number": 16,
       "text": [
        "Vector2D(10.5,14.0)"
       ]
      }
     ],
     "prompt_number": 16
    },
    {
     "cell_type": "code",
     "collapsed": false,
     "input": [
      "# The equivalent of the Python __repr__ method for an object is to extend the show method\n",
      "\n",
      "import Base.show\n",
      "\n",
      "show(io::IO, v::Vector2D) = print(io, \"[$(v.x), $(v.y)]\")"
     ],
     "language": "python",
     "metadata": {},
     "outputs": [
      {
       "metadata": {},
       "output_type": "pyout",
       "prompt_number": 17,
       "text": [
        "show (generic function with 90 methods)"
       ]
      }
     ],
     "prompt_number": 17
    },
    {
     "cell_type": "code",
     "collapsed": false,
     "input": [
      "v"
     ],
     "language": "python",
     "metadata": {},
     "outputs": [
      {
       "metadata": {},
       "output_type": "pyout",
       "prompt_number": 18,
       "text": [
        "[3.0, 4.0]"
       ]
      }
     ],
     "prompt_number": 18
    },
    {
     "cell_type": "markdown",
     "metadata": {},
     "source": [
      "## Parameterized types"
     ]
    },
    {
     "cell_type": "code",
     "collapsed": false,
     "input": [
      "immutable Vector2D{T <: Real}\n",
      "    x::T\n",
      "    y::T\n",
      "end "
     ],
     "language": "python",
     "metadata": {},
     "outputs": []
    }
   ],
   "metadata": {}
  }
 ]
}