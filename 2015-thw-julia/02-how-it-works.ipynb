{
 "metadata": {
  "language": "Julia",
  "name": "",
  "signature": "sha256:9c7ebcce3738da1d1ecd639ec4ec2ee45f2d2abcc8bcbbf05e7e53c7d25d1c71"
 },
 "nbformat": 3,
 "nbformat_minor": 0,
 "worksheets": [
  {
   "cells": [
    {
     "cell_type": "markdown",
     "metadata": {},
     "source": [
      "# Julia compiles functions just-in-time (JIT)"
     ]
    },
    {
     "cell_type": "code",
     "collapsed": false,
     "input": [
      "function pi_sum(n)\n",
      "    sum = 0\n",
      "    for k = 1:n\n",
      "        sum += 1.0/(k*k)\n",
      "    end\n",
      "    return sum\n",
      "end"
     ],
     "language": "python",
     "metadata": {},
     "outputs": [
      {
       "metadata": {},
       "output_type": "pyout",
       "prompt_number": 12,
       "text": [
        "pi_sum (generic function with 1 method)"
       ]
      }
     ],
     "prompt_number": 12
    },
    {
     "cell_type": "code",
     "collapsed": false,
     "input": [
      "# The first time you run it for a given argument type, the function is compiled\n",
      " pi_sum(1000000)"
     ],
     "language": "python",
     "metadata": {},
     "outputs": [
      {
       "output_type": "stream",
       "stream": "stdout",
       "text": [
        "elapsed time: 0."
       ]
      },
      {
       "output_type": "stream",
       "stream": "stdout",
       "text": [
        "007835417 seconds (96 bytes allocated)\n"
       ]
      },
      {
       "metadata": {},
       "output_type": "pyout",
       "prompt_number": 15,
       "text": [
        "1.64493306684877"
       ]
      }
     ],
     "prompt_number": 15
    },
    {
     "cell_type": "code",
     "collapsed": false,
     "input": [
      "# show native machine code...\n",
      "# (about the same thing you'd get if you compiled C code)\n",
      "code_native(pi_sum, (Int32,))"
     ],
     "language": "python",
     "metadata": {},
     "outputs": [
      {
       "output_type": "stream",
       "stream": "stdout",
       "text": [
        "\t.text\n",
        "Filename: In[5]\n",
        "Source line: 4\n",
        "\tpush\tRBP\n",
        "\tmov\tRBP, RSP\n",
        "\txorps\tXMM0, XMM0\n",
        "\ttest\tEDI, EDI\n",
        "\tjle\t63\n",
        "\tmovsxd\tRAX, EDI\n",
        "\tmov\tECX, 1\n",
        "\txorps\tXMM0, XMM0\n",
        "\tmovabs\tRDX, 140275987957600\n",
        "\tmovsd\tXMM1, QWORD PTR [RDX]\n",
        "Source line: 4\n",
        "\tmov\tRDX, RCX\n",
        "\timul\tRDX, RDX\n",
        "\txorps\tXMM3, XMM3\n",
        "\tcvtsi2sd\tXMM3, RDX\n",
        "\tmovaps\tXMM2, XMM1\n",
        "\tdivsd\tXMM2, XMM3\n",
        "Source line: 3\n",
        "\tinc\tRCX\n",
        "Source line: 4\n",
        "\tdec\tRAX\n",
        "\taddsd\tXMM0, XMM2\n",
        "\tjne\t-38\n",
        "Source line: 6\n",
        "\tpop\tRBP\n",
        "\tret\n"
       ]
      }
     ],
     "prompt_number": 9
    },
    {
     "cell_type": "markdown",
     "metadata": {},
     "source": [
      "### built on LLVM\n",
      "\n",
      "* LLVM is a library for writing compilers\n",
      "* The Clang C compiler is also built on LLVM\n",
      "\n",
      "### Data flow inference\n"
     ]
    }
   ],
   "metadata": {}
  }
 ]
}