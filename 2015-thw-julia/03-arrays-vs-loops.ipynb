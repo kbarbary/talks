{
 "metadata": {
  "language": "Julia",
  "name": "",
  "signature": "sha256:5ae9201dceddbb7fd5bf91836d3a5fa4bc7b8af9ba758d6a0597a04134d77e6b"
 },
 "nbformat": 3,
 "nbformat_minor": 0,
 "worksheets": [
  {
   "cells": [
    {
     "cell_type": "markdown",
     "metadata": {},
     "source": [
      "# Why do I care again? Array operations vs loops.\n",
      "\n",
      "*I use vectorized operations in (NumPy/R/Matlab/...) for speed! I don't need to write loops.*\n",
      "\n",
      "The message in Julia is *not* that you shouldn't write vectorized code. You can write vectorized code when it is natural, but you don't have to write vectorized code *just* for the sake of speed. Sometimes it's more natural to write a loop. For example:\n",
      "\n",
      "* cumulative operations\n",
      "* moving window operations\n",
      "* conditional operations on a vector\n",
      "* iterative algorithms\n",
      "\n",
      "And occationally, you might want to write loops for optimization...\n",
      "\n",
      "## Using Array operations"
     ]
    },
    {
     "cell_type": "code",
     "collapsed": false,
     "input": [
      "# two 200 x 200 matricies\n",
      "n = 200\n",
      "A = rand(n, n)\n",
      "B = rand(n, n);"
     ],
     "language": "python",
     "metadata": {},
     "outputs": [],
     "prompt_number": 0
    },
    {
     "cell_type": "code",
     "collapsed": false,
     "input": [
      "f(A, B) = 2A + 3B + 4A.*A"
     ],
     "language": "python",
     "metadata": {},
     "outputs": [
      {
       "metadata": {},
       "output_type": "pyout",
       "prompt_number": 1,
       "text": [
        "f (generic function with 1 method)"
       ]
      }
     ],
     "prompt_number": 1
    },
    {
     "cell_type": "code",
     "collapsed": false,
     "input": [
      "using TimeIt"
     ],
     "language": "python",
     "metadata": {},
     "outputs": [],
     "prompt_number": 2
    },
    {
     "cell_type": "code",
     "collapsed": false,
     "input": [
      "@timeit f(A, B);"
     ],
     "language": "python",
     "metadata": {},
     "outputs": [
      {
       "output_type": "stream",
       "stream": "stdout",
       "text": [
        "1000 loops, best of 3: "
       ]
      },
      {
       "output_type": "stream",
       "stream": "stdout",
       "text": [
        "925.69 \u00b5s per loop\n"
       ]
      }
     ],
     "prompt_number": 2
    },
    {
     "cell_type": "markdown",
     "metadata": {},
     "source": [
      "This is easy to read, but allocates many temporary arrays.\n",
      "\n",
      "## Explicit loops"
     ]
    },
    {
     "cell_type": "code",
     "collapsed": false,
     "input": [
      "function f2(A, B)\n",
      "    length(A) == length(B) || error(\"array length mismatch\")\n",
      "    C = similar(A, promote_type(eltype(A),eltype(B)))\n",
      "    for i=1:length(C)\n",
      "        @inbounds a = A[i]\n",
      "        @inbounds C[i] = 2a + 3B[i] + 4a*a\n",
      "    end\n",
      "    return C\n",
      "end"
     ],
     "language": "python",
     "metadata": {},
     "outputs": [
      {
       "metadata": {},
       "output_type": "pyout",
       "prompt_number": 3,
       "text": [
        "f2 (generic function with 1 method)"
       ]
      }
     ],
     "prompt_number": 3
    },
    {
     "cell_type": "code",
     "collapsed": false,
     "input": [
      "@timeit f2(A, B)"
     ],
     "language": "python",
     "metadata": {},
     "outputs": [
      {
       "output_type": "stream",
       "stream": "stdout",
       "text": [
        "1000 loops, best of 3: "
       ]
      },
      {
       "output_type": "stream",
       "stream": "stdout",
       "text": [
        "154.49 \u00b5s per loop\n"
       ]
      }
     ],
     "prompt_number": 4
    },
    {
     "cell_type": "markdown",
     "metadata": {},
     "source": [
      "## Pre-allocate output"
     ]
    },
    {
     "cell_type": "code",
     "collapsed": false,
     "input": [
      "function f3!(A, B, C)\n",
      "    length(A) == length(B) == length(C) || error(\"array length mismatch\")\n",
      "    for i=1:length(C)\n",
      "        a = A[i]\n",
      "        C[i] = 2a + 3B[i] + 4a*a\n",
      "    end\n",
      "end"
     ],
     "language": "python",
     "metadata": {},
     "outputs": [
      {
       "metadata": {},
       "output_type": "pyout",
       "prompt_number": 7,
       "text": [
        "f3! (generic function with 1 method)"
       ]
      }
     ],
     "prompt_number": 7
    },
    {
     "cell_type": "code",
     "collapsed": false,
     "input": [
      "C = similar(A, promote_type(eltype(A),eltype(B)))\n",
      "@timeit f3!(A, B, C)"
     ],
     "language": "python",
     "metadata": {},
     "outputs": [
      {
       "output_type": "stream",
       "stream": "stdout",
       "text": [
        "10000 loops, best of 3: "
       ]
      },
      {
       "output_type": "stream",
       "stream": "stdout",
       "text": [
        "60.97 \u00b5s per loop\n"
       ]
      }
     ],
     "prompt_number": 8
    },
    {
     "cell_type": "code",
     "collapsed": false,
     "input": [],
     "language": "python",
     "metadata": {},
     "outputs": []
    }
   ],
   "metadata": {}
  }
 ]
}