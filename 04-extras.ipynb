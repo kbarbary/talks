{
 "metadata": {
  "language": "Julia",
  "name": "",
  "signature": "sha256:c46b7586b0335617ddfdf5cab0cec34de63ce7ad996ac1f776385f0fb21c4487"
 },
 "nbformat": 3,
 "nbformat_minor": 0,
 "worksheets": [
  {
   "cells": [
    {
     "cell_type": "markdown",
     "metadata": {},
     "source": [
      "# Extra Features"
     ]
    },
    {
     "cell_type": "markdown",
     "metadata": {},
     "source": [
      "## Packages\n",
      "\n",
      "There's a rapidly growing package ecosystem. See http://pkg.julialang.org"
     ]
    },
    {
     "cell_type": "code",
     "collapsed": false,
     "input": [
      "# \"using\" exports certain things from module into current namespace\n",
      "# \"import\" does not.\n",
      "using DustExtinction\n",
      "import DustExtinction"
     ],
     "language": "python",
     "metadata": {},
     "outputs": [],
     "prompt_number": 3
    },
    {
     "cell_type": "code",
     "collapsed": false,
     "input": [
      "DustExtinction.ccm89(4000., 3.1)"
     ],
     "language": "python",
     "metadata": {},
     "outputs": [
      {
       "metadata": {},
       "output_type": "pyout",
       "prompt_number": 4,
       "text": [
        "1.4645557029425842"
       ]
      }
     ],
     "prompt_number": 4
    },
    {
     "cell_type": "code",
     "collapsed": false,
     "input": [
      "ccm89(4000.0, 3.1)"
     ],
     "language": "python",
     "metadata": {},
     "outputs": [
      {
       "metadata": {},
       "output_type": "pyout",
       "prompt_number": 2,
       "text": [
        "1.4645557029425842"
       ]
      }
     ],
     "prompt_number": 2
    },
    {
     "cell_type": "markdown",
     "metadata": {},
     "source": [
      "## Calling compiled code\n",
      "\n",
      "You can call external compiled code directly from Julia. The function call overhead is the same as in C."
     ]
    },
    {
     "cell_type": "code",
     "collapsed": false,
     "input": [
      "# C signature:\n",
      "# char *getenv(const char *name)\n",
      "#\n",
      "#            function library   return type  input types    input values\n",
      "path = ccall((:getenv, \"libc\"), Ptr{Uint8}, (Ptr{Uint8},), \"SHELL\")\n",
      "bytestring(path)"
     ],
     "language": "python",
     "metadata": {},
     "outputs": [
      {
       "metadata": {},
       "output_type": "pyout",
       "prompt_number": 7,
       "text": [
        "\"/bin/bash\""
       ]
      }
     ],
     "prompt_number": 7
    },
    {
     "cell_type": "markdown",
     "metadata": {},
     "source": [
      "## Macros (\"metaprogramming\")\n",
      "\n",
      "Macros are functions operate on expressions (code) rather than values: whereas a function takes input value(s), say `3` and returns some output value, say 9, a macro takes input expression(s), say `x` and returns an output expression, say `x^2`.\n",
      "\n",
      "One might also say that macros rewrite or generate code.\n",
      "\n",
      "Here is an example of why we might want to do this:"
     ]
    },
    {
     "cell_type": "code",
     "collapsed": false,
     "input": [
      "x = rand(5)\n",
      "\n",
      "# suppose we want to time an element-wise square\n",
      "t1 = time_ns()\n",
      "x.^2\n",
      "t2 = time_ns()\n",
      "println(t2-t1, \" nanoseconds\")"
     ],
     "language": "python",
     "metadata": {},
     "outputs": [
      {
       "output_type": "stream",
       "stream": "stdout",
       "text": [
        "14037168 nanoseconds"
       ]
      },
      {
       "output_type": "stream",
       "stream": "stdout",
       "text": [
        "\n"
       ]
      }
     ],
     "prompt_number": 9
    },
    {
     "cell_type": "code",
     "collapsed": false,
     "input": [
      "@time x.^2"
     ],
     "language": "python",
     "metadata": {},
     "outputs": [
      {
       "output_type": "stream",
       "stream": "stdout",
       "text": [
        "elapsed time: 1"
       ]
      },
      {
       "output_type": "stream",
       "stream": "stdout",
       "text": [
        ".2744e-5 seconds (224 bytes allocated)\n"
       ]
      },
      {
       "metadata": {},
       "output_type": "pyout",
       "prompt_number": 10,
       "text": [
        "5-element Array{Float64,1}:\n",
        " 0.0027818\n",
        " 0.945088 \n",
        " 0.083452 \n",
        " 0.0179883\n",
        " 0.90406  "
       ]
      }
     ],
     "prompt_number": 10
    },
    {
     "cell_type": "code",
     "collapsed": false,
     "input": [
      "macroexpand(:(@time x.^2))"
     ],
     "language": "python",
     "metadata": {},
     "outputs": [
      {
       "metadata": {},
       "output_type": "pyout",
       "prompt_number": 16,
       "text": [
        "quote  # util.jl, line 53:\n",
        "    local #376#b0 = Base.gc_bytes() # line 54:\n",
        "    local #377#t0 = Base.time_ns() # line 55:\n",
        "    local #378#g0 = Base.gc_time_ns() # line 56:\n",
        "    local #379#val = x.^2 # line 57:\n",
        "    local #380#g1 = Base.gc_time_ns() # line 58:\n",
        "    local #381#t1 = Base.time_ns() # line 59:\n",
        "    local #382#b1 = Base.gc_bytes() # line 60:\n",
        "    Base.time_print(Base.-(#381#t1,#377#t0),Base.-(#382#b1,#376#b0),Base.-(#380#g1,#378#g0)) # line 61:\n",
        "    #379#val\n",
        "end"
       ]
      }
     ],
     "prompt_number": 16
    },
    {
     "cell_type": "markdown",
     "metadata": {},
     "source": [
      "Macros can also be used to generate repetitive blocks of code. This is used extensively in the packages that wrap C code.\n",
      "\n",
      "For example:"
     ]
    },
    {
     "cell_type": "code",
     "collapsed": false,
     "input": [
      "using FITSIO"
     ],
     "language": "python",
     "metadata": {},
     "outputs": [],
     "prompt_number": 17
    },
    {
     "cell_type": "code",
     "collapsed": false,
     "input": [
      "# look at the source for fits_open_file\n",
      "methods(fits_open_file)"
     ],
     "language": "python",
     "metadata": {},
     "outputs": [
      {
       "html": [
        "2 methods for generic function <b>fits_open_file</b>:<ul><li> fits_open_file(filename::<b>String</b>) at <a href=\"https://github.com/kbarbary/FITSIO.jl/tree/8c51c739b70cf751cad50c689ce0913cf1be589a/src/cfitsio.jl#L122\" target=\"_blank\">/home/kyle/.julia/v0.3/FITSIO/src/cfitsio.jl:122</a><li> fits_open_file(filename::<b>String</b>,mode::<b>Int64</b>) at <a href=\"https://github.com/kbarbary/FITSIO.jl/tree/8c51c739b70cf751cad50c689ce0913cf1be589a/src/cfitsio.jl#L122\" target=\"_blank\">/home/kyle/.julia/v0.3/FITSIO/src/cfitsio.jl:122</a></ul>"
       ],
       "metadata": {},
       "output_type": "pyout",
       "prompt_number": 18,
       "text": [
        "# 2 methods for generic function \"fits_open_file\":\n",
        "fits_open_file(filename::String) at /home/kyle/.julia/v0.3/FITSIO/src/cfitsio.jl:122\n",
        "fits_open_file(filename::String,mode::Int64) at /home/kyle/.julia/v0.3/FITSIO/src/cfitsio.jl:122"
       ]
      }
     ],
     "prompt_number": 18
    },
    {
     "cell_type": "markdown",
     "metadata": {},
     "source": [
      "# Wrapping up: What's the catch?\n",
      "\n",
      "* Julia limits slightly what you can do (but you probably won't notice).\n",
      "* Julia trades codespace (memory footprint of the code itself) for speed (a reasonable tradeoff).\n",
      "* Start-up time is not as fast as interpreted languages: Julia is not as good for very short scripts\n",
      "\n",
      "# Caveats for the user\n",
      "\n",
      "* Julia is a still-evolving language at version 0.3. (You may have to update parts of your code with every new release.)\n",
      "* The package ecosystem is still quite small (but growing rapidly).\n"
     ]
    }
   ],
   "metadata": {}
  }
 ]
}