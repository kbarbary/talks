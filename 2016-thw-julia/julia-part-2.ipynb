{
 "cells": [
  {
   "cell_type": "markdown",
   "metadata": {},
   "source": [
    "# Julia from Pythonic perspective\n",
    "\n",
    "Julia and Python have a lot of similarities...\n",
    "\n",
    "![profjsb on twitter](profjsb-python4.png)\n",
    "\n",
    "https://twitter.com/profjsb/status/523325641702117377"
   ]
  },
  {
   "cell_type": "markdown",
   "metadata": {},
   "source": [
    "# Julia has similar semantics to Python\n",
    "\n",
    "One of the best things about coming to Julia from Python is that the languages are quite similar in *semantics*.\n",
    "Specifically, the way variables are assigned and passed to functions is identical. While you have to remember the surface syntax differences, you don't have to re-learn how to *think* about your code.\n",
    "\n",
    "## Assignment of names"
   ]
  },
  {
   "cell_type": "code",
   "execution_count": 5,
   "metadata": {
    "collapsed": false
   },
   "outputs": [
    {
     "data": {
      "text/plain": [
       "4-element Array{Float64,1}:\n",
       " 1.0\n",
       " 2.0\n",
       " 3.0\n",
       " 4.0"
      ]
     },
     "execution_count": 5,
     "metadata": {},
     "output_type": "execute_result"
    }
   ],
   "source": [
    "a = [1.0, 2.0, 3.0, 4.0] # some array"
   ]
  },
  {
   "cell_type": "code",
   "execution_count": 4,
   "metadata": {
    "collapsed": false
   },
   "outputs": [
    {
     "data": {
      "text/plain": [
       "4-element Array{Float64,1}:\n",
       " 5.0\n",
       " 2.0\n",
       " 3.0\n",
       " 4.0"
      ]
     },
     "execution_count": 4,
     "metadata": {},
     "output_type": "execute_result"
    }
   ],
   "source": [
    "b = a  # assign the name \"b\" to the same array that 'a' is pointing to.\n",
    "b[1] = 5.0  # modify the first element in that array\n",
    "a  # change is reflected in a"
   ]
  },
  {
   "cell_type": "markdown",
   "metadata": {},
   "source": [
    "## Function calls: pass by sharing"
   ]
  },
  {
   "cell_type": "code",
   "execution_count": 9,
   "metadata": {
    "collapsed": false
   },
   "outputs": [
    {
     "data": {
      "text/plain": [
       "double! (generic function with 1 method)"
      ]
     },
     "execution_count": 9,
     "metadata": {},
     "output_type": "execute_result"
    }
   ],
   "source": [
    "# define a function that modifies an array\n",
    "function double!(x)\n",
    "    for i=1:length(x)\n",
    "        x[i] *= 2.0\n",
    "    end\n",
    "end"
   ]
  },
  {
   "cell_type": "code",
   "execution_count": 11,
   "metadata": {
    "collapsed": false
   },
   "outputs": [
    {
     "data": {
      "text/plain": [
       "4-element Array{Float64,1}:\n",
       " 1.0\n",
       " 2.0\n",
       " 3.0\n",
       " 4.0"
      ]
     },
     "execution_count": 11,
     "metadata": {},
     "output_type": "execute_result"
    }
   ],
   "source": [
    "a = [1.0, 2.0, 3.0, 4.0]"
   ]
  },
  {
   "cell_type": "code",
   "execution_count": 12,
   "metadata": {
    "collapsed": false
   },
   "outputs": [
    {
     "name": "stdout",
     "output_type": "stream",
     "text": [
      "[2.0,4.0,6.0,8.0]\n"
     ]
    }
   ],
   "source": [
    "double!(a)\n",
    "println(a)  # modification is reflected to caller, because there was only ever one array!"
   ]
  },
  {
   "cell_type": "code",
   "execution_count": 14,
   "metadata": {
    "collapsed": false
   },
   "outputs": [
    {
     "name": "stdout",
     "output_type": "stream",
     "text": [
      "[8.0,8.0,12.0,16.0]\n"
     ]
    }
   ],
   "source": [
    "# do it again just for fun.\n",
    "double!(a)\n",
    "println(a)"
   ]
  },
  {
   "cell_type": "markdown",
   "metadata": {},
   "source": [
    "**Your hard work learning Python will transfer well to Julia.**\n",
    "\n",
    "For more on how both languages treat names and values, http://nedbatchelder.com/text/names1.html is a great reference.\n",
    "\n",
    "# Julia unifies Python \"lists\" and ndarrays\n",
    "\n",
    "In Python, most of us are heavy users of numpy, which provides a `ndarray` class for homogenous arrays. On the other hand, we also have Python's built-in `list` type, which are heterogeneous 1-d arrays. It can sometimes be awkward dealing with two types that have such overlapping functionality. I end up starting a lot of functions with `x = np.asarray(x)`.\n",
    "\n",
    "In Julia, heterogeneous and homogeneous arrays are unified into a single (parameterized) type:"
   ]
  },
  {
   "cell_type": "code",
   "execution_count": 19,
   "metadata": {
    "collapsed": false
   },
   "outputs": [
    {
     "data": {
      "text/plain": [
       "4-element Array{Any,1}:\n",
       "  1.0     \n",
       "  2       \n",
       "   \"three\"\n",
       " 4+0im    "
      ]
     },
     "execution_count": 19,
     "metadata": {},
     "output_type": "execute_result"
    }
   ],
   "source": [
    "# equivalent of Python list or ndarray with dtype='object'\n",
    "a = [1.0, 2, \"three\", 4+0im]"
   ]
  },
  {
   "cell_type": "code",
   "execution_count": 17,
   "metadata": {
    "collapsed": false
   },
   "outputs": [
    {
     "data": {
      "text/plain": [
       "Array{Any,1}"
      ]
     },
     "execution_count": 17,
     "metadata": {},
     "output_type": "execute_result"
    }
   ],
   "source": [
    "typeof(a)  # a is an array of heterogenous objects"
   ]
  },
  {
   "cell_type": "code",
   "execution_count": 18,
   "metadata": {
    "collapsed": false
   },
   "outputs": [
    {
     "data": {
      "text/plain": [
       "4-element Array{Any,1}:\n",
       " Float64       \n",
       " Int64         \n",
       " ASCIIString   \n",
       " Complex{Int64}"
      ]
     },
     "execution_count": 18,
     "metadata": {},
     "output_type": "execute_result"
    }
   ],
   "source": [
    "map(typeof, a)"
   ]
  },
  {
   "cell_type": "code",
   "execution_count": 22,
   "metadata": {
    "collapsed": false
   },
   "outputs": [
    {
     "data": {
      "text/plain": [
       "Array{Float64,1}"
      ]
     },
     "execution_count": 22,
     "metadata": {},
     "output_type": "execute_result"
    }
   ],
   "source": [
    "# equivalent of Python ndarray with dtype=float64\n",
    "b = [1.0, 2.0, 3.0, 4.0]\n",
    "typeof(b)"
   ]
  },
  {
   "cell_type": "code",
   "execution_count": 24,
   "metadata": {
    "collapsed": false
   },
   "outputs": [
    {
     "data": {
      "text/plain": [
       "Array{Float64,1}"
      ]
     },
     "execution_count": 24,
     "metadata": {},
     "output_type": "execute_result"
    }
   ],
   "source": [
    "typeof(b)"
   ]
  },
  {
   "cell_type": "code",
   "execution_count": 27,
   "metadata": {
    "collapsed": false
   },
   "outputs": [
    {
     "data": {
      "text/plain": [
       "32"
      ]
     },
     "execution_count": 27,
     "metadata": {},
     "output_type": "execute_result"
    }
   ],
   "source": [
    "# array only takes up 4 * 8 bytes, just as a \n",
    "sizeof(b)"
   ]
  },
  {
   "cell_type": "markdown",
   "metadata": {},
   "source": [
    "## Arrays easily extensible to new \"dtypes\"\n",
    "\n",
    "You can't do this efficiently in NumPy, though people are working on this."
   ]
  },
  {
   "cell_type": "code",
   "execution_count": 29,
   "metadata": {
    "collapsed": true
   },
   "outputs": [],
   "source": [
    "immutable Point\n",
    "    x::Float64\n",
    "    y::Float64\n",
    "end"
   ]
  },
  {
   "cell_type": "code",
   "execution_count": 31,
   "metadata": {
    "collapsed": false
   },
   "outputs": [
    {
     "data": {
      "text/plain": [
       "3-element Array{Point,1}:\n",
       " Point(0.0,0.0)\n",
       " Point(0.0,0.0)\n",
       " Point(0.0,0.0)"
      ]
     },
     "execution_count": 31,
     "metadata": {},
     "output_type": "execute_result"
    }
   ],
   "source": [
    "x = [Point(0., 0.), Point(0., 0.), Point(0., 0.)]"
   ]
  },
  {
   "cell_type": "code",
   "execution_count": 33,
   "metadata": {
    "collapsed": false
   },
   "outputs": [
    {
     "data": {
      "text/plain": [
       "48"
      ]
     },
     "execution_count": 33,
     "metadata": {},
     "output_type": "execute_result"
    }
   ],
   "source": [
    "sizeof(x)  # points are stored efficiently in-line"
   ]
  },
  {
   "cell_type": "markdown",
   "metadata": {},
   "source": [
    "This often means that you can design the code much more naturally than in Python. For performance in Python, you'd have to do something like\n",
    "\n",
    "```python\n",
    "class Points(object):\n",
    "    \"\"\"A container for two arrays giving x and y coordinates.\"\"\"\n",
    "\n",
    "    def __init__(self, x, y):\n",
    "        self.x = x\n",
    "        self.y = y\n",
    "\n",
    "    def __getattr__(self, i):\n",
    "        return (self.x[i], self.y[i])\n",
    "        \n",
    "    # ... other methods that operate element-wise\n",
    "```\n",
    "\n",
    "What you really want is a `Point` object, but if you write classes that way in Python, performance will suffer."
   ]
  },
  {
   "cell_type": "markdown",
   "metadata": {},
   "source": [
    "**Real-world example of this pattern:** https://github.com/kbarbary/SkyCoords.jl"
   ]
  },
  {
   "cell_type": "markdown",
   "metadata": {},
   "source": [
    "# Sane built-in package manager\n",
    "\n",
    "Packages and managing dependencies are super important. Julia's `Pkg` is declarative (like conda). It's not the mess that pip is!\n",
    "\n",
    "```julia\n",
    "Pkg.add(\"Cosmology\")\n",
    "```\n",
    "would add \"Cosmology\" to the requirements:"
   ]
  },
  {
   "cell_type": "code",
   "execution_count": 36,
   "metadata": {
    "collapsed": false
   },
   "outputs": [
    {
     "name": "stdout",
     "output_type": "stream",
     "text": [
      "IJulia\n",
      "Cosmology\n",
      "ERFA\n",
      "ForwardDiff\n",
      "Requests\n",
      "HTTPClient\n",
      "DocOpt\n",
      "Example\n",
      "Gadfly\n",
      "Winston\n"
     ]
    }
   ],
   "source": [
    ";cat ~/.julia/v0.4/REQUIRE"
   ]
  },
  {
   "cell_type": "markdown",
   "metadata": {},
   "source": [
    "Julia figures out dependencies and installs the optimal version of every package to satisfy dependencies minimally"
   ]
  },
  {
   "cell_type": "code",
   "execution_count": 42,
   "metadata": {
    "collapsed": false
   },
   "outputs": [
    {
     "name": "stdout",
     "output_type": "stream",
     "text": [
      "AperturePhotometry\n",
      "ArrayViews\n",
      "Benchmarks\n",
      "BinDeps\n",
      "Blosc\n",
      "BufferedStreams\n",
      "Cairo\n",
      "Calculus\n",
      "Celeste\n",
      "Clustering\n",
      "Codecs\n",
      "Colors\n",
      "ColorTypes\n",
      "Compat\n",
      "Compose\n",
      "Conda\n",
      "Contour\n",
      "Cosmology\n",
      "DataArrays\n",
      "DataFrames\n",
      "DataStructures\n",
      "Dates\n",
      "Dierckx\n",
      "Distances\n",
      "Distributions\n",
      "Docile\n",
      "DocOpt\n",
      "DualNumbers\n",
      "DustExtinction\n",
      "ERFA\n",
      "Example\n",
      "FileIO\n",
      "FITSIO\n",
      "FixedPointNumbers\n",
      "ForwardDiff\n",
      "Gadfly\n",
      "GaussianMixtures\n",
      "Graphics\n",
      "Grid\n",
      "GZip\n",
      "HDF5\n",
      "Hexagons\n",
      "HTTPClient\n",
      "HttpCommon\n",
      "HttpParser\n",
      "IJulia\n",
      "ImmutableArrays\n",
      "IniFile\n",
      "Iterators\n",
      "JLD\n",
      "JSON\n",
      "KernelDensity\n",
      "LibCURL\n",
      "Libz\n",
      "Loess\n",
      "MbedTLS\n",
      "Measures\n",
      "META_BRANCH\n",
      "METADATA\n",
      "NaNMath\n",
      "NestedSampling\n",
      "Nettle\n",
      "Optim\n",
      "PDMats\n",
      "PSFModels\n",
      "Reexport\n",
      "Requests\n",
      "REQUIRE\n",
      "SHA\n",
      "Showoff\n",
      "SkyCoords\n",
      "SloanDigitalSkySurvey\n",
      "SortingAlgorithms\n",
      "SourceExtract\n",
      "StatsBase\n",
      "StatsFuns\n",
      "TimeIt\n",
      "Tk\n",
      "URIParser\n",
      "WCS\n",
      "Winston\n",
      "WoodburyMatrices\n",
      "ZMQ\n"
     ]
    }
   ],
   "source": [
    ";ls ~/.julia/v0.4"
   ]
  },
  {
   "cell_type": "markdown",
   "metadata": {},
   "source": [
    "# Writing performance-sensitive code (the big win)\n",
    "\n",
    "Suppose you're doing some array operations, and it turns out to be a bottleneck:"
   ]
  },
  {
   "cell_type": "code",
   "execution_count": 43,
   "metadata": {
    "collapsed": true
   },
   "outputs": [],
   "source": [
    "# two 200 x 200 matricies\n",
    "n = 200\n",
    "A = rand(n, n)\n",
    "B = rand(n, n);"
   ]
  },
  {
   "cell_type": "code",
   "execution_count": 44,
   "metadata": {
    "collapsed": false
   },
   "outputs": [
    {
     "data": {
      "text/plain": [
       "f (generic function with 2 methods)"
      ]
     },
     "execution_count": 44,
     "metadata": {},
     "output_type": "execute_result"
    }
   ],
   "source": [
    "f(A, B) = 2A + 3B + 4A.*A  # function we want to optimize"
   ]
  },
  {
   "cell_type": "code",
   "execution_count": 45,
   "metadata": {
    "collapsed": true
   },
   "outputs": [],
   "source": [
    "using TimeIt"
   ]
  },
  {
   "cell_type": "code",
   "execution_count": 46,
   "metadata": {
    "collapsed": false
   },
   "outputs": [
    {
     "name": "stdout",
     "output_type": "stream",
     "text": [
      "1000 loops, best of 3: 312.71 µs per loop\n"
     ]
    }
   ],
   "source": [
    "@timeit f(A, B);"
   ]
  },
  {
   "cell_type": "markdown",
   "metadata": {},
   "source": [
    "## Python version\n",
    "\n",
    "We get similar performance in Python:\n",
    "\n",
    "```python\n",
    "In [5]: n = 200\n",
    "\n",
    "In [6]: from numpy.random import rand\n",
    "\n",
    "In [7]: A = rand(n, n);\n",
    "\n",
    "In [8]: B = rand(n, n);\n",
    "\n",
    "In [9]: %timeit 2 * A + 3 * B + 4 * A * A\n",
    "1000 loops, best of 3: 354 µs per loop\n",
    "```\n",
    "\n",
    "But if needed to optimize this further, we'd have to reach for a specialized tool such as cython, numba, ...\n",
    "\n",
    "## Optimize in Julia\n",
    "\n",
    "### Using loops"
   ]
  },
  {
   "cell_type": "code",
   "execution_count": 57,
   "metadata": {
    "collapsed": false
   },
   "outputs": [
    {
     "data": {
      "text/plain": [
       "f2 (generic function with 1 method)"
      ]
     },
     "execution_count": 57,
     "metadata": {},
     "output_type": "execute_result"
    }
   ],
   "source": [
    "function f2(A, B)\n",
    "    length(A) == length(B) || error(\"array length mismatch\")\n",
    "    C = similar(A, promote_type(eltype(A),eltype(B)))\n",
    "    @inbounds for i=1:length(C)\n",
    "        C[i] = 2A[i] + 3B[i] + 4A[i]*A[i]\n",
    "    end\n",
    "    return C\n",
    "end"
   ]
  },
  {
   "cell_type": "code",
   "execution_count": 58,
   "metadata": {
    "collapsed": false
   },
   "outputs": [
    {
     "name": "stdout",
     "output_type": "stream",
     "text": [
      "10000 loops, best of 3: 50.29 µs per loop\n"
     ]
    }
   ],
   "source": [
    "@timeit f2(A, B);"
   ]
  },
  {
   "cell_type": "markdown",
   "metadata": {},
   "source": [
    "### Using loops and pre-allocated memory"
   ]
  },
  {
   "cell_type": "code",
   "execution_count": 54,
   "metadata": {
    "collapsed": false
   },
   "outputs": [
    {
     "data": {
      "text/plain": [
       "f3! (generic function with 1 method)"
      ]
     },
     "execution_count": 54,
     "metadata": {},
     "output_type": "execute_result"
    }
   ],
   "source": [
    "function f3!(A, B, C)\n",
    "    length(A) == length(B) == length(C) || error(\"array length mismatch\")\n",
    "    @inbounds for i=1:length(C)\n",
    "        C[i] = 2A[i] + 3B[i] + 4A[i]*A[i]\n",
    "    end\n",
    "end"
   ]
  },
  {
   "cell_type": "code",
   "execution_count": 56,
   "metadata": {
    "collapsed": false
   },
   "outputs": [
    {
     "name": "stdout",
     "output_type": "stream",
     "text": [
      "10000 loops, best of 3: 33.98 µs per loop\n"
     ]
    }
   ],
   "source": [
    "C = similar(A, promote_type(eltype(A),eltype(B)))\n",
    "@timeit f3!(A, B, C);"
   ]
  },
  {
   "cell_type": "markdown",
   "metadata": {},
   "source": [
    "# Julia Downsides\n",
    "\n",
    "## Less mature package ecosystem\n",
    "\n",
    "- But rapidly expanding. Plus, `PyCall` is pretty good.\n",
    "\n",
    "## Slower start-up\n",
    "\n",
    "- Julia is about 5x - 10x slower on startup than Python (but this will probably improve in the future). It's not great for very short running scripts.\n",
    "- Module loading is still generally slower than in Python (this is improving with \"precompilation\" and will probably improve more in the future).\n",
    "\n",
    "## Dynamically dispatched code is slower than Python\n",
    "\n",
    "- If Julia can't infer a concrete type, it can be quite a bit slower than Python.\n",
    "\n",
    "\n",
    "## Small arrays are slower than Python\n",
    "\n",
    "- If you write Python-style array-oriented code in Julia, it is likely going to be a bit slower.\n",
    "- Python's memory management is really very good.\n",
    "\n",
    "\n",
    "## Binary dependency story is pretty good, but not as foolproof as conda\n",
    "\n",
    "- However, it's easier to make Julia packages than conda packages, and there's no dealing with two separate package managers or separate conda channels.\n",
    "\n",
    "## The language is still changing\n",
    "\n",
    "- Be ready to update your code once every ~9 months for the next few years. (Usually straightforward)"
   ]
  }
 ],
 "metadata": {
  "kernelspec": {
   "display_name": "Julia 0.4.2",
   "language": "julia",
   "name": "julia-0.4"
  },
  "language_info": {
   "file_extension": ".jl",
   "mimetype": "application/julia",
   "name": "julia",
   "version": "0.4.2"
  }
 },
 "nbformat": 4,
 "nbformat_minor": 0
}
